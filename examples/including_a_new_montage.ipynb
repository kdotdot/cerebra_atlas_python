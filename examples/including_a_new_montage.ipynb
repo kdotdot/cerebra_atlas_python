{
 "cells": [
  {
   "cell_type": "code",
   "execution_count": 1,
   "metadata": {},
   "outputs": [
    {
     "name": "stdout",
     "output_type": "stream",
     "text": [
      "Jupyter environment detected. Enabling Open3D WebVisualizer.\n",
      "[Open3D INFO] WebRTC GUI backend enabled.\n",
      "[Open3D INFO] WebRTCWindowSystem: HTTP handshake server disabled.\n"
     ]
    }
   ],
   "source": [
    "import mne\n",
    "from cerebra_atlas_python import CerebrA, setup_logging"
   ]
  },
  {
   "cell_type": "code",
   "execution_count": 2,
   "metadata": {},
   "outputs": [],
   "source": [
    "setup_logging()\n",
    "cerebra = CerebrA()"
   ]
  },
  {
   "cell_type": "code",
   "execution_count": 3,
   "metadata": {},
   "outputs": [],
   "source": [
    "cerebra.montage_name = \"GSN-HydroCel-129-downsample-109\"\n",
    "cerebra.head_size = 0.1027\n",
    "# cerebra.corregistration()  # Produce head-mri trans and save to subjects_dir/icbm152/trans.fif"
   ]
  },
  {
   "cell_type": "code",
   "execution_count": 6,
   "metadata": {},
   "outputs": [
    {
     "name": "stdout",
     "output_type": "stream",
     "text": [
      "/home/carlos/.cache/cerebra_atlas_python/cerebra/GSN-HydroCel-129-downsample-109_0.1027_src_space_3mm_bem_0.33_0.0042_0.33_ico_4-fwd.fif\n",
      "BEM              : <ConductorModel | BEM (3 layers) solver=mne>\n",
      "Source location file  : dict()\n",
      "Assuming input in millimeters\n",
      "Assuming input in MRI coordinates\n",
      "\n",
      "Positions (in meters) and orientations\n",
      "31553 sources\n"
     ]
    },
    {
     "name": "stderr",
     "output_type": "stream",
     "text": [
      " [DEBUG] 2024-07-01 17:20:06.651 mne_forward - compute_fn: Generating forward solution\n"
     ]
    },
    {
     "name": "stdout",
     "output_type": "stream",
     "text": [
      "BEM              : <ConductorModel | BEM (3 layers) solver=mne>\n",
      "Source location file  : dict()\n",
      "Assuming input in millimeters\n",
      "Assuming input in MRI coordinates\n",
      "\n",
      "Positions (in meters) and orientations\n",
      "31553 sources\n",
      "==================EEG True\n",
      "Source space          : <SourceSpaces: [<discrete, n_used=31553>] MRI (surface RAS) coords, ~1.9 MB>\n",
      "MRI -> head transform : instance of Transform\n",
      "Measurement data      : instance of Info\n",
      "Conductor model   : instance of ConductorModel\n",
      "Accurate field computations\n",
      "Do computations in head coordinates\n",
      "Free source orientations\n",
      "\n",
      "Read 1 source spaces a total of 31553 active source locations\n",
      "\n",
      "Coordinate transformation: MRI (surface RAS) -> head\n",
      "     0.999984 -0.000940  0.005563       0.65 mm\n",
      "     0.000515  0.997119  0.075845       6.44 mm\n",
      "    -0.005619 -0.075841  0.997104      57.73 mm\n",
      "     0.000000  0.000000  0.000000       1.00\n",
      "\n",
      "Read 109 EEG channels from info\n",
      "Head coordinate coil definitions created.\n",
      "Source spaces are now in head coordinates.\n",
      "\n",
      "Employing the head->MRI coordinate transform with the BEM model.\n",
      "BEM model instance of ConductorModel is now set up\n",
      "\n",
      "Source spaces are in head coordinates.\n",
      "Checking that the sources are inside the surface (will take a few...)\n",
      "Checking surface interior status for 31553 points...\n",
      "    Found 12952/31553 points inside  an interior sphere of radius   62.9 mm\n",
      "    Found     0/31553 points outside an exterior sphere of radius  101.6 mm\n",
      "    Found     0/18601 points outside using surface Qhull\n"
     ]
    },
    {
     "name": "stderr",
     "output_type": "stream",
     "text": [
      "[Parallel(n_jobs=-1)]: Using backend LokyBackend with 24 concurrent workers.\n"
     ]
    },
    {
     "name": "stdout",
     "output_type": "stream",
     "text": [
      "    Found     0/18601 points outside using solid angles\n",
      "    Total 31553/31553 points inside the surface\n",
      "Interior check completed in 1435.3 ms\n",
      "\n",
      "Setting up for EEG...\n"
     ]
    },
    {
     "name": "stderr",
     "output_type": "stream",
     "text": [
      "[Parallel(n_jobs=-1)]: Done   6 out of  24 | elapsed:    1.3s remaining:    3.8s\n",
      "[Parallel(n_jobs=-1)]: Done  11 out of  24 | elapsed:    1.3s remaining:    1.6s\n",
      "[Parallel(n_jobs=-1)]: Done  16 out of  24 | elapsed:    1.3s remaining:    0.7s\n",
      "[Parallel(n_jobs=-1)]: Done  21 out of  24 | elapsed:    1.4s remaining:    0.2s\n",
      "[Parallel(n_jobs=-1)]: Done  24 out of  24 | elapsed:    1.4s finished\n"
     ]
    },
    {
     "name": "stdout",
     "output_type": "stream",
     "text": [
      "Computing EEG at 31553 source locations (free orientations)...\n"
     ]
    },
    {
     "name": "stderr",
     "output_type": "stream",
     "text": [
      "[Parallel(n_jobs=-1)]: Using backend LokyBackend with 24 concurrent workers.\n",
      "[Parallel(n_jobs=-1)]: Done   6 out of  24 | elapsed:    1.7s remaining:    5.0s\n",
      "[Parallel(n_jobs=-1)]: Done  11 out of  24 | elapsed:    2.1s remaining:    2.5s\n",
      "[Parallel(n_jobs=-1)]: Done  16 out of  24 | elapsed:    2.6s remaining:    1.3s\n",
      "[Parallel(n_jobs=-1)]: Done  21 out of  24 | elapsed:    3.1s remaining:    0.4s\n",
      "[Parallel(n_jobs=-1)]: Done  24 out of  24 | elapsed:    3.4s finished\n"
     ]
    },
    {
     "name": "stdout",
     "output_type": "stream",
     "text": [
      "\n",
      "Finished.\n"
     ]
    },
    {
     "name": "stderr",
     "output_type": "stream",
     "text": [
      "/home/carlos/Carlos/cerebra_atlas_python/cerebra_atlas_python/data/_cache.py:97: RuntimeWarning: This filename (/home/carlos/.cache/cerebra_atlas_python/cerebra/GSN-HydroCel-129-downsample-109_0.1027_src_space_3mm_bem_0.33_0.0042_0.33_ico_4-fwd_764fcc4b86096cbf942a635234971c9502e99e7119cbd09745b08702c2aa67ca.fif) does not conform to MNE naming conventions. All forward files should end with -fwd.fif, -fwd.fif.gz, _fwd.fif, _fwd.fif.gz, -fwd.h5 or _fwd.h5\n",
      "  return mne.write_forward_solution(path, result, overwrite=True, verbose=False)\n",
      " [DEBUG] 2024-07-01 17:20:13.526 _cache - _cache: Saved result to /home/carlos/.cache/cerebra_atlas_python/cerebra/GSN-HydroCel-129-downsample-109_0.1027_src_space_3mm_bem_0.33_0.0042_0.33_ico_4-fwd_764fcc4b86096cbf942a635234971c9502e99e7119cbd09745b08702c2aa67ca.fif\n"
     ]
    },
    {
     "name": "stdout",
     "output_type": "stream",
     "text": [
      "BEM              : <ConductorModel | BEM (3 layers) solver=mne>\n",
      "Source location file  : dict()\n",
      "Assuming input in millimeters\n",
      "Assuming input in MRI coordinates\n",
      "\n",
      "Positions (in meters) and orientations\n",
      "31553 sources\n"
     ]
    },
    {
     "name": "stderr",
     "output_type": "stream",
     "text": [
      " [DEBUG] 2024-07-01 17:20:14.32 __init__ - _load_stylesheet: Reading QSS file in: :qdarkstyle/dark/darkstyle.qss\n",
      " [INFO] 2024-07-01 17:20:14.33 __init__ - _load_stylesheet: QSS file successfully loaded.\n",
      " [DEBUG] 2024-07-01 17:20:14.33 __init__ - _load_stylesheet: Checking patches for being applied.\n",
      " [INFO] 2024-07-01 17:20:14.33 __init__ - _apply_version_patches: Found version patches to be applied.\n",
      " [INFO] 2024-07-01 17:20:14.34 __init__ - _apply_application_patches: Found application patches to be applied.\n"
     ]
    },
    {
     "name": "stdout",
     "output_type": "stream",
     "text": [
      "[p['r'] for p in info['dig'][:3]]=[array([-0.07855853,  0.        ,  0.        ]), array([ 0.00000000e+00,  1.06220549e-01, -4.80059881e-11]), array([0.07855853, 0.        , 0.        ])]\n",
      "car_loc= array([[-7.85585344e-02,  0.00000000e+00,  0.00000000e+00],\n",
      "       [ 0.00000000e+00,  1.06220549e-01, -4.80059881e-11],\n",
      "       [ 7.85585344e-02,  0.00000000e+00,  0.00000000e+00]]) info['dig'][:3]= [<DigPoint |        LPA : (-78.6, 0.0, 0.0) mm      : head frame>, <DigPoint |     Nasion : (0.0, 106.2, -0.0) mm     : head frame>, <DigPoint |        RPA : (78.6, 0.0, 0.0) mm       : head frame>] [p['r'] for p in info['dig'][:3]]=[array([-0.07855853,  0.        ,  0.        ]), array([ 0.00000000e+00,  1.06220549e-01, -4.80059881e-11]), array([0.07855853, 0.        , 0.        ])]\n",
      "Channel types::\teeg: 109\n"
     ]
    },
    {
     "data": {
      "text/plain": [
       "<mne.viz.backends._pyvista.PyVistaFigure at 0x7c855e197e80>"
      ]
     },
     "execution_count": 6,
     "metadata": {},
     "output_type": "execute_result"
    }
   ],
   "source": [
    "mne.viz.plot_alignment(\n",
    "    info=cerebra.info,\n",
    "    trans=cerebra.head_mri_trans,\n",
    "    fwd=cerebra.forward,\n",
    "    dig=True,\n",
    "    src=cerebra.src_space,\n",
    "    bem=cerebra.bem,\n",
    "    show_axes=True,\n",
    ")"
   ]
  }
 ],
 "metadata": {
  "kernelspec": {
   "display_name": "phd",
   "language": "python",
   "name": "python3"
  },
  "language_info": {
   "codemirror_mode": {
    "name": "ipython",
    "version": 3
   },
   "file_extension": ".py",
   "mimetype": "text/x-python",
   "name": "python",
   "nbconvert_exporter": "python",
   "pygments_lexer": "ipython3",
   "version": "3.10.13"
  }
 },
 "nbformat": 4,
 "nbformat_minor": 2
}
