{
 "cells": [
  {
   "cell_type": "code",
   "execution_count": 1,
   "metadata": {},
   "outputs": [
    {
     "name": "stdout",
     "output_type": "stream",
     "text": [
      "Jupyter environment detected. Enabling Open3D WebVisualizer.\n",
      "[Open3D INFO] WebRTC GUI backend enabled.\n",
      "[Open3D INFO] WebRTCWindowSystem: HTTP handshake server disabled.\n"
     ]
    }
   ],
   "source": [
    "import mne\n",
    "from cerebra_atlas_python import CerebrA, setup_logging"
   ]
  },
  {
   "cell_type": "code",
   "execution_count": 2,
   "metadata": {},
   "outputs": [
    {
     "name": "stdout",
     "output_type": "stream",
     "text": [
      "{}\n"
     ]
    }
   ],
   "source": [
    "setup_logging()\n",
    "cerebra = CerebrA()"
   ]
  },
  {
   "cell_type": "code",
   "execution_count": 6,
   "metadata": {},
   "outputs": [],
   "source": [
    "cerebra.montage_name = \"GSN-HydroCel-129-downsample-109\"\n",
    "cerebra.head_size = 0.1027\n",
    "# cerebra.corregistration()  # Produce head-mri trans and save to subjects_dir/icbm152/trans.fif"
   ]
  },
  {
   "cell_type": "code",
   "execution_count": 9,
   "metadata": {},
   "outputs": [
    {
     "name": "stderr",
     "output_type": "stream",
     "text": [
      " [INFO] 2024-08-06 17:28:17.806 cerebra_mne - _corregistration: Save trans file to /home/carlos/Carlos/cerebra_atlas_python/cerebra_atlas_python/data/cerebra_data/FreeSurfer/subjects/icbm152/trans.fif after aligment\n",
      " [INFO] 2024-08-06 17:28:17.806 cerebra_mne - _corregistration: Will be automatically renamed to /home/carlos/Carlos/cerebra_atlas_python/cerebra_atlas_python/data/cerebra_data/FreeSurfer/subjects/icbm152/corregistration/GSN-HydroCel-129-downsample-109_0.1027_trans.fif\n",
      " [DEBUG] 2024-08-06 17:28:18.223 __init__ - _load_stylesheet: Reading QSS file in: :qdarkstyle/dark/darkstyle.qss\n",
      " [INFO] 2024-08-06 17:28:18.225 __init__ - _load_stylesheet: QSS file successfully loaded.\n",
      " [DEBUG] 2024-08-06 17:28:18.226 __init__ - _load_stylesheet: Checking patches for being applied.\n",
      " [INFO] 2024-08-06 17:28:18.227 __init__ - _apply_version_patches: Found version patches to be applied.\n",
      " [INFO] 2024-08-06 17:28:18.227 __init__ - _apply_application_patches: Found application patches to be applied.\n"
     ]
    },
    {
     "name": "stdout",
     "output_type": "stream",
     "text": [
      "high_res_path= None low_res_path= '/home/carlos/Carlos/cerebra_atlas_python/cerebra_atlas_python/data/cerebra_data/FreeSurfer/subjects/icbm152/bem/outer_skin.surf'\n",
      "    Triangle neighbors and vertex normals...\n",
      "Using low resolution head model in /home/carlos/Carlos/cerebra_atlas_python/cerebra_atlas_python/data/cerebra_data/FreeSurfer/subjects/icbm152/bem/outer_skin.surf\n",
      "    Triangle neighbors and vertex normals...\n",
      "Using fiducials from: /home/carlos/Carlos/cerebra_atlas_python/cerebra_atlas_python/data/cerebra_data/FreeSurfer/subjects/icbm152/bem/icbm152-fiducials.fif.\n",
      "high_res_path= None low_res_path= '/home/carlos/Carlos/cerebra_atlas_python/cerebra_atlas_python/data/cerebra_data/FreeSurfer/subjects/icbm152/bem/outer_skin.surf'\n",
      "    Triangle neighbors and vertex normals...\n",
      "Using low resolution head model in /home/carlos/Carlos/cerebra_atlas_python/cerebra_atlas_python/data/cerebra_data/FreeSurfer/subjects/icbm152/bem/outer_skin.surf\n",
      "    Triangle neighbors and vertex normals...\n",
      "Using fiducials from: /home/carlos/Carlos/cerebra_atlas_python/cerebra_atlas_python/data/cerebra_data/FreeSurfer/subjects/icbm152/bem/icbm152-fiducials.fif.\n",
      "Loading MRI fiducials from /home/carlos/Carlos/cerebra_atlas_python/cerebra_atlas_python/data/cerebra_data/FreeSurfer/subjects/icbm152/bem/icbm152-fiducials.fif... Done!\n",
      "Using outer_skin.surf for head surface.\n",
      "Channel types::\teeg: 109\n",
      "[p['r'] for p in info['dig'][:3]]=[array([-0.07855853,  0.        ,  0.        ], dtype='>f4'), array([ 0.0000000e+00,  1.0622055e-01, -4.8005988e-11], dtype='>f4'), array([0.07855853, 0.        , 0.        ], dtype='>f4')]\n",
      "car_loc= array([[-7.8558534e-02,  0.0000000e+00,  0.0000000e+00],\n",
      "       [ 0.0000000e+00,  1.0622055e-01, -4.8005988e-11],\n",
      "       [ 7.8558534e-02,  0.0000000e+00,  0.0000000e+00]], dtype=float32) info['dig'][:3]= [<DigPoint |        LPA : (-78.6, 0.0, 0.0) mm      : head frame>, <DigPoint |     Nasion : (0.0, 106.2, -0.0) mm     : head frame>, <DigPoint |        RPA : (78.6, 0.0, 0.0) mm       : head frame>] [p['r'] for p in info['dig'][:3]]=[array([-0.07855853,  0.        ,  0.        ], dtype='>f4'), array([ 0.0000000e+00,  1.0622055e-01, -4.8005988e-11], dtype='>f4'), array([0.07855853, 0.        , 0.        ], dtype='>f4')]\n",
      "Loading MRI fiducials from /home/carlos/Carlos/cerebra_atlas_python/cerebra_atlas_python/data/cerebra_data/FreeSurfer/subjects/icbm152/bem/icbm152-fiducials.fif... Done!\n",
      "Using outer_skin.surf for head surface.\n",
      "Channel types::\teeg: 109\n",
      "[p['r'] for p in info['dig'][:3]]=[array([-0.07855853,  0.        ,  0.        ], dtype='>f4'), array([ 0.0000000e+00,  1.0622055e-01, -4.8005988e-11], dtype='>f4'), array([0.07855853, 0.        , 0.        ], dtype='>f4')]\n",
      "car_loc= array([[-7.8558534e-02,  0.0000000e+00,  0.0000000e+00],\n",
      "       [ 0.0000000e+00,  1.0622055e-01, -4.8005988e-11],\n",
      "       [ 7.8558534e-02,  0.0000000e+00,  0.0000000e+00]], dtype=float32) info['dig'][:3]= [<DigPoint |        LPA : (-78.6, 0.0, 0.0) mm      : head frame>, <DigPoint |     Nasion : (0.0, 106.2, -0.0) mm     : head frame>, <DigPoint |        RPA : (78.6, 0.0, 0.0) mm       : head frame>] [p['r'] for p in info['dig'][:3]]=[array([-0.07855853,  0.        ,  0.        ], dtype='>f4'), array([ 0.0000000e+00,  1.0622055e-01, -4.8005988e-11], dtype='>f4'), array([0.07855853, 0.        , 0.        ], dtype='>f4')]\n",
      "Aligning using fiducials\n",
      "Start median distance:  35.92 mm\n",
      "End   median distance:   2.75 mm\n",
      "Fitting fiducials finished in 0.02 seconds.\n",
      "Channel types::\teeg: 109\n",
      "[p['r'] for p in info['dig'][:3]]=[array([-0.07855853,  0.        ,  0.        ], dtype='>f4'), array([ 0.0000000e+00,  1.0622055e-01, -4.8005988e-11], dtype='>f4'), array([0.07855853, 0.        , 0.        ], dtype='>f4')]\n",
      "car_loc= array([[-7.8558534e-02,  0.0000000e+00,  0.0000000e+00],\n",
      "       [ 0.0000000e+00,  1.0622055e-01, -4.8005988e-11],\n",
      "       [ 7.8558534e-02,  0.0000000e+00,  0.0000000e+00]], dtype=float32) info['dig'][:3]= [<DigPoint |        LPA : (-78.6, 0.0, 0.0) mm      : head frame>, <DigPoint |     Nasion : (0.0, 106.2, -0.0) mm     : head frame>, <DigPoint |        RPA : (78.6, 0.0, 0.0) mm       : head frame>] [p['r'] for p in info['dig'][:3]]=[array([-0.07855853,  0.        ,  0.        ], dtype='>f4'), array([ 0.0000000e+00,  1.0622055e-01, -4.8005988e-11], dtype='>f4'), array([0.07855853, 0.        , 0.        ], dtype='>f4')]\n",
      "Channel types::\teeg: 109\n",
      "[p['r'] for p in info['dig'][:3]]=[array([-0.07855853,  0.        ,  0.        ], dtype='>f4'), array([ 0.0000000e+00,  1.0622055e-01, -4.8005988e-11], dtype='>f4'), array([0.07855853, 0.        , 0.        ], dtype='>f4')]\n",
      "car_loc= array([[-7.8558534e-02,  0.0000000e+00,  0.0000000e+00],\n",
      "       [ 0.0000000e+00,  1.0622055e-01, -4.8005988e-11],\n",
      "       [ 7.8558534e-02,  0.0000000e+00,  0.0000000e+00]], dtype=float32) info['dig'][:3]= [<DigPoint |        LPA : (-78.6, 0.0, 0.0) mm      : head frame>, <DigPoint |     Nasion : (0.0, 106.2, -0.0) mm     : head frame>, <DigPoint |        RPA : (78.6, 0.0, 0.0) mm       : head frame>] [p['r'] for p in info['dig'][:3]]=[array([-0.07855853,  0.        ,  0.        ], dtype='>f4'), array([ 0.0000000e+00,  1.0622055e-01, -4.8005988e-11], dtype='>f4'), array([0.07855853, 0.        , 0.        ], dtype='>f4')]\n",
      "Channel types::\teeg: 109\n",
      "[p['r'] for p in info['dig'][:3]]=[array([-0.07855853,  0.        ,  0.        ], dtype='>f4'), array([ 0.0000000e+00,  1.0622055e-01, -4.8005988e-11], dtype='>f4'), array([0.07855853, 0.        , 0.        ], dtype='>f4')]\n",
      "car_loc= array([[-7.8558534e-02,  0.0000000e+00,  0.0000000e+00],\n",
      "       [ 0.0000000e+00,  1.0622055e-01, -4.8005988e-11],\n",
      "       [ 7.8558534e-02,  0.0000000e+00,  0.0000000e+00]], dtype=float32) info['dig'][:3]= [<DigPoint |        LPA : (-78.6, 0.0, 0.0) mm      : head frame>, <DigPoint |     Nasion : (0.0, 106.2, -0.0) mm     : head frame>, <DigPoint |        RPA : (78.6, 0.0, 0.0) mm       : head frame>] [p['r'] for p in info['dig'][:3]]=[array([-0.07855853,  0.        ,  0.        ], dtype='>f4'), array([ 0.0000000e+00,  1.0622055e-01, -4.8005988e-11], dtype='>f4'), array([0.07855853, 0.        , 0.        ], dtype='>f4')]\n",
      "Channel types::\teeg: 109\n",
      "[p['r'] for p in info['dig'][:3]]=[array([-0.07855853,  0.        ,  0.        ], dtype='>f4'), array([ 0.0000000e+00,  1.0622055e-01, -4.8005988e-11], dtype='>f4'), array([0.07855853, 0.        , 0.        ], dtype='>f4')]\n",
      "car_loc= array([[-7.8558534e-02,  0.0000000e+00,  0.0000000e+00],\n",
      "       [ 0.0000000e+00,  1.0622055e-01, -4.8005988e-11],\n",
      "       [ 7.8558534e-02,  0.0000000e+00,  0.0000000e+00]], dtype=float32) info['dig'][:3]= [<DigPoint |        LPA : (-78.6, 0.0, 0.0) mm      : head frame>, <DigPoint |     Nasion : (0.0, 106.2, -0.0) mm     : head frame>, <DigPoint |        RPA : (78.6, 0.0, 0.0) mm       : head frame>] [p['r'] for p in info['dig'][:3]]=[array([-0.07855853,  0.        ,  0.        ], dtype='>f4'), array([ 0.0000000e+00,  1.0622055e-01, -4.8005988e-11], dtype='>f4'), array([0.07855853, 0.        , 0.        ], dtype='>f4')]\n",
      "Channel types::\teeg: 109\n",
      "[p['r'] for p in info['dig'][:3]]=[array([-0.07855853,  0.        ,  0.        ], dtype='>f4'), array([ 0.0000000e+00,  1.0622055e-01, -4.8005988e-11], dtype='>f4'), array([0.07855853, 0.        , 0.        ], dtype='>f4')]\n",
      "car_loc= array([[-7.8558534e-02,  0.0000000e+00,  0.0000000e+00],\n",
      "       [ 0.0000000e+00,  1.0622055e-01, -4.8005988e-11],\n",
      "       [ 7.8558534e-02,  0.0000000e+00,  0.0000000e+00]], dtype=float32) info['dig'][:3]= [<DigPoint |        LPA : (-78.6, 0.0, 0.0) mm      : head frame>, <DigPoint |     Nasion : (0.0, 106.2, -0.0) mm     : head frame>, <DigPoint |        RPA : (78.6, 0.0, 0.0) mm       : head frame>] [p['r'] for p in info['dig'][:3]]=[array([-0.07855853,  0.        ,  0.        ], dtype='>f4'), array([ 0.0000000e+00,  1.0622055e-01, -4.8005988e-11], dtype='>f4'), array([0.07855853, 0.        , 0.        ], dtype='>f4')]\n",
      "Channel types::\teeg: 109\n",
      "[p['r'] for p in info['dig'][:3]]=[array([-0.07855853,  0.        ,  0.        ], dtype='>f4'), array([ 0.0000000e+00,  1.0622055e-01, -4.8005988e-11], dtype='>f4'), array([0.07855853, 0.        , 0.        ], dtype='>f4')]\n",
      "car_loc= array([[-7.8558534e-02,  0.0000000e+00,  0.0000000e+00],\n",
      "       [ 0.0000000e+00,  1.0622055e-01, -4.8005988e-11],\n",
      "       [ 7.8558534e-02,  0.0000000e+00,  0.0000000e+00]], dtype=float32) info['dig'][:3]= [<DigPoint |        LPA : (-78.6, 0.0, 0.0) mm      : head frame>, <DigPoint |     Nasion : (0.0, 106.2, -0.0) mm     : head frame>, <DigPoint |        RPA : (78.6, 0.0, 0.0) mm       : head frame>] [p['r'] for p in info['dig'][:3]]=[array([-0.07855853,  0.        ,  0.        ], dtype='>f4'), array([ 0.0000000e+00,  1.0622055e-01, -4.8005988e-11], dtype='>f4'), array([0.07855853, 0.        , 0.        ], dtype='>f4')]\n",
      "Channel types::\teeg: 109\n",
      "[p['r'] for p in info['dig'][:3]]=[array([-0.07855853,  0.        ,  0.        ], dtype='>f4'), array([ 0.0000000e+00,  1.0622055e-01, -4.8005988e-11], dtype='>f4'), array([0.07855853, 0.        , 0.        ], dtype='>f4')]\n",
      "car_loc= array([[-7.8558534e-02,  0.0000000e+00,  0.0000000e+00],\n",
      "       [ 0.0000000e+00,  1.0622055e-01, -4.8005988e-11],\n",
      "       [ 7.8558534e-02,  0.0000000e+00,  0.0000000e+00]], dtype=float32) info['dig'][:3]= [<DigPoint |        LPA : (-78.6, 0.0, 0.0) mm      : head frame>, <DigPoint |     Nasion : (0.0, 106.2, -0.0) mm     : head frame>, <DigPoint |        RPA : (78.6, 0.0, 0.0) mm       : head frame>] [p['r'] for p in info['dig'][:3]]=[array([-0.07855853,  0.        ,  0.        ], dtype='>f4'), array([ 0.0000000e+00,  1.0622055e-01, -4.8005988e-11], dtype='>f4'), array([0.07855853, 0.        , 0.        ], dtype='>f4')]\n",
      "Channel types::\teeg: 109\n",
      "[p['r'] for p in info['dig'][:3]]=[array([-0.07855853,  0.        ,  0.        ], dtype='>f4'), array([ 0.0000000e+00,  1.0622055e-01, -4.8005988e-11], dtype='>f4'), array([0.07855853, 0.        , 0.        ], dtype='>f4')]\n",
      "car_loc= array([[-7.8558534e-02,  0.0000000e+00,  0.0000000e+00],\n",
      "       [ 0.0000000e+00,  1.0622055e-01, -4.8005988e-11],\n",
      "       [ 7.8558534e-02,  0.0000000e+00,  0.0000000e+00]], dtype=float32) info['dig'][:3]= [<DigPoint |        LPA : (-78.6, 0.0, 0.0) mm      : head frame>, <DigPoint |     Nasion : (0.0, 106.2, -0.0) mm     : head frame>, <DigPoint |        RPA : (78.6, 0.0, 0.0) mm       : head frame>] [p['r'] for p in info['dig'][:3]]=[array([-0.07855853,  0.        ,  0.        ], dtype='>f4'), array([ 0.0000000e+00,  1.0622055e-01, -4.8005988e-11], dtype='>f4'), array([0.07855853, 0.        , 0.        ], dtype='>f4')]\n",
      "Channel types::\teeg: 109\n",
      "[p['r'] for p in info['dig'][:3]]=[array([-0.07855853,  0.        ,  0.        ], dtype='>f4'), array([ 0.0000000e+00,  1.0622055e-01, -4.8005988e-11], dtype='>f4'), array([0.07855853, 0.        , 0.        ], dtype='>f4')]\n",
      "car_loc= array([[-7.8558534e-02,  0.0000000e+00,  0.0000000e+00],\n",
      "       [ 0.0000000e+00,  1.0622055e-01, -4.8005988e-11],\n",
      "       [ 7.8558534e-02,  0.0000000e+00,  0.0000000e+00]], dtype=float32) info['dig'][:3]= [<DigPoint |        LPA : (-78.6, 0.0, 0.0) mm      : head frame>, <DigPoint |     Nasion : (0.0, 106.2, -0.0) mm     : head frame>, <DigPoint |        RPA : (78.6, 0.0, 0.0) mm       : head frame>] [p['r'] for p in info['dig'][:3]]=[array([-0.07855853,  0.        ,  0.        ], dtype='>f4'), array([ 0.0000000e+00,  1.0622055e-01, -4.8005988e-11], dtype='>f4'), array([0.07855853, 0.        , 0.        ], dtype='>f4')]\n",
      "Channel types::\teeg: 109\n",
      "[p['r'] for p in info['dig'][:3]]=[array([-0.07855853,  0.        ,  0.        ], dtype='>f4'), array([ 0.0000000e+00,  1.0622055e-01, -4.8005988e-11], dtype='>f4'), array([0.07855853, 0.        , 0.        ], dtype='>f4')]\n",
      "car_loc= array([[-7.8558534e-02,  0.0000000e+00,  0.0000000e+00],\n",
      "       [ 0.0000000e+00,  1.0622055e-01, -4.8005988e-11],\n",
      "       [ 7.8558534e-02,  0.0000000e+00,  0.0000000e+00]], dtype=float32) info['dig'][:3]= [<DigPoint |        LPA : (-78.6, 0.0, 0.0) mm      : head frame>, <DigPoint |     Nasion : (0.0, 106.2, -0.0) mm     : head frame>, <DigPoint |        RPA : (78.6, 0.0, 0.0) mm       : head frame>] [p['r'] for p in info['dig'][:3]]=[array([-0.07855853,  0.        ,  0.        ], dtype='>f4'), array([ 0.0000000e+00,  1.0622055e-01, -4.8005988e-11], dtype='>f4'), array([0.07855853, 0.        , 0.        ], dtype='>f4')]\n",
      "Channel types::\teeg: 109\n",
      "[p['r'] for p in info['dig'][:3]]=[array([-0.07855853,  0.        ,  0.        ], dtype='>f4'), array([ 0.0000000e+00,  1.0622055e-01, -4.8005988e-11], dtype='>f4'), array([0.07855853, 0.        , 0.        ], dtype='>f4')]\n",
      "car_loc= array([[-7.8558534e-02,  0.0000000e+00,  0.0000000e+00],\n",
      "       [ 0.0000000e+00,  1.0622055e-01, -4.8005988e-11],\n",
      "       [ 7.8558534e-02,  0.0000000e+00,  0.0000000e+00]], dtype=float32) info['dig'][:3]= [<DigPoint |        LPA : (-78.6, 0.0, 0.0) mm      : head frame>, <DigPoint |     Nasion : (0.0, 106.2, -0.0) mm     : head frame>, <DigPoint |        RPA : (78.6, 0.0, 0.0) mm       : head frame>] [p['r'] for p in info['dig'][:3]]=[array([-0.07855853,  0.        ,  0.        ], dtype='>f4'), array([ 0.0000000e+00,  1.0622055e-01, -4.8005988e-11], dtype='>f4'), array([0.07855853, 0.        , 0.        ], dtype='>f4')]\n",
      "Channel types::\teeg: 109\n",
      "[p['r'] for p in info['dig'][:3]]=[array([-0.07855853,  0.        ,  0.        ], dtype='>f4'), array([ 0.0000000e+00,  1.0622055e-01, -4.8005988e-11], dtype='>f4'), array([0.07855853, 0.        , 0.        ], dtype='>f4')]\n",
      "car_loc= array([[-7.8558534e-02,  0.0000000e+00,  0.0000000e+00],\n",
      "       [ 0.0000000e+00,  1.0622055e-01, -4.8005988e-11],\n",
      "       [ 7.8558534e-02,  0.0000000e+00,  0.0000000e+00]], dtype=float32) info['dig'][:3]= [<DigPoint |        LPA : (-78.6, 0.0, 0.0) mm      : head frame>, <DigPoint |     Nasion : (0.0, 106.2, -0.0) mm     : head frame>, <DigPoint |        RPA : (78.6, 0.0, 0.0) mm       : head frame>] [p['r'] for p in info['dig'][:3]]=[array([-0.07855853,  0.        ,  0.        ], dtype='>f4'), array([ 0.0000000e+00,  1.0622055e-01, -4.8005988e-11], dtype='>f4'), array([0.07855853, 0.        , 0.        ], dtype='>f4')]\n",
      "Channel types::\teeg: 109\n",
      "[p['r'] for p in info['dig'][:3]]=[array([-0.07855853,  0.        ,  0.        ], dtype='>f4'), array([ 0.0000000e+00,  1.0622055e-01, -4.8005988e-11], dtype='>f4'), array([0.07855853, 0.        , 0.        ], dtype='>f4')]\n",
      "car_loc= array([[-7.8558534e-02,  0.0000000e+00,  0.0000000e+00],\n",
      "       [ 0.0000000e+00,  1.0622055e-01, -4.8005988e-11],\n",
      "       [ 7.8558534e-02,  0.0000000e+00,  0.0000000e+00]], dtype=float32) info['dig'][:3]= [<DigPoint |        LPA : (-78.6, 0.0, 0.0) mm      : head frame>, <DigPoint |     Nasion : (0.0, 106.2, -0.0) mm     : head frame>, <DigPoint |        RPA : (78.6, 0.0, 0.0) mm       : head frame>] [p['r'] for p in info['dig'][:3]]=[array([-0.07855853,  0.        ,  0.        ], dtype='>f4'), array([ 0.0000000e+00,  1.0622055e-01, -4.8005988e-11], dtype='>f4'), array([0.07855853, 0.        , 0.        ], dtype='>f4')]\n",
      "Channel types::\teeg: 109\n",
      "[p['r'] for p in info['dig'][:3]]=[array([-0.07855853,  0.        ,  0.        ], dtype='>f4'), array([ 0.0000000e+00,  1.0622055e-01, -4.8005988e-11], dtype='>f4'), array([0.07855853, 0.        , 0.        ], dtype='>f4')]\n",
      "car_loc= array([[-7.8558534e-02,  0.0000000e+00,  0.0000000e+00],\n",
      "       [ 0.0000000e+00,  1.0622055e-01, -4.8005988e-11],\n",
      "       [ 7.8558534e-02,  0.0000000e+00,  0.0000000e+00]], dtype=float32) info['dig'][:3]= [<DigPoint |        LPA : (-78.6, 0.0, 0.0) mm      : head frame>, <DigPoint |     Nasion : (0.0, 106.2, -0.0) mm     : head frame>, <DigPoint |        RPA : (78.6, 0.0, 0.0) mm       : head frame>] [p['r'] for p in info['dig'][:3]]=[array([-0.07855853,  0.        ,  0.        ], dtype='>f4'), array([ 0.0000000e+00,  1.0622055e-01, -4.8005988e-11], dtype='>f4'), array([0.07855853, 0.        , 0.        ], dtype='>f4')]\n",
      "Channel types::\teeg: 109\n",
      "[p['r'] for p in info['dig'][:3]]=[array([-0.07855853,  0.        ,  0.        ], dtype='>f4'), array([ 0.0000000e+00,  1.0622055e-01, -4.8005988e-11], dtype='>f4'), array([0.07855853, 0.        , 0.        ], dtype='>f4')]\n",
      "car_loc= array([[-7.8558534e-02,  0.0000000e+00,  0.0000000e+00],\n",
      "       [ 0.0000000e+00,  1.0622055e-01, -4.8005988e-11],\n",
      "       [ 7.8558534e-02,  0.0000000e+00,  0.0000000e+00]], dtype=float32) info['dig'][:3]= [<DigPoint |        LPA : (-78.6, 0.0, 0.0) mm      : head frame>, <DigPoint |     Nasion : (0.0, 106.2, -0.0) mm     : head frame>, <DigPoint |        RPA : (78.6, 0.0, 0.0) mm       : head frame>] [p['r'] for p in info['dig'][:3]]=[array([-0.07855853,  0.        ,  0.        ], dtype='>f4'), array([ 0.0000000e+00,  1.0622055e-01, -4.8005988e-11], dtype='>f4'), array([0.07855853, 0.        , 0.        ], dtype='>f4')]\n",
      "Channel types::\teeg: 109\n",
      "[p['r'] for p in info['dig'][:3]]=[array([-0.07855853,  0.        ,  0.        ], dtype='>f4'), array([ 0.0000000e+00,  1.0622055e-01, -4.8005988e-11], dtype='>f4'), array([0.07855853, 0.        , 0.        ], dtype='>f4')]\n",
      "car_loc= array([[-7.8558534e-02,  0.0000000e+00,  0.0000000e+00],\n",
      "       [ 0.0000000e+00,  1.0622055e-01, -4.8005988e-11],\n",
      "       [ 7.8558534e-02,  0.0000000e+00,  0.0000000e+00]], dtype=float32) info['dig'][:3]= [<DigPoint |        LPA : (-78.6, 0.0, 0.0) mm      : head frame>, <DigPoint |     Nasion : (0.0, 106.2, -0.0) mm     : head frame>, <DigPoint |        RPA : (78.6, 0.0, 0.0) mm       : head frame>] [p['r'] for p in info['dig'][:3]]=[array([-0.07855853,  0.        ,  0.        ], dtype='>f4'), array([ 0.0000000e+00,  1.0622055e-01, -4.8005988e-11], dtype='>f4'), array([0.07855853, 0.        , 0.        ], dtype='>f4')]\n",
      "Channel types::\teeg: 109\n",
      "[p['r'] for p in info['dig'][:3]]=[array([-0.07855853,  0.        ,  0.        ], dtype='>f4'), array([ 0.0000000e+00,  1.0622055e-01, -4.8005988e-11], dtype='>f4'), array([0.07855853, 0.        , 0.        ], dtype='>f4')]\n",
      "car_loc= array([[-7.8558534e-02,  0.0000000e+00,  0.0000000e+00],\n",
      "       [ 0.0000000e+00,  1.0622055e-01, -4.8005988e-11],\n",
      "       [ 7.8558534e-02,  0.0000000e+00,  0.0000000e+00]], dtype=float32) info['dig'][:3]= [<DigPoint |        LPA : (-78.6, 0.0, 0.0) mm      : head frame>, <DigPoint |     Nasion : (0.0, 106.2, -0.0) mm     : head frame>, <DigPoint |        RPA : (78.6, 0.0, 0.0) mm       : head frame>] [p['r'] for p in info['dig'][:3]]=[array([-0.07855853,  0.        ,  0.        ], dtype='>f4'), array([ 0.0000000e+00,  1.0622055e-01, -4.8005988e-11], dtype='>f4'), array([0.07855853, 0.        , 0.        ], dtype='>f4')]\n",
      "Channel types::\teeg: 109\n",
      "[p['r'] for p in info['dig'][:3]]=[array([-0.07855853,  0.        ,  0.        ], dtype='>f4'), array([ 0.0000000e+00,  1.0622055e-01, -4.8005988e-11], dtype='>f4'), array([0.07855853, 0.        , 0.        ], dtype='>f4')]\n",
      "car_loc= array([[-7.8558534e-02,  0.0000000e+00,  0.0000000e+00],\n",
      "       [ 0.0000000e+00,  1.0622055e-01, -4.8005988e-11],\n",
      "       [ 7.8558534e-02,  0.0000000e+00,  0.0000000e+00]], dtype=float32) info['dig'][:3]= [<DigPoint |        LPA : (-78.6, 0.0, 0.0) mm      : head frame>, <DigPoint |     Nasion : (0.0, 106.2, -0.0) mm     : head frame>, <DigPoint |        RPA : (78.6, 0.0, 0.0) mm       : head frame>] [p['r'] for p in info['dig'][:3]]=[array([-0.07855853,  0.        ,  0.        ], dtype='>f4'), array([ 0.0000000e+00,  1.0622055e-01, -4.8005988e-11], dtype='>f4'), array([0.07855853, 0.        , 0.        ], dtype='>f4')]\n",
      "Channel types::\teeg: 109\n",
      "[p['r'] for p in info['dig'][:3]]=[array([-0.07855853,  0.        ,  0.        ], dtype='>f4'), array([ 0.0000000e+00,  1.0622055e-01, -4.8005988e-11], dtype='>f4'), array([0.07855853, 0.        , 0.        ], dtype='>f4')]\n",
      "car_loc= array([[-7.8558534e-02,  0.0000000e+00,  0.0000000e+00],\n",
      "       [ 0.0000000e+00,  1.0622055e-01, -4.8005988e-11],\n",
      "       [ 7.8558534e-02,  0.0000000e+00,  0.0000000e+00]], dtype=float32) info['dig'][:3]= [<DigPoint |        LPA : (-78.6, 0.0, 0.0) mm      : head frame>, <DigPoint |     Nasion : (0.0, 106.2, -0.0) mm     : head frame>, <DigPoint |        RPA : (78.6, 0.0, 0.0) mm       : head frame>] [p['r'] for p in info['dig'][:3]]=[array([-0.07855853,  0.        ,  0.        ], dtype='>f4'), array([ 0.0000000e+00,  1.0622055e-01, -4.8005988e-11], dtype='>f4'), array([0.07855853, 0.        , 0.        ], dtype='>f4')]\n",
      "Channel types::\teeg: 109\n",
      "[p['r'] for p in info['dig'][:3]]=[array([-0.07855853,  0.        ,  0.        ], dtype='>f4'), array([ 0.0000000e+00,  1.0622055e-01, -4.8005988e-11], dtype='>f4'), array([0.07855853, 0.        , 0.        ], dtype='>f4')]\n",
      "car_loc= array([[-7.8558534e-02,  0.0000000e+00,  0.0000000e+00],\n",
      "       [ 0.0000000e+00,  1.0622055e-01, -4.8005988e-11],\n",
      "       [ 7.8558534e-02,  0.0000000e+00,  0.0000000e+00]], dtype=float32) info['dig'][:3]= [<DigPoint |        LPA : (-78.6, 0.0, 0.0) mm      : head frame>, <DigPoint |     Nasion : (0.0, 106.2, -0.0) mm     : head frame>, <DigPoint |        RPA : (78.6, 0.0, 0.0) mm       : head frame>] [p['r'] for p in info['dig'][:3]]=[array([-0.07855853,  0.        ,  0.        ], dtype='>f4'), array([ 0.0000000e+00,  1.0622055e-01, -4.8005988e-11], dtype='>f4'), array([0.07855853, 0.        , 0.        ], dtype='>f4')]\n",
      "Channel types::\teeg: 109\n",
      "[p['r'] for p in info['dig'][:3]]=[array([-0.07855853,  0.        ,  0.        ], dtype='>f4'), array([ 0.0000000e+00,  1.0622055e-01, -4.8005988e-11], dtype='>f4'), array([0.07855853, 0.        , 0.        ], dtype='>f4')]\n",
      "car_loc= array([[-7.8558534e-02,  0.0000000e+00,  0.0000000e+00],\n",
      "       [ 0.0000000e+00,  1.0622055e-01, -4.8005988e-11],\n",
      "       [ 7.8558534e-02,  0.0000000e+00,  0.0000000e+00]], dtype=float32) info['dig'][:3]= [<DigPoint |        LPA : (-78.6, 0.0, 0.0) mm      : head frame>, <DigPoint |     Nasion : (0.0, 106.2, -0.0) mm     : head frame>, <DigPoint |        RPA : (78.6, 0.0, 0.0) mm       : head frame>] [p['r'] for p in info['dig'][:3]]=[array([-0.07855853,  0.        ,  0.        ], dtype='>f4'), array([ 0.0000000e+00,  1.0622055e-01, -4.8005988e-11], dtype='>f4'), array([0.07855853, 0.        , 0.        ], dtype='>f4')]\n",
      "Channel types::\teeg: 109\n",
      "[p['r'] for p in info['dig'][:3]]=[array([-0.07855853,  0.        ,  0.        ], dtype='>f4'), array([ 0.0000000e+00,  1.0622055e-01, -4.8005988e-11], dtype='>f4'), array([0.07855853, 0.        , 0.        ], dtype='>f4')]\n",
      "car_loc= array([[-7.8558534e-02,  0.0000000e+00,  0.0000000e+00],\n",
      "       [ 0.0000000e+00,  1.0622055e-01, -4.8005988e-11],\n",
      "       [ 7.8558534e-02,  0.0000000e+00,  0.0000000e+00]], dtype=float32) info['dig'][:3]= [<DigPoint |        LPA : (-78.6, 0.0, 0.0) mm      : head frame>, <DigPoint |     Nasion : (0.0, 106.2, -0.0) mm     : head frame>, <DigPoint |        RPA : (78.6, 0.0, 0.0) mm       : head frame>] [p['r'] for p in info['dig'][:3]]=[array([-0.07855853,  0.        ,  0.        ], dtype='>f4'), array([ 0.0000000e+00,  1.0622055e-01, -4.8005988e-11], dtype='>f4'), array([0.07855853, 0.        , 0.        ], dtype='>f4')]\n",
      "Channel types::\teeg: 109\n",
      "[p['r'] for p in info['dig'][:3]]=[array([-0.07855853,  0.        ,  0.        ], dtype='>f4'), array([ 0.0000000e+00,  1.0622055e-01, -4.8005988e-11], dtype='>f4'), array([0.07855853, 0.        , 0.        ], dtype='>f4')]\n",
      "car_loc= array([[-7.8558534e-02,  0.0000000e+00,  0.0000000e+00],\n",
      "       [ 0.0000000e+00,  1.0622055e-01, -4.8005988e-11],\n",
      "       [ 7.8558534e-02,  0.0000000e+00,  0.0000000e+00]], dtype=float32) info['dig'][:3]= [<DigPoint |        LPA : (-78.6, 0.0, 0.0) mm      : head frame>, <DigPoint |     Nasion : (0.0, 106.2, -0.0) mm     : head frame>, <DigPoint |        RPA : (78.6, 0.0, 0.0) mm       : head frame>] [p['r'] for p in info['dig'][:3]]=[array([-0.07855853,  0.        ,  0.        ], dtype='>f4'), array([ 0.0000000e+00,  1.0622055e-01, -4.8005988e-11], dtype='>f4'), array([0.07855853, 0.        , 0.        ], dtype='>f4')]\n"
     ]
    }
   ],
   "source": [
    "cerebra.corregistration(\n",
    "    montage_name=\"GSN-HydroCel-129-downsample-109\"\n",
    ")  # Produce head-mri trans and save to subjects_dir/icbm152/trans.fif"
   ]
  },
  {
   "cell_type": "code",
   "execution_count": 4,
   "metadata": {},
   "outputs": [
    {
     "name": "stderr",
     "output_type": "stream",
     "text": [
      " [DEBUG] 2024-08-06 17:27:19.372 _cache - _cache: Loading cached result from /home/carlos/.cache/cerebra_atlas_python/cerebra/GSN-HydroCel-129-downsample-109_0.1027_src_space_3mm_bem_0.33_0.0042_0.33_ico_4-fwd_764fcc4b86096cbf942a635234971c9502e99e7119cbd09745b08702c2aa67ca.fif\n",
      "/home/carlos/Carlos/cerebra_atlas_python/cerebra_atlas_python/data/_cache.py:93: RuntimeWarning: This filename (/home/carlos/.cache/cerebra_atlas_python/cerebra/GSN-HydroCel-129-downsample-109_0.1027_src_space_3mm_bem_0.33_0.0042_0.33_ico_4-fwd_764fcc4b86096cbf942a635234971c9502e99e7119cbd09745b08702c2aa67ca.fif) does not conform to MNE naming conventions. All forward files should end with -fwd.fif, -fwd.fif.gz, _fwd.fif, _fwd.fif.gz, -fwd.h5 or _fwd.h5\n",
      "  fwd = mne.read_forward_solution(path, verbose=False)\n",
      " [DEBUG] 2024-08-06 17:27:19.484 _cache - _cache: Loading cached result from /home/carlos/.cache/cerebra_atlas_python/cerebra/src_space_3mm_lia_mask_3fee5c814d3a4e145db91f018eacc2ec61e3b328b25c3252ddddf3b05782d646.npy\n",
      " [DEBUG] 2024-08-06 17:27:19.519 _cache - _cache: Loading cached result from /home/carlos/.cache/cerebra_atlas_python/cerebra/bem_0.33_0.0042_0.33_ico_4_bem_503a23bea1a06eb0c1662eebfbc36f22a50c16cb7b9027cfb066be7e515376df.fif\n"
     ]
    },
    {
     "name": "stdout",
     "output_type": "stream",
     "text": [
      "/home/carlos/.cache/cerebra_atlas_python/cerebra/GSN-HydroCel-129-downsample-109_0.1027_src_space_3mm_bem_0.33_0.0042_0.33_ico_4-fwd.fif\n",
      "BEM              : <ConductorModel | BEM (3 layers) solver=mne>\n",
      "Source location file  : dict()\n",
      "Assuming input in millimeters\n",
      "Assuming input in MRI coordinates\n",
      "\n",
      "Positions (in meters) and orientations\n",
      "31553 sources\n",
      "Using pyvistaqt 3d backend.\n",
      "\n"
     ]
    },
    {
     "name": "stderr",
     "output_type": "stream",
     "text": [
      " [DEBUG] 2024-08-06 17:27:21.919 __init__ - _load_stylesheet: Reading QSS file in: :qdarkstyle/dark/darkstyle.qss\n",
      " [INFO] 2024-08-06 17:27:21.920 __init__ - _load_stylesheet: QSS file successfully loaded.\n",
      " [DEBUG] 2024-08-06 17:27:21.920 __init__ - _load_stylesheet: Checking patches for being applied.\n",
      " [INFO] 2024-08-06 17:27:21.920 __init__ - _apply_version_patches: Found version patches to be applied.\n",
      " [INFO] 2024-08-06 17:27:21.921 __init__ - _apply_application_patches: Found application patches to be applied.\n"
     ]
    },
    {
     "name": "stdout",
     "output_type": "stream",
     "text": [
      "[p['r'] for p in info['dig'][:3]]=[array([-0.07855853,  0.        ,  0.        ]), array([ 0.00000000e+00,  1.06220549e-01, -4.80059881e-11]), array([0.07855853, 0.        , 0.        ])]\n",
      "car_loc= array([[-7.85585344e-02,  0.00000000e+00,  0.00000000e+00],\n",
      "       [ 0.00000000e+00,  1.06220549e-01, -4.80059881e-11],\n",
      "       [ 7.85585344e-02,  0.00000000e+00,  0.00000000e+00]]) info['dig'][:3]= [<DigPoint |        LPA : (-78.6, 0.0, 0.0) mm      : head frame>, <DigPoint |     Nasion : (0.0, 106.2, -0.0) mm     : head frame>, <DigPoint |        RPA : (78.6, 0.0, 0.0) mm       : head frame>] [p['r'] for p in info['dig'][:3]]=[array([-0.07855853,  0.        ,  0.        ]), array([ 0.00000000e+00,  1.06220549e-01, -4.80059881e-11]), array([0.07855853, 0.        , 0.        ])]\n",
      "Channel types::\teeg: 109\n"
     ]
    },
    {
     "data": {
      "text/plain": [
       "<mne.viz.backends._pyvista.PyVistaFigure at 0x7718d6a1e2c0>"
      ]
     },
     "execution_count": 4,
     "metadata": {},
     "output_type": "execute_result"
    }
   ],
   "source": [
    "mne.viz.plot_alignment(\n",
    "    info=cerebra.info,\n",
    "    trans=cerebra.head_mri_trans,\n",
    "    fwd=cerebra.forward,\n",
    "    dig=True,\n",
    "    src=cerebra.src_space,\n",
    "    bem=cerebra.bem,\n",
    "    show_axes=True,\n",
    ")"
   ]
  }
 ],
 "metadata": {
  "kernelspec": {
   "display_name": "phd",
   "language": "python",
   "name": "python3"
  },
  "language_info": {
   "codemirror_mode": {
    "name": "ipython",
    "version": 3
   },
   "file_extension": ".py",
   "mimetype": "text/x-python",
   "name": "python",
   "nbconvert_exporter": "python",
   "pygments_lexer": "ipython3",
   "version": "3.10.13"
  }
 },
 "nbformat": 4,
 "nbformat_minor": 2
}
