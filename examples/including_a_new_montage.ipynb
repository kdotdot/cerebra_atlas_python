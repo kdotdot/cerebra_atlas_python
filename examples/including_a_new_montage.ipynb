{
 "cells": [
  {
   "cell_type": "code",
   "execution_count": null,
   "metadata": {},
   "outputs": [],
   "source": [
    "import mne\n",
    "from cerebra_atlas_python import CerebrA, setup_logging"
   ]
  },
  {
   "cell_type": "code",
   "execution_count": null,
   "metadata": {},
   "outputs": [],
   "source": [
    "setup_logging()\n",
    "cerebra = CerebrA()"
   ]
  },
  {
   "cell_type": "code",
   "execution_count": null,
   "metadata": {},
   "outputs": [],
   "source": [
    "cerebra.montage_name = \"GSN-HydroCel-129-downsample-109\"\n",
    "cerebra.head_size = 0.1027\n",
    "cerebra.corregistration()  # Produce head-mri trans and save to subjects_dir/icbm152/trans.fif"
   ]
  },
  {
   "cell_type": "code",
   "execution_count": null,
   "metadata": {},
   "outputs": [],
   "source": [
    "fwd = cerebra.get_forward()\n",
    "mne.viz.plot_alignment(\n",
    "    info=cerebra.info,\n",
    "    trans=cerebra.trans,\n",
    "    fwd=fwd,\n",
    "    dig=True,\n",
    "    src=cerebra.src_space,\n",
    "    bem=cerebra.bem,\n",
    "    show_axes=True,\n",
    ")"
   ]
  }
 ],
 "metadata": {
  "kernelspec": {
   "display_name": "phd",
   "language": "python",
   "name": "python3"
  },
  "language_info": {
   "name": "python",
   "version": "3.10.13"
  }
 },
 "nbformat": 4,
 "nbformat_minor": 2
}
