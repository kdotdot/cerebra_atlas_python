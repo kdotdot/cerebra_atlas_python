{
 "cells": [
  {
   "cell_type": "code",
   "execution_count": 2,
   "metadata": {},
   "outputs": [],
   "source": [
    "%load_ext autoreload\n",
    "%autoreload 2\n",
    "import os\n",
    "import sys\n",
    "nb_dir = os.path.split(os.getcwd())[0]\n",
    "if nb_dir not in sys.path:\n",
    "    sys.path.append(nb_dir)"
   ]
  },
  {
   "cell_type": "code",
   "execution_count": 3,
   "metadata": {},
   "outputs": [
    {
     "name": "stdout",
     "output_type": "stream",
     "text": [
      "Sphere                : origin at (0.0 0.0 0.0) mm\n",
      "              radius  : 95.0 mm\n",
      "grid                  : 5.0 mm\n",
      "mindist               : 5.0 mm\n",
      "MRI volume            : /home/carlos/Datasets/subjects/icbm152/mri/T1.mgz\n",
      "\n",
      "Reading /home/carlos/Datasets/subjects/icbm152/mri/T1.mgz...\n",
      "\n",
      "Setting up the sphere...\n",
      "Surface CM = (   0.0    0.0    0.0) mm\n",
      "Surface fits inside a sphere with radius   95.0 mm\n",
      "Surface extent:\n",
      "    x =  -95.0 ...   95.0 mm\n",
      "    y =  -95.0 ...   95.0 mm\n",
      "    z =  -95.0 ...   95.0 mm\n",
      "Grid extent:\n",
      "    x = -100.0 ...  100.0 mm\n",
      "    y = -100.0 ...  100.0 mm\n",
      "    z = -100.0 ...  100.0 mm\n",
      "68921 sources before omitting any.\n",
      "28647 sources after omitting infeasible sources not within 0.0 - 95.0 mm.\n",
      "24303 sources remaining after excluding the sources outside the surface and less than    5.0 mm inside.\n",
      "Adjusting the neighborhood info.\n",
      "Source space : MRI voxel -> MRI (surface RAS)\n",
      "     0.005000  0.000000  0.000000    -100.00 mm\n",
      "     0.000000  0.005000  0.000000    -100.00 mm\n",
      "     0.000000  0.000000  0.005000    -100.00 mm\n",
      "     0.000000  0.000000  0.000000       1.00\n",
      "MRI volume : MRI voxel -> MRI (surface RAS)\n",
      "    -0.001000  0.000000  0.000000     128.00 mm\n",
      "     0.000000  0.000000  0.001000    -128.00 mm\n",
      "     0.000000 -0.001000  0.000000     128.00 mm\n",
      "     0.000000  0.000000  0.000000       1.00\n",
      "MRI volume : MRI (surface RAS) -> RAS (non-zero origin)\n",
      "     1.000000  0.000000  0.000000       0.50 mm\n",
      "     0.000000  1.000000  0.000000     -17.50 mm\n",
      "     0.000000  0.000000  1.000000      18.50 mm\n",
      "     0.000000  0.000000  0.000000       1.00\n",
      "Setting up volume interpolation ...\n",
      "    19742076/16777216 nonzero values for the whole brain\n",
      "[done]\n",
      "Sphere                : origin at (0.0 0.0 0.0) mm\n",
      "              radius  : 95.0 mm\n",
      "Source location file  : dict()\n",
      "Assuming input in millimeters\n",
      "Assuming input in MRI coordinates\n",
      "\n",
      "Positions (in meters) and orientations\n",
      "43498 sources\n"
     ]
    }
   ],
   "source": [
    "import matplotlib.pyplot as plt\n",
    "from cerebra_atlas_python.cerebra import CerebrA\n",
    "cerebra = CerebrA()"
   ]
  },
  {
   "cell_type": "code",
   "execution_count": 4,
   "metadata": {},
   "outputs": [],
   "source": [
    "# Recommended\n",
    "%matplotlib qt "
   ]
  },
  {
   "cell_type": "code",
   "execution_count": 5,
   "metadata": {},
   "outputs": [
    {
     "data": {
      "text/plain": [
       "{1: 'outer_skin', 2: 'outer_skull', 3: 'inner_skull'}"
      ]
     },
     "execution_count": 5,
     "metadata": {},
     "output_type": "execute_result"
    }
   ],
   "source": [
    "cerebra.bem_names"
   ]
  },
  {
   "cell_type": "code",
   "execution_count": 7,
   "metadata": {},
   "outputs": [
    {
     "data": {
      "text/plain": [
       "(<Figure size 640x480 with 1 Axes>,\n",
       " <Axes3D: xlabel='X (R)', ylabel='Y (A)', zlabel='Z (S)'>)"
      ]
     },
     "execution_count": 7,
     "metadata": {},
     "output_type": "execute_result"
    }
   ],
   "source": [
    "\n",
    "cerebra.plot_3d(plot_bem=True,plot_src_space=True,density=4)"
   ]
  }
 ],
 "metadata": {
  "kernelspec": {
   "display_name": "phd",
   "language": "python",
   "name": "python3"
  },
  "language_info": {
   "codemirror_mode": {
    "name": "ipython",
    "version": 3
   },
   "file_extension": ".py",
   "mimetype": "text/x-python",
   "name": "python",
   "nbconvert_exporter": "python",
   "pygments_lexer": "ipython3",
   "version": "3.10.13"
  }
 },
 "nbformat": 4,
 "nbformat_minor": 2
}
