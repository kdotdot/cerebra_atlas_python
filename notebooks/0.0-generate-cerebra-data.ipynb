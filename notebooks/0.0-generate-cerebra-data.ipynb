{
 "cells": [
  {
   "cell_type": "code",
   "execution_count": 56,
   "metadata": {},
   "outputs": [
    {
     "name": "stdout",
     "output_type": "stream",
     "text": [
      "The autoreload extension is already loaded. To reload it, use:\n",
      "  %reload_ext autoreload\n"
     ]
    }
   ],
   "source": [
    "# Notebook setup\n",
    "%load_ext autoreload\n",
    "%autoreload 2\n",
    "import os\n",
    "import sys\n",
    "nb_dir = os.path.split(os.getcwd())[0]\n",
    "if nb_dir not in sys.path:\n",
    "    sys.path.append(nb_dir)\n",
    "from cerebra_atlas_python.utils import setup_logging\n",
    "setup_logging(level=\"DEBUG\")"
   ]
  },
  {
   "cell_type": "code",
   "execution_count": 57,
   "metadata": {},
   "outputs": [],
   "source": [
    "# Imports\n",
    "import os\n",
    "import os.path as op\n",
    "import logging\n",
    "\n",
    "import mne\n",
    "import numpy as np\n",
    "from mne import bem"
   ]
  },
  {
   "cell_type": "markdown",
   "metadata": {},
   "source": [
    "Freesurfer and MNE must be installed "
   ]
  },
  {
   "cell_type": "markdown",
   "metadata": {},
   "source": [
    "## Constants\n",
    "\n",
    "Datasets:\n",
    "- [CerebrA](https://gin.g-node.org/anamanera/CerebrA/src/master/): $CEREBRA_DIR\n",
    "- [ICBM 2009c Nonlinear Symmetric [NIFTI]](https://nist.mni.mcgill.ca/icbm-152-nonlinear-atlases-2009/): $ICBM_DIR"
   ]
  },
  {
   "cell_type": "code",
   "execution_count": 58,
   "metadata": {},
   "outputs": [],
   "source": [
    "# Datasets\n",
    "ICBM_DIR = op.join(os.getenv(\"DATASETS_DIR\"),\"ICBM_2009c_Nonlinear_Symmetric/mni_icbm152_nlin_sym_09c_nifti\")\n",
    "CEREBRA_DIR = op.join(os.getenv(\"DATASETS_DIR\"),\"Cerebra\")\n",
    "\n",
    "# FreeSurfer\n",
    "FS_SUBJECTS_DIR = os.getenv(\"SUBJECTS_DIR\")\n",
    "NEW_SUBJECT_NAME = \"icbm152\" # Used by FreeSurfer\n",
    "NEW_FS_SUBJECT_DIR = op.join(FS_SUBJECTS_DIR,NEW_SUBJECT_NAME)\n",
    "BEM_DIR = op.join(NEW_FS_SUBJECT_DIR, \"bem\")\n",
    "\n",
    "# Output dir\n",
    "CEREBRA_DATA_DIR = \"../cerebra_atlas_python/cerebra_data\"\n",
    "HEAD_MRI_T_PATH = op.join(CEREBRA_DATA_DIR,\"head_mri_t.fif\")\n",
    "FIDUCIALS_PATH = op.join(BEM_DIR,\"icbm152-fiducials.fif\")\n",
    "INFO_PATH = op.join(CEREBRA_DATA_DIR,\"info.fif\")\n",
    "MONTAGE_KIND = \"GSN-HydroCel-129\"\n",
    "MONTAGE_HEAD_SIZE = 0.1025"
   ]
  },
  {
   "cell_type": "markdown",
   "metadata": {},
   "source": [
    "# MNIAverage (icbm152)"
   ]
  },
  {
   "cell_type": "markdown",
   "metadata": {},
   "source": [
    "#### Run fs recon-all"
   ]
  },
  {
   "cell_type": "code",
   "execution_count": 59,
   "metadata": {},
   "outputs": [
    {
     "name": "stderr",
     "output_type": "stream",
     "text": [
      "INFO:root:icbm152 FreeSurfer subject already exists, skipping recon-all\n"
     ]
    }
   ],
   "source": [
    "subject_dir = op.join(FS_SUBJECTS_DIR, NEW_SUBJECT_NAME)\n",
    "if op.exists(subject_dir):\n",
    "    logging.info(\"%s FreeSurfer subject already exists, skipping recon-all\", NEW_SUBJECT_NAME)\n",
    "else:\n",
    "    logging.info(\"Running recon-all for %s\", NEW_SUBJECT_NAME)\n",
    "    !recon-all -subjid icbm152 -i $ICBM_DIR/mni_icbm152_t1_tal_nlin_sym_09c.nii -all\n",
    "    !mkdir -p $CEREBRA_DATA_DIR/subjects/$NEW_SUBJECT_NAME/mri\n",
    "    !cp $NEW_FS_SUBJECT_DIR/mri/T1.mgz $CEREBRA_DATA_DIR/subjects/$NEW_SUBJECT_NAME/mri/T1.mgz\n",
    "    !cp $NEW_FS_SUBJECT_DIR/mri/wm.asegedit.mgz $CEREBRA_DATA_DIR/subjects/$NEW_SUBJECT_NAME/mri/wm.mgz"
   ]
  },
  {
   "cell_type": "markdown",
   "metadata": {},
   "source": [
    "#### Run mne.bem.make_watershed_bem \n",
    "BEM surfaces were generated using the FreeSurfer watershed algorithm through MNE's `mne.bem.make_watershed_bem` and then manually edited so that all inner surfaces are contained within the outer surfaces as explained [here](https://mne.tools/stable/auto_tutorials/forward/80_fix_bem_in_blender.html)."
   ]
  },
  {
   "cell_type": "code",
   "execution_count": 60,
   "metadata": {},
   "outputs": [
    {
     "name": "stderr",
     "output_type": "stream",
     "text": [
      "INFO:root:BEM surfaces for subject icbm152 already exist, skipping make_watershed_bem\n"
     ]
    }
   ],
   "source": [
    "if op.exists(BEM_DIR):\n",
    "    logging.info(\"BEM surfaces for subject %s already exist, skipping make_watershed_bem\", NEW_SUBJECT_NAME)\n",
    "else: \n",
    "    logging.info(\"Running make_watershed_bem for %s\", NEW_SUBJECT_NAME)\n",
    "    bem.make_watershed_bem(NEW_SUBJECT_NAME)\n",
    "    !mkdir -p $CEREBRA_DATA_DIR/subjects/$NEW_SUBJECT_NAME/bem\n",
    "    !cp $NEW_FS_SUBJECT_DIR/bem/* $CEREBRA_DATA_DIR/subjects/$NEW_SUBJECT_NAME/bem"
   ]
  },
  {
   "cell_type": "markdown",
   "metadata": {},
   "source": [
    "<div style=\"display:flex;align-items:center;justify-content:center;background-color:black;padding:25px;flex-direction:column\"><img src=\"../images/bem_manual_edit.png\" alt=\"BEM MANUAL EDIT\" width=50%></img><br/><small>Manual editing of BEM surfaces produced by make_watershed_bem</small></div>"
   ]
  },
  {
   "cell_type": "markdown",
   "metadata": {},
   "source": [
    "#### Create info (head size)"
   ]
  },
  {
   "cell_type": "code",
   "execution_count": 61,
   "metadata": {},
   "outputs": [],
   "source": [
    "# Remove chin and neck\n",
    "# TODO: Insert reference\n",
    "electrode_names = [\n",
    "        \"E1\",\n",
    "        \"E2\",\n",
    "        \"E3\",\n",
    "        \"E4\",\n",
    "        \"E5\",\n",
    "        \"E6\",\n",
    "        \"E7\",\n",
    "        \"E8\",\n",
    "        \"E9\",\n",
    "        \"E10\",\n",
    "        \"E11\",\n",
    "        \"E12\",\n",
    "        \"E13\",\n",
    "        \"E14\",\n",
    "        \"E15\",\n",
    "        \"E16\",\n",
    "        \"E18\",\n",
    "        \"E19\",\n",
    "        \"E20\",\n",
    "        \"E21\",\n",
    "        \"E22\",\n",
    "        \"E23\",\n",
    "        \"E24\",\n",
    "        \"E25\",\n",
    "        \"E26\",\n",
    "        \"E27\",\n",
    "        \"E28\",\n",
    "        \"E29\",\n",
    "        \"E30\",\n",
    "        \"E31\",\n",
    "        \"E32\",\n",
    "        \"E33\",\n",
    "        \"E34\",\n",
    "        \"E35\",\n",
    "        \"E36\",\n",
    "        \"E37\",\n",
    "        \"E38\",\n",
    "        \"E39\",\n",
    "        \"E40\",\n",
    "        \"E41\",\n",
    "        \"E42\",\n",
    "        \"E43\",\n",
    "        \"E44\",\n",
    "        \"E45\",\n",
    "        \"E46\",\n",
    "        \"E47\",\n",
    "        \"E50\",\n",
    "        \"E51\",\n",
    "        \"E52\",\n",
    "        \"E53\",\n",
    "        \"E54\",\n",
    "        \"E55\",\n",
    "        \"E57\",\n",
    "        \"E58\",\n",
    "        \"E59\",\n",
    "        \"E60\",\n",
    "        \"E61\",\n",
    "        \"E62\",\n",
    "        \"E64\",\n",
    "        \"E65\",\n",
    "        \"E66\",\n",
    "        \"E67\",\n",
    "        \"E69\",\n",
    "        \"E70\",\n",
    "        \"E71\",\n",
    "        \"E72\",\n",
    "        \"E74\",\n",
    "        \"E75\",\n",
    "        \"E76\",\n",
    "        \"E77\",\n",
    "        \"E78\",\n",
    "        \"E79\",\n",
    "        \"E80\",\n",
    "        \"E82\",\n",
    "        \"E83\",\n",
    "        \"E84\",\n",
    "        \"E85\",\n",
    "        \"E86\",\n",
    "        \"E87\",\n",
    "        \"E89\",\n",
    "        \"E90\",\n",
    "        \"E91\",\n",
    "        \"E92\",\n",
    "        \"E93\",\n",
    "        \"E95\",\n",
    "        \"E96\",\n",
    "        \"E97\",\n",
    "        \"E98\",\n",
    "        \"E100\",\n",
    "        \"E101\",\n",
    "        \"E102\",\n",
    "        \"E103\",\n",
    "        \"E104\",\n",
    "        \"E105\",\n",
    "        \"E106\",\n",
    "        \"E108\",\n",
    "        \"E109\",\n",
    "        \"E110\",\n",
    "        \"E111\",\n",
    "        \"E112\",\n",
    "        \"E114\",\n",
    "        \"E115\",\n",
    "        \"E116\",\n",
    "        \"E117\",\n",
    "        \"E118\",\n",
    "        \"E120\",\n",
    "        \"E121\",\n",
    "        \"E122\",\n",
    "        \"E123\",\n",
    "        \"E124\",\n",
    "        \"Cz\",\n",
    "    ]"
   ]
  },
  {
   "cell_type": "code",
   "execution_count": 62,
   "metadata": {},
   "outputs": [
    {
     "name": "stderr",
     "output_type": "stream",
     "text": [
      "INFO:root:BEM surfaces for subject icbm152 already exist, skipping make_watershed_bem\n"
     ]
    }
   ],
   "source": [
    "if op.exists(INFO_PATH):\n",
    "    logging.info(\"BEM surfaces for subject %s already exist, skipping make_watershed_bem\", NEW_SUBJECT_NAME)\n",
    "else:\n",
    "    from cerebra_atlas_python.utils import get_standard_montage\n",
    "    logging.info(\"Creating info file for %s\", NEW_SUBJECT_NAME)\n",
    "    montage = get_standard_montage(electrode_names,kind=MONTAGE_KIND,head_size=MONTAGE_HEAD_SIZE)\n",
    "    kept_ch_names = montage.ch_names\n",
    "    info = mne.create_info(kept_ch_names, 5000, ch_types='eeg', verbose=False)\n",
    "    info.set_montage(montage)\n",
    "    info.save(INFO_PATH)\n"
   ]
  },
  {
   "cell_type": "markdown",
   "metadata": {},
   "source": [
    "#### Manually align fiducials\n",
    "Produces \n",
    "\n",
    "subjects/icbm152/bem/icbm152-fiducials.fif \n",
    "and\n",
    "head_mri_t.fif"
   ]
  },
  {
   "cell_type": "code",
   "execution_count": 63,
   "metadata": {},
   "outputs": [
    {
     "name": "stderr",
     "output_type": "stream",
     "text": [
      "INFO:root:Fiducials and head to mri transform already exists /home/carlos/Datasets/subjects/icbm152/bem/icbm152-fiducials.fif and ../cerebra_atlas_python/cerebra_data/head_mri_t.fif\n"
     ]
    }
   ],
   "source": [
    "# Save fiducials to $bem_dir/icbm152-fiducials.fif\n",
    "# Save fiducials to $./head_mri_t.fif\n",
    "if not op.exists(FIDUCIALS_PATH) or not op.exists(HEAD_MRI_T_PATH):\n",
    "    import mne\n",
    "    mne.gui.coregistration()\n",
    "logging.info(\"Fiducials and head to mri transform already exists %s and %s\", FIDUCIALS_PATH, HEAD_MRI_T_PATH)"
   ]
  },
  {
   "cell_type": "code",
   "execution_count": 79,
   "metadata": {},
   "outputs": [
    {
     "name": "stderr",
     "output_type": "stream",
     "text": [
      "DEBUG:root:Value for variable cerebra_data_path not provided in config.ini[MNIAverage]. Defaulting to cerebra_data_path=/home/carlos/Carlos/cerebra_atlas_python/cerebra_atlas_python/cerebra_data\n",
      "INFO:root:Loading boundary element model from disk | MNIAverage_bem_0.33_0.0042_0.33_ico_4\n",
      "DEBUG:root:Fiducials coordinate frame: 5 (FIFFV_COORD_MRI)\n"
     ]
    },
    {
     "data": {
      "text/plain": [
       "<Transform | head->MRI (surface RAS)>\n",
       "[[ 0.99998409  0.00051499 -0.00561859 -0.00032736]\n",
       " [-0.00093964  0.99711949 -0.07584107 -0.00204062]\n",
       " [ 0.00556335  0.07584514  0.99710411 -0.05805472]\n",
       " [ 0.          0.          0.          1.        ]]"
      ]
     },
     "execution_count": 79,
     "metadata": {},
     "output_type": "execute_result"
    }
   ],
   "source": [
    "from cerebra_atlas_python.mni_average import MNIAverage\n",
    "\n",
    "mni_average = MNIAverage()\n",
    "mni_average.head_mri_t"
   ]
  },
  {
   "cell_type": "code",
   "execution_count": 81,
   "metadata": {},
   "outputs": [
    {
     "name": "stderr",
     "output_type": "stream",
     "text": [
      "DEBUG:qdarkstyle:Reading QSS file in: :qdarkstyle/dark/darkstyle.qss\n",
      "INFO:qdarkstyle:QSS file successfully loaded.\n",
      "DEBUG:qdarkstyle:Checking patches for being applied.\n",
      "INFO:qdarkstyle:Found version patches to be applied.\n",
      "INFO:qdarkstyle:Found application patches to be applied.\n"
     ]
    },
    {
     "data": {
      "text/plain": [
       "<mne.viz.backends._pyvista.PyVistaFigure at 0x7f57a0f1ce20>"
      ]
     },
     "execution_count": 81,
     "metadata": {},
     "output_type": "execute_result"
    }
   ],
   "source": [
    "mne.dig_mri_distances(mni_average.info, mni_average.head_mri_t, mni_average.subject_name).sum()\n",
    "mne.viz.plot_alignment(bem=mni_average.bem, mri_fiducials=mni_average.fiducials, trans=mni_average.head_mri_t, show_axes=True,dig=True, info = info)"
   ]
  },
  {
   "cell_type": "markdown",
   "metadata": {},
   "source": [
    "# CerebrA \n"
   ]
  },
  {
   "cell_type": "code",
   "execution_count": 66,
   "metadata": {},
   "outputs": [],
   "source": [
    "# Make sure its good until here\n",
    "# model = mne.make_bem_model(\n",
    "#     subject=\"icbm152\",\n",
    "#     subjects_dir=FS_SUBJECTS_DIR,\n",
    "#     ico=4,\n",
    "#     conductivity=(0.33, 0.0042, 0.33),\n",
    "# )\n",
    "# bem = mne.make_bem_solution(model)\n",
    "# "
   ]
  },
  {
   "cell_type": "code",
   "execution_count": 67,
   "metadata": {},
   "outputs": [],
   "source": [
    "# cerebra."
   ]
  },
  {
   "cell_type": "code",
   "execution_count": 68,
   "metadata": {},
   "outputs": [],
   "source": [
    "# mne.viz.plot_alignment(bem=bem, mri_fiducials=fiducials, trans=head_mri_t, show_axes=True,dig=True, info = info)"
   ]
  },
  {
   "cell_type": "code",
   "execution_count": null,
   "metadata": {},
   "outputs": [],
   "source": []
  },
  {
   "cell_type": "code",
   "execution_count": null,
   "metadata": {},
   "outputs": [],
   "source": []
  },
  {
   "cell_type": "code",
   "execution_count": null,
   "metadata": {},
   "outputs": [],
   "source": []
  },
  {
   "cell_type": "code",
   "execution_count": null,
   "metadata": {},
   "outputs": [],
   "source": []
  },
  {
   "cell_type": "code",
   "execution_count": null,
   "metadata": {},
   "outputs": [],
   "source": []
  },
  {
   "cell_type": "code",
   "execution_count": null,
   "metadata": {},
   "outputs": [],
   "source": []
  },
  {
   "cell_type": "code",
   "execution_count": null,
   "metadata": {},
   "outputs": [],
   "source": []
  },
  {
   "cell_type": "code",
   "execution_count": null,
   "metadata": {},
   "outputs": [],
   "source": []
  },
  {
   "cell_type": "code",
   "execution_count": 69,
   "metadata": {},
   "outputs": [
    {
     "ename": "NameError",
     "evalue": "name 'plot_alignment' is not defined",
     "output_type": "error",
     "traceback": [
      "\u001b[0;31m---------------------------------------------------------------------------\u001b[0m",
      "\u001b[0;31mNameError\u001b[0m                                 Traceback (most recent call last)",
      "\u001b[1;32m/home/carlos/Carlos/cerebra_atlas_python/notebooks/0.0-generate-cerebra-data.ipynb Cell 29\u001b[0m line \u001b[0;36m1\n\u001b[0;32m----> <a href='vscode-notebook-cell:/home/carlos/Carlos/cerebra_atlas_python/notebooks/0.0-generate-cerebra-data.ipynb#X41sZmlsZQ%3D%3D?line=0'>1</a>\u001b[0m plot_alignment(bem\u001b[39m=\u001b[39mcerebra\u001b[39m.\u001b[39mmni_average\u001b[39m.\u001b[39mbem,mri_fiducials\u001b[39m=\u001b[39mcerebra\u001b[39m.\u001b[39mmni_average\u001b[39m.\u001b[39mfiducials, trans\u001b[39m=\u001b[39mtrans, show_axes\u001b[39m=\u001b[39m\u001b[39mTrue\u001b[39;00m,dig\u001b[39m=\u001b[39m\u001b[39mTrue\u001b[39;00m, info \u001b[39m=\u001b[39m info, src\u001b[39m=\u001b[39mcerebra\u001b[39m.\u001b[39msrc_space)\n",
      "\u001b[0;31mNameError\u001b[0m: name 'plot_alignment' is not defined"
     ]
    }
   ],
   "source": [
    "plot_alignment(bem=cerebra.mni_average.bem,mri_fiducials=cerebra.mni_average.fiducials, trans=trans, show_axes=True,dig=True, info = info, src=cerebra.src_space)"
   ]
  }
 ],
 "metadata": {
  "kernelspec": {
   "display_name": "phd",
   "language": "python",
   "name": "python3"
  },
  "language_info": {
   "codemirror_mode": {
    "name": "ipython",
    "version": 3
   },
   "file_extension": ".py",
   "mimetype": "text/x-python",
   "name": "python",
   "nbconvert_exporter": "python",
   "pygments_lexer": "ipython3",
   "version": "3.10.13"
  }
 },
 "nbformat": 4,
 "nbformat_minor": 2
}
