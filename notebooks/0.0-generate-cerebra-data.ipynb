{
 "cells": [
  {
   "cell_type": "markdown",
   "metadata": {},
   "source": [
    "# Generate cerebra_data\n",
    "Notebook to generate cerebra_data folder (cerebra_atlas_python/cerebra_data)\n",
    "\n",
    "**Requirements:**\n",
    "- FreeSurfer (https://surfer.nmr.mgh.harvard.edu/)\n",
    "- Datasets:\n",
    "    - [CerebrA](https://gin.g-node.org/anamanera/CerebrA/src/master/): $CEREBRA_DIR\n",
    "    - [ICBM 2009c Nonlinear Symmetric [NIFTI]](https://nist.mni.mcgill.ca/icbm-152-nonlinear-atlases-2009/): $ICBM_DIR\n",
    "- Install requirements.txt"
   ]
  },
  {
   "cell_type": "code",
   "execution_count": 1,
   "metadata": {},
   "outputs": [],
   "source": [
    "# Notebook setup\n",
    "%load_ext autoreload\n",
    "%autoreload 2\n",
    "import os\n",
    "import sys\n",
    "nb_dir = os.path.split(os.getcwd())[0]\n",
    "if nb_dir not in sys.path:\n",
    "    sys.path.append(nb_dir)"
   ]
  },
  {
   "cell_type": "code",
   "execution_count": 3,
   "metadata": {},
   "outputs": [],
   "source": [
    "# Imports\n",
    "import os\n",
    "import os.path as op\n",
    "import logging\n",
    "import mne\n",
    "import numpy as np\n",
    "from cerebra_atlas_python.utils import inspect_img, setup_logging, get_volume_ras"
   ]
  },
  {
   "cell_type": "code",
   "execution_count": 4,
   "metadata": {},
   "outputs": [],
   "source": [
    "## Constants\n",
    "\n",
    "# Datasets\n",
    "ICBM_DIR = op.join(\n",
    "    os.getenv(\"DATASETS_DIR\"),\n",
    "    \"ICBM_2009c_Nonlinear_Symmetric/mni_icbm152_nlin_sym_09c_nifti\",\n",
    ")\n",
    "CEREBRA_DIR = op.join(os.getenv(\"DATASETS_DIR\"), \"Cerebra\")\n",
    "\n",
    "# FreeSurfer\n",
    "FS_SUBJECTS_DIR = os.getenv(\"SUBJECTS_DIR\")\n",
    "NEW_SUBJECT_NAME = \"icbm152\"  # Used by FreeSurfer\n",
    "NEW_FS_SUBJECT_DIR = op.join(FS_SUBJECTS_DIR, NEW_SUBJECT_NAME)\n",
    "BEM_DIR = op.join(NEW_FS_SUBJECT_DIR, \"bem\")\n",
    "\n",
    "# Output dir\n",
    "CEREBRA_DATA_DIR = \"../cerebra_atlas_python/cerebra_data\"\n",
    "CEREBRA_DATA_FS_DIR = op.join(CEREBRA_DATA_DIR, \"FreeSurfer\")\n",
    "CEREBRA_DATA_ICBM152_DIR = op.join(CEREBRA_DATA_FS_DIR, \"subjects\", NEW_SUBJECT_NAME)\n",
    "CEREBRA_DATA_MNE_DIR = op.join(CEREBRA_DATA_DIR, \"MNE\")\n",
    "\n",
    "LABEL_DETAILS_PATH = op.join(CEREBRA_DATA_DIR, \"label_details.csv\")"
   ]
  },
  {
   "cell_type": "code",
   "execution_count": 5,
   "metadata": {},
   "outputs": [],
   "source": [
    "setup_logging(\"INFO\")"
   ]
  },
  {
   "cell_type": "code",
   "execution_count": 6,
   "metadata": {},
   "outputs": [
    {
     "name": "stdout",
     "output_type": "stream",
     "text": [
      "\n",
      "FreeSurfer is a set of tools for the analysis and visualization\n",
      "of structural and functional brain imaging data. FreeSurfer\n",
      "also refers to the structural imaging stream within the\n",
      "FreeSurfer suite.\n",
      "\n",
      "Users should consult the online documentation available at:\n",
      "\n",
      "  http://surfer.nmr.mgh.harvard.edu\n",
      "\n",
      "Alternatively, the 'recon-all' command help-text provides\n",
      "adequate information to begin processing subject data, such\n",
      "as the sample subject 'bert' found in the 'freesurfer/subjects'\n",
      "directory.  Type 'recon-all --help' to view this help-text.\n",
      "\n",
      "Direct comments and questions to:\n",
      "\n",
      "  freesurfer@nmr.mgh.harvard.edu\n",
      "\n",
      "You are running this version of FreeSurfer:\n",
      "\n",
      "  freesurfer-linux-ubuntu22_x86_64-7.4.1-20230614-7eb8460\n",
      "\n"
     ]
    }
   ],
   "source": [
    "# FREESURFER must be installed\n",
    "!freesurfer --version"
   ]
  },
  {
   "cell_type": "markdown",
   "metadata": {},
   "source": [
    "# 1) Use Freesurfer to perform cortical reconstruction and generate Boundary Element Model (BEM) surfaces"
   ]
  },
  {
   "cell_type": "markdown",
   "metadata": {},
   "source": [
    "#### Run fs recon-all"
   ]
  },
  {
   "cell_type": "code",
   "execution_count": 7,
   "metadata": {},
   "outputs": [
    {
     "name": "stderr",
     "output_type": "stream",
     "text": [
      " [INFO] 2024-04-11 21:04:22.731 3589068124 - <module>: icbm152 FreeSurfer subject already exists, skipping recon-all\n"
     ]
    }
   ],
   "source": [
    "if op.exists(NEW_FS_SUBJECT_DIR):\n",
    "    logging.info(\"%s FreeSurfer subject already exists, skipping recon-all\", NEW_SUBJECT_NAME)\n",
    "else:\n",
    "    logging.info(\"Running recon-all for %s\", NEW_SUBJECT_NAME)\n",
    "    !recon-all -subjid $NEW_SUBJECT_NAME -i $ICBM_DIR/mni_icbm152_t1_tal_nlin_sym_09c.nii -all\n",
    "!mkdir -p $CEREBRA_DATA_ICBM152_DIR/mri\n",
    "!cp $NEW_FS_SUBJECT_DIR/mri/T1.mgz $CEREBRA_DATA_ICBM152_DIR/mri/T1.mgz\n",
    "!cp $NEW_FS_SUBJECT_DIR/mri/wm.asegedit.mgz $CEREBRA_DATA_ICBM152_DIR/mri/wm.mgz"
   ]
  },
  {
   "cell_type": "markdown",
   "metadata": {},
   "source": [
    "#### Run mne.bem.make_watershed_bem \n",
    "BEM surfaces were generated using the FreeSurfer watershed algorithm through MNE's `mne.bem.make_watershed_bem` and then manually edited so that all inner surfaces are contained within the outer surfaces as explained [here](https://mne.tools/stable/auto_tutorials/forward/80_fix_bem_in_blender.html)."
   ]
  },
  {
   "cell_type": "code",
   "execution_count": 8,
   "metadata": {},
   "outputs": [
    {
     "data": {
      "text/plain": [
       "'/home/carlos/Datasets/subjects/icbm152'"
      ]
     },
     "execution_count": 8,
     "metadata": {},
     "output_type": "execute_result"
    }
   ],
   "source": [
    "NEW_FS_SUBJECT_DIR"
   ]
  },
  {
   "cell_type": "code",
   "execution_count": 9,
   "metadata": {},
   "outputs": [
    {
     "name": "stderr",
     "output_type": "stream",
     "text": [
      " [INFO] 2024-04-11 21:04:28.414 3388132949 - <module>: BEM surfaces for subject icbm152 already exist, skipping make_watershed_bem\n"
     ]
    },
    {
     "name": "stdout",
     "output_type": "stream",
     "text": [
      "cp: -r not specified; omitting directory '/home/carlos/Datasets/subjects/icbm152/bem/do_not_cpt'\n",
      "cp: -r not specified; omitting directory '/home/carlos/Datasets/subjects/icbm152/bem/watershed'\n"
     ]
    }
   ],
   "source": [
    "if op.exists(BEM_DIR):\n",
    "    logging.info(\"BEM surfaces for subject %s already exist, skipping make_watershed_bem\", NEW_SUBJECT_NAME)\n",
    "else: \n",
    "    logging.info(\"Running make_watershed_bem for %s\", NEW_SUBJECT_NAME)\n",
    "    mne.bem.make_watershed_bem(NEW_SUBJECT_NAME)\n",
    "!mkdir -p $CEREBRA_DATA_ICBM152_DIR/bem\n",
    "!cp $NEW_FS_SUBJECT_DIR/bem/* $CEREBRA_DATA_ICBM152_DIR/bem"
   ]
  },
  {
   "cell_type": "markdown",
   "metadata": {},
   "source": [
    "<div style=\"display:flex;align-items:center;justify-content:center;background-color:black;padding:25px;flex-direction:column\"><img src=\"../images/bem_manual_edit.png\" alt=\"BEM MANUAL EDIT\" width=50%></img><br/><small>Manual editing of BEM surfaces produced by make_watershed_bem (FreeSurfer's mri_watershed)</small></div>"
   ]
  },
  {
   "cell_type": "markdown",
   "metadata": {},
   "source": [
    "# 2) Convert CerebrA volume to T1w scan coordinate frame"
   ]
  },
  {
   "cell_type": "code",
   "execution_count": 12,
   "metadata": {},
   "outputs": [
    {
     "name": "stdout",
     "output_type": "stream",
     "text": [
      "mri_convert /home/carlos/Datasets/Cerebra/CerebrA.nii /home/carlos/Datasets/Cerebra/CerebrA.mgz \n",
      "reading from /home/carlos/Datasets/Cerebra/CerebrA.nii...\n",
      "WARNING: hdr.dim[4] = 0 (nframes), setting to 1\n",
      "TR=0.00, TE=0.00, TI=0.00, flip angle=0.00\n",
      "i_ras = (1, 0, 0)\n",
      "j_ras = (0, 1, 0)\n",
      "k_ras = (0, 0, 1)\n",
      "writing to /home/carlos/Datasets/Cerebra/CerebrA.mgz...\n",
      "movvol /home/carlos/Datasets/Cerebra/CerebrA.mgz\n",
      "targvol ../cerebra_atlas_python/cerebra_data/FreeSurfer/subjects/icbm152/mri/T1.mgz\n",
      "outvol ../cerebra_atlas_python/cerebra_data/CerebrA_in_t1.mgz\n",
      "invert 0\n",
      "tal    0\n",
      "talres 2\n",
      "regheader 1\n",
      "noresample 0\n",
      "interp  nearest (0)\n",
      "precision  float (3)\n",
      "Gdiag_no  -1\n",
      "Synth      0\n",
      "SynthSeed  1712880798\n",
      "\n",
      "Computing registration based on scanner-to-scanner\n",
      "\n",
      "Final tkRAS-to-tkRAS Matrix is:\n",
      "-1.00000   0.00000   0.00000   0.00000;\n",
      " 0.00000   0.00000   1.00000   0.00000;\n",
      " 0.00000  -1.00000   0.00000   0.00000;\n",
      " 0.00000   0.00000   0.00000   1.00000;\n",
      "\n",
      "\n",
      "Vox2Vox Matrix is:\n",
      "-1.00000   0.00000   0.00000   224.50000;\n",
      " 0.00000   0.00000   1.00000  -13.50000;\n",
      " 0.00000  -1.00000   0.00000   224.50000;\n",
      " 0.00000   0.00000   0.00000   1.00000;\n",
      "\n",
      "Resampling\n",
      "Output registration matrix is identity\n",
      "\n",
      "mri_vol2vol done\n"
     ]
    }
   ],
   "source": [
    "!mri_convert $CEREBRA_DIR\"/CerebrA.nii\" $CEREBRA_DIR\"/CerebrA.mgz\"\n",
    "!mri_vol2vol --mov $CEREBRA_DIR\"/CerebrA.mgz\" --o $CEREBRA_DATA_DIR\"/CerebrA_in_t1.mgz\" --regheader --targ $CEREBRA_DATA_ICBM152_DIR/mri/T1.mgz --interp nearest"
   ]
  },
  {
   "cell_type": "markdown",
   "metadata": {},
   "source": [
    "##### Plot alignment"
   ]
  },
  {
   "cell_type": "code",
   "execution_count": 13,
   "metadata": {},
   "outputs": [
    {
     "name": "stdout",
     "output_type": "stream",
     "text": [
      "ax.get_xlim()=(0.0, 256.0)\n",
      "fixed_value= 126 cerebra_volume.shape= (256, 256, 256)\n",
      "ax.get_xlim()=(0.0, 256.0)\n",
      "fixed_value= 145 cerebra_volume.shape= (256, 256, 256)\n",
      "ax.get_xlim()=(0.0, 256.0)\n",
      "fixed_value= 108 cerebra_volume.shape= (256, 256, 256)\n",
      "fixed_value= 126 cerebra_volume.shape= (256, 256, 256)\n",
      "fixed_value= 145 cerebra_volume.shape= (256, 256, 256)\n",
      "fixed_value= 108 cerebra_volume.shape= (256, 256, 256)\n"
     ]
    
    }
   ],
   "source": [
    "t1_volume, t1_affine = get_volume_ras(f\"{CEREBRA_DATA_ICBM152_DIR}/mri/T1.mgz\")\n",
    "cerebra_volume, cerebra_affine = get_volume_ras(f\"{CEREBRA_DATA_DIR}/CerebrA_in_t1.mgz\")\n",
    "\n",
    "from cerebra_atlas_python.plotting import orthoview\n",
    "\n",
    "fig, axs = orthoview(\n",
    "    t1_volume, t1_affine, cmap_name=\"gray\", plot_affine=True, narrow_ax=False\n",
    ")\n",
    "orthoview(\n",
    "    cerebra_volume,\n",
    "    cerebra_affine,\n",
    "    fig=fig,\n",
    "    axs=axs,\n",
    "    adjust_ax=False,\n",
    "    add_coordinate_frame_info=False,\n",
    "    add_top_left_info=False,\n",
    ")"
   ]
  },
  {
   "cell_type": "markdown",
   "metadata": {},
   "source": [
    "# 3) Process region metadata"
   ]
  },
  {
   "cell_type": "code",
   "execution_count": 14,
   "metadata": {},
   "outputs": [],
   "source": [
    "import pandas as pd\n",
    "from cerebra_atlas_python.plotting import get_cmap_colors_hex\n",
    "\n",
    "\n",
    "def preprocess_label_details(df: pd.DataFrame) -> pd.DataFrame:\n",
    "    \"\"\"\n",
    "    Preprocesses the given dataframe by performing several operations such as removing rows and columns,\n",
    "    converting data types, duplicating and modifying data, and appending new information.\n",
    "\n",
    "    Args:\n",
    "        df (pd.DataFrame): The dataframe to preprocess.\n",
    "\n",
    "    Returns:\n",
    "        pd.DataFrame: The preprocessed dataframe.\n",
    "    \"\"\"\n",
    "    # Remove first row\n",
    "    df.drop(0, inplace=True)\n",
    "\n",
    "    # Remove unused columns\n",
    "    df.drop(columns=[\"Unnamed: 3\", \"Notes\", \"Dice Kappa\"], inplace=True)\n",
    "\n",
    "    # Change id column from string to int\n",
    "    df[\"CerebrA ID\"] = pd.to_numeric(df[\"CerebrA ID\"])\n",
    "    df[\"CerebrA ID\"] = df[\"CerebrA ID\"].astype(\"uint8\")\n",
    "\n",
    "    # Copy df and append\n",
    "    df = pd.concat([df, df])\n",
    "    df.reset_index(inplace=True, drop=True)\n",
    "\n",
    "    # Modify left side labels\n",
    "    df.loc[\"51\":, \"CerebrA ID\"] = df.loc[\"51\":, \"CerebrA ID\"] + 51\n",
    "\n",
    "    # df[\"Mindboggle ID\"] = df[\"Mindboggle ID\"].astype(\"uint16\")\n",
    "\n",
    "    # Modify names to include hemisphere\n",
    "    df[\"hemisphere\"] = \"\"\n",
    "    # df.loc[:, \"hemisphere\"] = 12\n",
    "    df.loc[\"51\":, \"hemisphere\"] = \"Left\"\n",
    "    df.loc[:\"50\", \"hemisphere\"] = \"Right\"\n",
    "\n",
    "    # Label cortical regions\n",
    "    df[\"cortical\"] = df[\"Mindboggle ID\"] > 1000\n",
    "\n",
    "    # Adjust Mindboggle ids\n",
    "    # (see https://mindboggle.readthedocs.io/en/latest/labels.html)\n",
    "    mask = df[\"cortical\"] & (df[\"hemisphere\"] == \"Left\")\n",
    "    df.loc[mask, \"Mindboggle ID\"] = df.loc[mask, \"Mindboggle ID\"] - 1000\n",
    "\n",
    "    # Add white matter to label details\n",
    "    df.loc[len(df.index)] = [0, \"White matter\", 103, pd.NA, pd.NA]\n",
    "\n",
    "    # Add 'empty' to label details\n",
    "    df.loc[len(df.index)] = [0, \"Empty\", 0, pd.NA, pd.NA]\n",
    "\n",
    "    df.sort_values(by=[\"CerebrA ID\"], inplace=True)\n",
    "    df.reset_index(inplace=True, drop=True)\n",
    "\n",
    "    # Add hemispheresget_label\n",
    "\n",
    "    # Add colors\n",
    "    # Order by CerebrA ID then get colors\n",
    "    df[\"color\"] = get_cmap_colors_hex()\n",
    "\n",
    "    return df\n",
    "\n",
    "\n",
    "def get_label_details(path):\n",
    "    \"\"\"Reads a CSV file from the given path and preprocesses its contents using the preprocess_label_details function.\n",
    "    Returns:\n",
    "        pd.DataFrame: The preprocessed dataframe obtained from the CSV file.\n",
    "    \"\"\"\n",
    "    return preprocess_label_details(pd.read_csv(path))"
   ]
  },
  {
   "cell_type": "code",
   "execution_count": 15,
   "metadata": {},
   "outputs": [
    {
     "data": {
      "text/html": [
       "<div>\n",
       "<style scoped>\n",
       "    .dataframe tbody tr th:only-of-type {\n",
       "        vertical-align: middle;\n",
       "    }\n",
       "\n",
       "    .dataframe tbody tr th {\n",
       "        vertical-align: top;\n",
       "    }\n",
       "\n",
       "    .dataframe thead th {\n",
       "        text-align: right;\n",
       "    }\n",
       "</style>\n",
       "<table border=\"1\" class=\"dataframe\">\n",
       "  <thead>\n",
       "    <tr style=\"text-align: right;\">\n",
       "      <th></th>\n",
       "      <th>Mindboggle ID</th>\n",
       "      <th>Label Name</th>\n",
       "      <th>CerebrA ID</th>\n",
       "      <th>hemisphere</th>\n",
       "      <th>cortical</th>\n",
       "      <th>color</th>\n",
       "    </tr>\n",
       "  </thead>\n",
       "  <tbody>\n",
       "    <tr>\n",
       "      <th>0</th>\n",
       "      <td>0.0</td>\n",
       "      <td>Empty</td>\n",
       "      <td>0</td>\n",
       "      <td>NaN</td>\n",
       "      <td>NaN</td>\n",
       "      <td>#000000</td>\n",
       "    </tr>\n",
       "    <tr>\n",
       "      <th>1</th>\n",
       "      <td>2027.0</td>\n",
       "      <td>Rostral Middle Frontal</td>\n",
       "      <td>1</td>\n",
       "      <td>Right</td>\n",
       "      <td>True</td>\n",
       "      <td>#ff001e</td>\n",
       "    </tr>\n",
       "    <tr>\n",
       "      <th>2</th>\n",
       "      <td>631.0</td>\n",
       "      <td>Vermal lobules VI-VII</td>\n",
       "      <td>2</td>\n",
       "      <td>Right</td>\n",
       "      <td>False</td>\n",
       "      <td>#ff0013</td>\n",
       "    </tr>\n",
       "    <tr>\n",
       "      <th>3</th>\n",
       "      <td>2009.0</td>\n",
       "      <td>Inferior temporal</td>\n",
       "      <td>3</td>\n",
       "      <td>Right</td>\n",
       "      <td>True</td>\n",
       "      <td>#ff0003</td>\n",
       "    </tr>\n",
       "    <tr>\n",
       "      <th>4</th>\n",
       "      <td>58.0</td>\n",
       "      <td>Accumbens Area</td>\n",
       "      <td>4</td>\n",
       "      <td>Right</td>\n",
       "      <td>False</td>\n",
       "      <td>#ff0700</td>\n",
       "    </tr>\n",
       "    <tr>\n",
       "      <th>...</th>\n",
       "      <td>...</td>\n",
       "      <td>...</td>\n",
       "      <td>...</td>\n",
       "      <td>...</td>\n",
       "      <td>...</td>\n",
       "      <td>...</td>\n",
       "    </tr>\n",
       "    <tr>\n",
       "      <th>99</th>\n",
       "      <td>53.0</td>\n",
       "      <td>Hippocampus</td>\n",
       "      <td>99</td>\n",
       "      <td>Left</td>\n",
       "      <td>False</td>\n",
       "      <td>#ff00f0</td>\n",
       "    </tr>\n",
       "    <tr>\n",
       "      <th>100</th>\n",
       "      <td>50.0</td>\n",
       "      <td>Caudate</td>\n",
       "      <td>100</td>\n",
       "      <td>Left</td>\n",
       "      <td>False</td>\n",
       "      <td>#ff00e5</td>\n",
       "    </tr>\n",
       "    <tr>\n",
       "      <th>101</th>\n",
       "      <td>630.0</td>\n",
       "      <td>Vermal lobules I-V</td>\n",
       "      <td>101</td>\n",
       "      <td>Left</td>\n",
       "      <td>False</td>\n",
       "      <td>#ff00d4</td>\n",
       "    </tr>\n",
       "    <tr>\n",
       "      <th>102</th>\n",
       "      <td>1031.0</td>\n",
       "      <td>Supramarginal</td>\n",
       "      <td>102</td>\n",
       "      <td>Left</td>\n",
       "      <td>True</td>\n",
       "      <td>#ff00ca</td>\n",
       "    </tr>\n",
       "    <tr>\n",
       "      <th>103</th>\n",
       "      <td>0.0</td>\n",
       "      <td>White matter</td>\n",
       "      <td>103</td>\n",
       "      <td>NaN</td>\n",
       "      <td>&lt;NA&gt;</td>\n",
       "      <td>#ffdddd</td>\n",
       "    </tr>\n",
       "  </tbody>\n",
       "</table>\n",
       "<p>104 rows × 6 columns</p>\n",
       "</div>"
      ],
      "text/plain": [
       "     Mindboggle ID              Label Name  CerebrA ID hemisphere cortical  \\\n",
       "0              0.0                   Empty           0        NaN      NaN   \n",
       "1           2027.0  Rostral Middle Frontal           1      Right     True   \n",
       "2            631.0   Vermal lobules VI-VII           2      Right    False   \n",
       "3           2009.0       Inferior temporal           3      Right     True   \n",
       "4             58.0          Accumbens Area           4      Right    False   \n",
       "..             ...                     ...         ...        ...      ...   \n",
       "99            53.0             Hippocampus          99       Left    False   \n",
       "100           50.0                 Caudate         100       Left    False   \n",
       "101          630.0      Vermal lobules I-V         101       Left    False   \n",
       "102         1031.0           Supramarginal         102       Left     True   \n",
       "103            0.0            White matter         103        NaN     <NA>   \n",
       "\n",
       "       color  \n",
       "0    #000000  \n",
       "1    #ff001e  \n",
       "2    #ff0013  \n",
       "3    #ff0003  \n",
       "4    #ff0700  \n",
       "..       ...  \n",
       "99   #ff00f0  \n",
       "100  #ff00e5  \n",
       "101  #ff00d4  \n",
       "102  #ff00ca  \n",
       "103  #ffdddd  \n",
       "\n",
       "[104 rows x 6 columns]"
      ]
     },
     "execution_count": 15,
     "metadata": {},
     "output_type": "execute_result"
    }
   ],
   "source": [
    "label_details_path = op.join(CEREBRA_DIR, \"CerebrA_LabelDetails.csv\")\n",
    "processed_label_details = get_label_details(label_details_path)\n",
    "processed_label_details.to_csv(LABEL_DETAILS_PATH)\n",
    "processed_label_details"
   ]
  }
 ],
 "metadata": {
  "kernelspec": {
   "display_name": "phd",
   "language": "python",
   "name": "python3"
  },
  "language_info": {
   "codemirror_mode": {
    "name": "ipython",
    "version": 3
   },
   "file_extension": ".py",
   "mimetype": "text/x-python",
   "name": "python",
   "nbconvert_exporter": "python",
   "pygments_lexer": "ipython3",
   "version": "3.8.19"
  }
 },
 "nbformat": 4,
 "nbformat_minor": 2
}
