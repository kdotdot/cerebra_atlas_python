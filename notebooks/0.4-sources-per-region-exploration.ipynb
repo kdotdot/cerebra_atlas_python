{
 "cells": [
  {
   "cell_type": "code",
   "execution_count": 1,
   "metadata": {},
   "outputs": [],
   "source": [
    "%load_ext autoreload\n",
    "%autoreload 2\n",
    "import os\n",
    "import sys\n",
    "nb_dir = os.path.split(os.getcwd())[0]\n",
    "if nb_dir not in sys.path:\n",
    "    sys.path.append(nb_dir)"
   ]
  },
  {
   "cell_type": "code",
   "execution_count": 2,
   "metadata": {},
   "outputs": [],
   "source": [
    "import mne\n",
    "import logging\n",
    "import numpy as np\n",
    "import matplotlib.pyplot as plt\n",
    "from cerebra_atlas_python.cerebra import CerebrA \n",
    "from cerebra_atlas_python.plotting import get_cmap_colors,add_grid_to_ax, remove_ax\n",
    "from cerebra_atlas_python.utils import setup_logging"
   ]
  },
  {
   "cell_type": "code",
   "execution_count": 3,
   "metadata": {},
   "outputs": [],
   "source": [
    "setup_logging(level=logging.INFO)"
   ]
  },
  {
   "cell_type": "code",
   "execution_count": 4,
   "metadata": {},
   "outputs": [
    {
     "name": "stderr",
     "output_type": "stream",
     "text": [
      " [INFO] 2023-12-08 13:36:43.107 mni_average - _set_bem: Loading boundary element model from disk | MNIAverage_bem_0.33_0.0042_0.33_ico_4\n"
     ]
    },
    {
     "data": {
      "text/html": [
       "<div>\n",
       "<style scoped>\n",
       "    .dataframe tbody tr th:only-of-type {\n",
       "        vertical-align: middle;\n",
       "    }\n",
       "\n",
       "    .dataframe tbody tr th {\n",
       "        vertical-align: top;\n",
       "    }\n",
       "\n",
       "    .dataframe thead th {\n",
       "        text-align: right;\n",
       "    }\n",
       "</style>\n",
       "<table border=\"1\" class=\"dataframe\">\n",
       "  <thead>\n",
       "    <tr style=\"text-align: right;\">\n",
       "      <th></th>\n",
       "      <th>Mindboggle ID</th>\n",
       "      <th>Label Name</th>\n",
       "      <th>CerebrA ID</th>\n",
       "      <th>hemisphere</th>\n",
       "      <th>cortical</th>\n",
       "      <th>color</th>\n",
       "    </tr>\n",
       "  </thead>\n",
       "  <tbody>\n",
       "    <tr>\n",
       "      <th>0</th>\n",
       "      <td>0.0</td>\n",
       "      <td>Empty</td>\n",
       "      <td>0</td>\n",
       "      <td>NaN</td>\n",
       "      <td>False</td>\n",
       "      <td>#000000</td>\n",
       "    </tr>\n",
       "    <tr>\n",
       "      <th>1</th>\n",
       "      <td>2027.0</td>\n",
       "      <td>Rostral Middle Frontal</td>\n",
       "      <td>1</td>\n",
       "      <td>Right</td>\n",
       "      <td>True</td>\n",
       "      <td>#ff001e</td>\n",
       "    </tr>\n",
       "    <tr>\n",
       "      <th>2</th>\n",
       "      <td>631.0</td>\n",
       "      <td>Vermal lobules VI-VII</td>\n",
       "      <td>2</td>\n",
       "      <td>Right</td>\n",
       "      <td>False</td>\n",
       "      <td>#ff0013</td>\n",
       "    </tr>\n",
       "    <tr>\n",
       "      <th>3</th>\n",
       "      <td>2009.0</td>\n",
       "      <td>Inferior temporal</td>\n",
       "      <td>3</td>\n",
       "      <td>Right</td>\n",
       "      <td>True</td>\n",
       "      <td>#ff0003</td>\n",
       "    </tr>\n",
       "    <tr>\n",
       "      <th>4</th>\n",
       "      <td>58.0</td>\n",
       "      <td>Accumbens Area</td>\n",
       "      <td>4</td>\n",
       "      <td>Right</td>\n",
       "      <td>False</td>\n",
       "      <td>#ff0700</td>\n",
       "    </tr>\n",
       "    <tr>\n",
       "      <th>...</th>\n",
       "      <td>...</td>\n",
       "      <td>...</td>\n",
       "      <td>...</td>\n",
       "      <td>...</td>\n",
       "      <td>...</td>\n",
       "      <td>...</td>\n",
       "    </tr>\n",
       "    <tr>\n",
       "      <th>99</th>\n",
       "      <td>53.0</td>\n",
       "      <td>Hippocampus</td>\n",
       "      <td>99</td>\n",
       "      <td>Left</td>\n",
       "      <td>False</td>\n",
       "      <td>#ff00f0</td>\n",
       "    </tr>\n",
       "    <tr>\n",
       "      <th>100</th>\n",
       "      <td>50.0</td>\n",
       "      <td>Caudate</td>\n",
       "      <td>100</td>\n",
       "      <td>Left</td>\n",
       "      <td>False</td>\n",
       "      <td>#ff00e5</td>\n",
       "    </tr>\n",
       "    <tr>\n",
       "      <th>101</th>\n",
       "      <td>630.0</td>\n",
       "      <td>Vermal lobules I-V</td>\n",
       "      <td>101</td>\n",
       "      <td>Left</td>\n",
       "      <td>False</td>\n",
       "      <td>#ff00d4</td>\n",
       "    </tr>\n",
       "    <tr>\n",
       "      <th>102</th>\n",
       "      <td>1031.0</td>\n",
       "      <td>Supramarginal</td>\n",
       "      <td>102</td>\n",
       "      <td>Left</td>\n",
       "      <td>True</td>\n",
       "      <td>#ff00ca</td>\n",
       "    </tr>\n",
       "    <tr>\n",
       "      <th>103</th>\n",
       "      <td>0.0</td>\n",
       "      <td>White matter</td>\n",
       "      <td>103</td>\n",
       "      <td>NaN</td>\n",
       "      <td>False</td>\n",
       "      <td>#ffdddd</td>\n",
       "    </tr>\n",
       "  </tbody>\n",
       "</table>\n",
       "<p>104 rows × 6 columns</p>\n",
       "</div>"
      ],
      "text/plain": [
       "     Mindboggle ID              Label Name  CerebrA ID hemisphere  cortical  \\\n",
       "0              0.0                   Empty           0        NaN     False   \n",
       "1           2027.0  Rostral Middle Frontal           1      Right      True   \n",
       "2            631.0   Vermal lobules VI-VII           2      Right     False   \n",
       "3           2009.0       Inferior temporal           3      Right      True   \n",
       "4             58.0          Accumbens Area           4      Right     False   \n",
       "..             ...                     ...         ...        ...       ...   \n",
       "99            53.0             Hippocampus          99       Left     False   \n",
       "100           50.0                 Caudate         100       Left     False   \n",
       "101          630.0      Vermal lobules I-V         101       Left     False   \n",
       "102         1031.0           Supramarginal         102       Left      True   \n",
       "103            0.0            White matter         103        NaN     False   \n",
       "\n",
       "       color  \n",
       "0    #000000  \n",
       "1    #ff001e  \n",
       "2    #ff0013  \n",
       "3    #ff0003  \n",
       "4    #ff0700  \n",
       "..       ...  \n",
       "99   #ff00f0  \n",
       "100  #ff00e5  \n",
       "101  #ff00d4  \n",
       "102  #ff00ca  \n",
       "103  #ffdddd  \n",
       "\n",
       "[104 rows x 6 columns]"
      ]
     },
     "execution_count": 4,
     "metadata": {},
     "output_type": "execute_result"
    }
   ],
   "source": [
    "cerebra = CerebrA()\n",
    "cerebra.label_details"
   ]
  },
  {
   "cell_type": "code",
   "execution_count": 5,
   "metadata": {},
   "outputs": [],
   "source": [
    "%matplotlib qt"
   ]
  },
  {
   "cell_type": "code",
   "execution_count": 6,
   "metadata": {},
   "outputs": [
    {
     "data": {
      "text/plain": [
       "([<matplotlib.patches.Wedge at 0x7f4459922590>,\n",
       "  <matplotlib.patches.Wedge at 0x7f44599224d0>],\n",
       " [Text(-0.3655903556118915, 1.0374698510721025, 'Cortical (N=62)'),\n",
       "  Text(0.3655904527468272, -1.037469816843059, 'Non-cortical (N=40)')])"
      ]
     },
     "execution_count": 6,
     "metadata": {},
     "output_type": "execute_result"
    }
   ],
   "source": [
    "# CORTICAL vs NON-CORTICAL pie chart\n",
    "n_cortical = np.sum(cerebra.label_details[\"cortical\"])\n",
    "n_non_cortical = 102 - n_cortical\n",
    "plt.pie([n_cortical, n_non_cortical],labels=[f\"Cortical (N={n_cortical})\", f\"Non-cortical (N={n_non_cortical})\"], colors=[cerebra.cortical_color,cerebra.non_cortical_color])"
   ]
  },
  {
   "cell_type": "code",
   "execution_count": 7,
   "metadata": {},
   "outputs": [
    {
     "name": "stderr",
     "output_type": "stream",
     "text": [
      " [INFO] 2023-12-08 13:36:46.403 mni_average - _set_bem: Loading boundary element model from disk | MNIAverage_bem_0.33_0.0042_0.33_ico_4\n"
     ]
    },
    {
     "data": {
      "text/plain": [
       "(<Figure size 1500x1500 with 4 Axes>,\n",
       " array([[<Axes: xlabel='Y', ylabel='Z'>, <Axes: xlabel='X', ylabel='Z'>],\n",
       "        [<Axes: xlabel='X', ylabel='Y'>, <Axes: >]], dtype=object))"
      ]
     },
     "execution_count": 7,
     "metadata": {},
     "output_type": "execute_result"
    }
   ],
   "source": [
    "# transform = cerebra.mni_average.head_mri_t\n",
    "cerebra = CerebrA()\n",
    "\n",
    "cerebra.orthoview(plot_regions=True,plot_t1_volume=True, plot_affine=True, plot_src_space=True, plot_cortical=True, plot_bem_surfaces=True)"
   ]
  },
  {
   "cell_type": "code",
   "execution_count": 8,
   "metadata": {},
   "outputs": [
    {
     "data": {
      "text/plain": [
       "(<Figure size 640x480 with 1 Axes>,\n",
       " <Axes3D: xlabel='X (R)', ylabel='Y (A)', zlabel='Z (S)'>)"
      ]
     },
     "execution_count": 8,
     "metadata": {},
     "output_type": "execute_result"
    }
   ],
   "source": [
    "cerebra.plot_3d(plot_regions=True, plot_src_space=False, density=4, plot_cortical=True)"
   ]
  },
  {
   "cell_type": "code",
   "execution_count": 14,
   "metadata": {},
   "outputs": [],
   "source": [
    "plt.close(\"all\")\n",
    "\n",
    "PLOT_ONLY_CORTICAL = False \n",
    "PLOT_ONLY_NON_CORTICAL = False \n",
    "# Else plot both\n",
    "INCLUDE_WHITE_MATTER = True \n",
    "\n",
    "\n",
    "# LOG scale for histogram\n",
    "# Distribution of points per region\n",
    "# Keep only leftside labels (symmetrical)\n",
    "leftside_label_details = cerebra.label_details[cerebra.label_details['hemisphere'] == \"Left\"].copy()\n",
    "wm_label_details = cerebra.label_details[cerebra.label_details['Label Name'] == \"White matter\"].copy()\n",
    "\n",
    "n_points = np.array([cerebra.get_n_points_from_region_id(region_id) for region_id in leftside_label_details['CerebrA ID'].values])\n",
    "leftside_label_details[\"npoints\"] = n_points\n",
    "\n",
    "cortical_label_details = leftside_label_details.loc[leftside_label_details['cortical'] == True,:].copy()\n",
    "non_cortical_label_details = leftside_label_details.loc[leftside_label_details['cortical'] == False,:].copy()\n",
    "\n",
    "leftside_label_details.sort_values(by=['npoints'],inplace=True)\n",
    "cortical_label_details.sort_values(by=['npoints'],inplace=True)\n",
    "non_cortical_label_details.sort_values(by=['npoints'],inplace=True)\n",
    "\n",
    "white_matter_n_points = cerebra.get_n_points_from_region_id(103)\n",
    "empty_n_points = cerebra.get_n_points_from_region_id(0)\n",
    "\n",
    "\n",
    "\n",
    "# Define data and colors for each bar\n",
    "if PLOT_ONLY_CORTICAL:\n",
    "    data = np.array([*cortical_label_details[\"npoints\"].values])\n",
    "    colors = np.array([*cortical_label_details[\"color\"].values])\n",
    "    labels = np.array([*cortical_label_details[\"Label Name\"].values])\n",
    "    label_ids = np.array(cortical_label_details['CerebrA ID'].values)\n",
    "elif PLOT_ONLY_NON_CORTICAL:\n",
    "    data = np.array([*non_cortical_label_details[\"npoints\"].values])\n",
    "    colors = np.array([*non_cortical_label_details[\"color\"].values])\n",
    "    labels = np.array([*non_cortical_label_details[\"Label Name\"].values])\n",
    "    label_ids = np.array(non_cortical_label_details['CerebrA ID'].values)\n",
    "elif INCLUDE_WHITE_MATTER:\n",
    "    data = np.array([white_matter_n_points,*leftside_label_details[\"npoints\"].values])\n",
    "    colors = np.array([wm_label_details[\"color\"].item(), *leftside_label_details[\"color\"].values])\n",
    "    labels = np.array([wm_label_details[\"Label Name\"].item(),*leftside_label_details[\"Label Name\"].values])\n",
    "    label_ids = np.array([wm_label_details[\"CerebrA ID\"].item(),*leftside_label_details['CerebrA ID'].values])\n",
    "else:\n",
    "    data = np.array([*leftside_label_details[\"npoints\"].values])\n",
    "    colors = np.array([ *leftside_label_details[\"color\"].values])\n",
    "    labels = np.array([*leftside_label_details[\"Label Name\"].values])\n",
    "    label_ids = np.array([*leftside_label_details['CerebrA ID'].values])\n",
    "    \n",
    "# PIE CHART\n",
    "fig2,ax2 = plt.subplots()\n",
    "fig2.set_size_inches(12, 10)\n",
    "threshold = data.sum() * 0.01\n",
    "labels_pie = [l if data[i] > threshold else \"\" for i,l in enumerate(labels)]\n",
    "ax2.pie(data,colors=colors,labels=labels_pie)\n",
    "plt.show()\n",
    "# HISTOGRAM\n",
    "fig, ax = plt.subplots()\n",
    "ax = remove_ax(ax,keep_names=[\"left\",\"top\"])    \n",
    "    \n",
    "for i, n_pts in enumerate(data):\n",
    "    if n_pts == 0:\n",
    "        continue\n",
    "    p =ax.barh(i,n_pts, color=colors[i], linestyle='-', height=1,label=labels[i],edgecolor = \"white\", linewidth=0)\n",
    "    # ax.bar_label(p, label_type='edge', padding=10,fontsize=16)\n",
    "    ax.bar_label(p, label_type='edge', padding=10,fontsize=16,fontweight='bold')\n",
    "\n",
    "add_grid_to_ax(ax)\n",
    "ax.xaxis.tick_top()\n",
    "\n",
    "fig.suptitle(f\"Distribution of points per {'(cortical)' if PLOT_ONLY_CORTICAL else '(non-cortical)' if PLOT_ONLY_NON_CORTICAL else ''} region\")\n",
    "\n",
    "ax.set_xlabel(\"Number of points\")\n",
    "ax.set_xticks((np.linspace(0,data.max(),num=20) / 100).astype(int) *100)\n",
    "\n",
    "# # Add labels to bins\n",
    "\n",
    "for i,(name,id) in enumerate(zip(labels,label_ids)):\n",
    "    ax.text(-data.max()*0.02,i, f\"{name} id:{id}\",fontsize=16,verticalalignment='center',horizontalalignment='right')\n",
    "\n",
    "fig.set_size_inches(28.5, 15.5)\n",
    "\n",
    "\n",
    "\n",
    "\n",
    "mngr = plt.get_current_fig_manager()\n",
    "geom = mngr.window.geometry()\n",
    "x,y,dx,dy = geom.getRect()\n",
    "mngr.window.setGeometry(2600, 00, dx, dy)\n",
    "\n",
    "# mngr.window.setGeometry(500,100,640, 545)"
   ]
  },
  {
   "cell_type": "code",
   "execution_count": 15,
   "metadata": {},
   "outputs": [
    {
     "name": "stdout",
     "output_type": "stream",
     "text": [
      "Source space n points: (43498, 3)\n"
     ]
    },
    {
     "data": {
      "text/plain": [
       "(<Figure size 1500x1500 with 4 Axes>,\n",
       " array([[<Axes: xlabel='Y', ylabel='Z'>, <Axes: xlabel='X', ylabel='Z'>],\n",
       "        [<Axes: xlabel='X', ylabel='Y'>, <Axes: >]], dtype=object))"
      ]
     },
     "execution_count": 15,
     "metadata": {},
     "output_type": "execute_result"
    }
   ],
   "source": [
    "# Plot cortical region distribution\n",
    "print(f\"Source space n points: {cerebra.get_src_space_pc().shape}\")\n",
    "# Visualize source spaceremove_axis\n",
    "cerebra.plot_3d(plot_regions=False, plot_src_space=True)\n",
    "cerebra.orthoview(plot_regions=False,plot_src_space=True,s=1)"
   ]
  },
  {
   "cell_type": "code",
   "execution_count": 37,
   "metadata": {},
   "outputs": [
    {
     "name": "stderr",
     "output_type": "stream",
     "text": [
      " [INFO] 2023-12-08 14:25:28.483 mni_average - _set_bem: Loading boundary element model from disk | MNIAverage_bem_0.33_0.0042_0.33_ico_4\n"
     ]
    },
    {
     "name": "stdout",
     "output_type": "stream",
     "text": [
      "[   0.  820.   67.  613.   18.   41.  185.  569.  140.  745.  964.  581.\n",
      "  462.  666.   69.  341.  312.   31.   93.   56.   80.  250.  298.  386.\n",
      "  480.    6.  222.   62. 1057.   11.  124.  696.  296.  163.  844.  798.\n",
      "  116.   22. 1986.  459.  394.  365.  485.  303.  135.  922. 2666.  203.\n",
      "  179.  208.  165.  590.  805.   89.  609.   23.   43.  185.  577.  145.\n",
      "  717.  967.  636.  456.  674.   71.  328.  313.   32.   96.   51.   95.\n",
      "  245.  296.  339.  511.    7.  221.   63. 1078.   42.  151.  694.  280.\n",
      "  168.  838.  780.  110.   26. 1932.  473.  388.  357.  465.  316.  135.\n",
      "  933. 2657.  208.  179.  213.  165.  572.    0.]\n",
      "     Mindboggle ID              Label Name  CerebrA ID hemisphere  cortical  \\\n",
      "0              0.0                   Empty           0        NaN     False   \n",
      "103            0.0            White matter         103        NaN     False   \n",
      "25            92.0         Basal Forebrain          25      Right     False   \n",
      "76            92.0         Basal Forebrain          76       Left     False   \n",
      "29            14.0         Third Ventricle          29      Right     False   \n",
      "..             ...                     ...         ...        ...       ...   \n",
      "79          1015.0         Middle Temporal          79       Left      True   \n",
      "89          1028.0        Superior Frontal          89       Left      True   \n",
      "38          2028.0        Superior Frontal          38      Right      True   \n",
      "97            45.0  Cerebellum Gray Matter          97       Left     False   \n",
      "46            45.0  Cerebellum Gray Matter          46      Right     False   \n",
      "\n",
      "       color  vol_src_count  \n",
      "0    #000000            0.0  \n",
      "103  #ffdddd            0.0  \n",
      "25   #d8ff00            6.0  \n",
      "76   #002dff            7.0  \n",
      "29   #a2ff00           11.0  \n",
      "..       ...            ...  \n",
      "79   #0001ff         1078.0  \n",
      "89   #8500ff         1932.0  \n",
      "38   #2bff00         1986.0  \n",
      "97   #f200ff         2657.0  \n",
      "46   #00ff40         2666.0  \n",
      "\n",
      "[104 rows x 7 columns]\n"
     ]
    }
   ],
   "source": [
    "cerebra = CerebrA()\n",
    "plt.close(\"all\")\n",
    "\n",
    "counts = np.zeros(104)\n",
    "# for pt in cerebra.src_space_points:\n",
    "regions = np.array([cerebra.get_region_id_from_point(pt) for pt in cerebra.src_space_points])\n",
    "for r in regions:\n",
    "    counts[r] += 1\n",
    "\n",
    "print(counts)\n",
    "\n",
    "# plt.hist(n_points)\n",
    "cerebra.label_details[\"vol_src_count\"] = counts\n",
    "cerebra.label_details.sort_values(by=['vol_src_count'],inplace=True)\n",
    "print(cerebra.label_details)\n",
    "data = np.array([*cerebra.label_details[\"vol_src_count\"].values])\n",
    "colors = np.array([*cerebra.label_details[\"color\"].values])\n",
    "labels = np.array([*cerebra.label_details[\"Label Name\"].values])\n",
    "label_ids = np.array([*cerebra.label_details['CerebrA ID'].values])\n",
    "hemispheres = np.array(cerebra.label_details['hemisphere'].values)\n",
    "# label_ids [((hemisphere + \" \"+ l_id) if hemisphere else l_id) for (l_id,hemisphere) in zip(label_ids, cerebra.label_details['hemisphere'].values)]\n",
    "tot_vol_src_count = np.array(cerebra.label_details['vol_src_count'].values).sum()\n",
    "data = np.array([*cerebra.label_details[\"vol_src_count\"].values])\n",
    "labels = [(f\"{h} {l} {count/tot_vol_src_count * 100:.3f}%\" if h else str(l)) for l,h, count in zip(labels, hemispheres, data)]\n",
    "\n",
    "# PIE CHART\n",
    "fig2,ax2 = plt.subplots()\n",
    "fig2.set_size_inches(12, 10)\n",
    "threshold = data.sum() * 0.01\n",
    "labels_pie = [l if data[i] > threshold else \"\" for i,l in enumerate(labels)]\n",
    "ax2.pie(data,colors=colors,labels=labels_pie)\n",
    "plt.show()\n",
    "\n",
    "# HISTOGRAM\n",
    "fig, ax = plt.subplots()\n",
    "ax = remove_ax(ax,keep_names=[\"left\",\"top\"])    \n",
    "    \n",
    "for i, n_pts in enumerate(data):\n",
    "    if n_pts == 0:\n",
    "        continue\n",
    "    p =ax.barh(i,n_pts, color=colors[i], linestyle='-', height=1,label=labels[i],edgecolor = \"white\", linewidth=0)\n",
    "    # ax.bar_label(p, label_type='edge', padding=10,fontsize=16)\n",
    "    ax.bar_label(p, label_type='edge', padding=10,fontsize=12,fontweight='bold')\n",
    "\n",
    "add_grid_to_ax(ax)\n",
    "ax.xaxis.tick_top()\n",
    "\n",
    "fig.suptitle(f\"Distribution of regions in the source space\\n total points: {tot_vol_src_count}\")\n",
    "\n",
    "ax.set_xlabel(\"Number of points in source space\")\n",
    "ax.set_xticks((np.linspace(0,data.max(),num=20) / 100).astype(int) *100)\n",
    "# # Add labels to bins\n",
    "\n",
    "for i,(name,id) in enumerate(zip(labels,label_ids)):\n",
    "    ax.text(-data.max()*0.02,i, f\"{name} id:{id}\",fontsize=10,verticalalignment='center',horizontalalignment='right')\n",
    "\n",
    "fig.set_size_inches(28.5, 15.5)\n",
    "\n",
    "\n",
    "\n",
    "\n",
    "mngr = plt.get_current_fig_manager()\n",
    "geom = mngr.window.geometry()\n",
    "x,y,dx,dy = geom.getRect()\n",
    "mngr.window.setGeometry(2600, 00, dx, dy)\n"
   ]
  },
  {
   "cell_type": "code",
   "execution_count": null,
   "metadata": {},
   "outputs": [
    {
     "data": {
      "text/plain": [
       "(<Figure size 1500x1500 with 4 Axes>,\n",
       " array([[<Axes: xlabel='Y', ylabel='Z'>, <Axes: xlabel='X', ylabel='Z'>],\n",
       "        [<Axes: xlabel='X', ylabel='Y'>, <Axes: >]], dtype=object))"
      ]
     },
     "execution_count": 53,
     "metadata": {},
     "output_type": "execute_result"
    }
   ],
   "source": [
    "cerebra.orthoview(plot_affine=False, plot_whitematter=True,plot_regions=False, plot_src_space=True)"
   ]
  },
  {
   "cell_type": "code",
   "execution_count": null,
   "metadata": {},
   "outputs": [
    {
     "data": {
      "text/plain": [
       "(<Figure size 640x480 with 1 Axes>,\n",
       " <Axes3D: xlabel='X (R)', ylabel='Y (A)', zlabel='Z (S)'>)"
      ]
     },
     "execution_count": 52,
     "metadata": {},
     "output_type": "execute_result"
    }
   ],
   "source": [
    "cerebra.plot_3d(plot_src_space=True)"
   ]
  },
  {
   "cell_type": "code",
   "execution_count": null,
   "metadata": {},
   "outputs": [
    {
     "data": {
      "text/plain": [
       "<SourceSpaces: [<volume, shape=(33, 40, 35), n_used=19842>] MRI (surface RAS) coords, subject 'MNIAverage', ~11.7 MB>"
      ]
     },
     "execution_count": 55,
     "metadata": {},
     "output_type": "execute_result"
    }
   ],
   "source": [
    "cerebra.mni_average.vol_src"
   ]
  },
  {
   "cell_type": "code",
   "execution_count": null,
   "metadata": {},
   "outputs": [],
   "source": [
    "\n",
    "modify_src_space(cerebra.mni_average.vol_src)"
   ]
  },
  {
   "cell_type": "code",
   "execution_count": null,
   "metadata": {},
   "outputs": [
    {
     "data": {
      "text/plain": [
       "(<Figure size 1500x1500 with 4 Axes>,\n",
       " array([[<Axes: xlabel='Y', ylabel='Z'>, <Axes: xlabel='X', ylabel='Z'>],\n",
       "        [<Axes: xlabel='X', ylabel='Y'>, <Axes: >]], dtype=object))"
      ]
     },
     "execution_count": 44,
     "metadata": {},
     "output_type": "execute_result"
    }
   ],
   "source": [
    "cerebra.orthoview(plot_affine=False, plot_whitematter=True,plot_regions=False, plot_src_space=True)"
   ]
  }
 ],
 "metadata": {
  "kernelspec": {
   "display_name": "phd",
   "language": "python",
   "name": "python3"
  },
  "language_info": {
   "codemirror_mode": {
    "name": "ipython",
    "version": 3
   },
   "file_extension": ".py",
   "mimetype": "text/x-python",
   "name": "python",
   "nbconvert_exporter": "python",
   "pygments_lexer": "ipython3",
   "version": "3.10.13"
  }
 },
 "nbformat": 4,
 "nbformat_minor": 2
}
