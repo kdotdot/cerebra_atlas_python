{
 "cells": [
  {
   "cell_type": "code",
   "execution_count": 2,
   "metadata": {},
   "outputs": [
    {
     "name": "stdout",
     "output_type": "stream",
     "text": [
      "The autoreload extension is already loaded. To reload it, use:\n",
      "  %reload_ext autoreload\n"
     ]
    }
   ],
   "source": [
    "%load_ext autoreload\n",
    "%autoreload 2\n",
    "import os\n",
    "import sys\n",
    "nb_dir = os.path.split(os.getcwd())[0]\n",
    "if nb_dir not in sys.path:\n",
    "    sys.path.append(nb_dir)"
   ]
  },
  {
   "cell_type": "code",
   "execution_count": 189,
   "metadata": {},
   "outputs": [],
   "source": [
    "import mne\n",
    "import numpy as np\n",
    "\n",
    "from cerebra_atlas_python.cerebra import CerebrA\n",
    "from cerebra_atlas_python.utils import setup_logging, point_cloud_to_voxel, move_volume_from_ras_to_lia,move_volume_from_lia_to_ras"
   ]
  },
  {
   "cell_type": "code",
   "execution_count": 190,
   "metadata": {},
   "outputs": [
    {
     "name": "stdout",
     "output_type": "stream",
     "text": [
      "rr.shape (256, 256, 256) uint8 1 0\n",
      "rr.shape (256, 256, 256) uint8 1 0\n",
      "[[ 58 136 116]\n",
      " [ 58 136 119]\n",
      " [ 58 139 113]\n",
      " ...\n",
      " [199 166 119]\n",
      " [199 166 122]\n",
      " [199 166 125]]\n",
      "rr argwhere.shape (43498, 3) int64 [199 223 218] 41\n",
      "[[  -1.    -0.    -0.   128.5]\n",
      " [  -0.    -0.     1.  -146.5]\n",
      " [   0.    -1.     0.   109.5]\n",
      " [   0.     0.     0.     1. ]]\n",
      "rr.shape (43498, 3) float64 [70.5 71.5 42.5]-113.5\n",
      "Sphere                : origin at (0.0 0.0 0.0) mm\n",
      "              radius  : 95.0 mm\n",
      "Source location file  : dict()\n",
      "Assuming input in millimeters\n",
      "Assuming input in MRI coordinates\n",
      "\n",
      "Positions (in meters) and orientations\n",
      "43498 sources\n"
     ]
    }
   ],
   "source": [
    "cerebra = CerebrA()"
   ]
  },
  {
   "cell_type": "code",
   "execution_count": 201,
   "metadata": {},
   "outputs": [],
   "source": [
    "ras_vol,ras_affine = move_volume_from_lia_to_ras(cerebra.mni_average.t1.dataobj,cerebra.mni_average.t1.affine)\n",
    "pass"
   ]
  },
  {
   "cell_type": "code",
   "execution_count": 200,
   "metadata": {},
   "outputs": [
    {
     "data": {
      "text/plain": [
       "array([[  1. ,   0. ,   0. , 126. ],\n",
       "       [  0. ,   1. ,   0. , 146.5],\n",
       "       [  0. ,   0. ,   1. , 109.5],\n",
       "       [  0. ,   0. ,   0. ,   1. ]])"
      ]
     },
     "execution_count": 200,
     "metadata": {},
     "output_type": "execute_result"
    }
   ],
   "source": [
    "ras_affine"
   ]
  },
  {
   "cell_type": "code",
   "execution_count": 214,
   "metadata": {},
   "outputs": [
    {
     "data": {
      "text/plain": [
       "'/home/carlos/Carlos/cerebra_atlas_python/cerebra_atlas_python/cerebra_data/CerebrA_in_head.mgz'"
      ]
     },
     "execution_count": 214,
     "metadata": {},
     "output_type": "execute_result"
    }
   ],
   "source": [
    "cerebra.cerebra_in_head_path"
   ]
  },
  {
   "cell_type": "code",
   "execution_count": 215,
   "metadata": {},
   "outputs": [],
   "source": [
    "import nibabel as nib\n",
    "img = nib.load(cerebra.cerebra_in_head_path)"
   ]
  },
  {
   "cell_type": "code",
   "execution_count": 216,
   "metadata": {},
   "outputs": [
    {
     "data": {
      "text/plain": [
       "array([[  -1. ,    0. ,    0. ,  128.5],\n",
       "       [   0. ,    0. ,    1. , -145.5],\n",
       "       [   0. ,   -1. ,    0. ,  146.5],\n",
       "       [   0. ,    0. ,    0. ,    1. ]])"
      ]
     },
     "execution_count": 216,
     "metadata": {},
     "output_type": "execute_result"
    }
   ],
   "source": [
    "img.affine"
   ]
  },
  {
   "cell_type": "code",
   "execution_count": 209,
   "metadata": {},
   "outputs": [
    {
     "name": "stdout",
     "output_type": "stream",
     "text": [
      "Boundary surface file : /home/carlos/Carlos/cerebra_atlas_python/cerebra_atlas_python/cerebra_data/subjects/icbm152/bem/inner_skull.surf\n",
      "grid                  : 5.0 mm\n",
      "mindist               : 0.0 mm\n",
      "MRI volume            : /home/carlos/Carlos/cerebra_atlas_python/cerebra_atlas_python/cerebra_data/subjects/icbm152/mri/T1.mgz\n",
      "\n",
      "Reading /home/carlos/Carlos/cerebra_atlas_python/cerebra_atlas_python/cerebra_data/subjects/icbm152/mri/T1.mgz...\n"
     ]
    },
    {
     "name": "stdout",
     "output_type": "stream",
     "text": [
      "\n",
      "Loaded bounding surface from /home/carlos/Carlos/cerebra_atlas_python/cerebra_atlas_python/cerebra_data/subjects/icbm152/bem/inner_skull.surf (10242 nodes)\n",
      "Surface CM = (  -0.7   -3.9   -8.5) mm\n",
      "Surface fits inside a sphere with radius  101.6 mm\n",
      "Surface extent:\n",
      "    x =  -77.3 ...   76.3 mm\n",
      "    y =  -94.7 ...   96.6 mm\n",
      "    z =  -92.6 ...   74.6 mm\n",
      "Grid extent:\n",
      "    x =  -80.0 ...   80.0 mm\n",
      "    y =  -95.0 ...  100.0 mm\n",
      "    z =  -95.0 ...   75.0 mm\n",
      "46200 sources before omitting any.\n",
      "32310 sources after omitting infeasible sources not within 0.0 - 101.6 mm.\n",
      "Source spaces are in MRI coordinates.\n",
      "Checking that the sources are inside the surface (will take a few...)\n",
      "Checking surface interior status for 32310 points...\n",
      "    Found  8284/32310 points inside  an interior sphere of radius   62.7 mm\n",
      "    Found     0/32310 points outside an exterior sphere of radius  101.6 mm\n",
      "    Found 11841/24026 points outside using surface Qhull\n",
      "    Found   627/12185 points outside using solid angles\n",
      "    Total 19842/32310 points inside the surface\n",
      "Interior check completed in 24080.9 ms\n",
      "    12468 source space points omitted because they are outside the inner skull surface.\n",
      "19842 sources remaining after excluding the sources outside the surface and less than    0.0 mm inside.\n",
      "Adjusting the neighborhood info.\n",
      "Source space : MRI voxel -> MRI (surface RAS)\n",
      "     0.005000  0.000000  0.000000     -80.00 mm\n",
      "     0.000000  0.005000  0.000000     -95.00 mm\n",
      "     0.000000  0.000000  0.005000     -95.00 mm\n",
      "     0.000000  0.000000  0.000000       1.00\n",
      "MRI volume : MRI voxel -> MRI (surface RAS)\n",
      "    -0.001000  0.000000  0.000000     128.00 mm\n",
      "     0.000000  0.000000  0.001000    -128.00 mm\n",
      "     0.000000 -0.001000  0.000000     128.00 mm\n",
      "     0.000000  0.000000  0.000000       1.00\n",
      "MRI volume : MRI (surface RAS) -> RAS (non-zero origin)\n",
      "     1.000000  0.000000  0.000000       0.50 mm\n",
      "     0.000000  1.000000  0.000000     -17.50 mm\n",
      "     0.000000  0.000000  1.000000      18.50 mm\n",
      "     0.000000  0.000000  0.000000       1.00\n"
     ]
    }
   ],
   "source": [
    "import os.path as op\n",
    "surface = op.join(\n",
    "    cerebra.mni_average.subjects_dir, cerebra.mni_average.subject_name, \"bem\", \"inner_skull.surf\"\n",
    ")\n",
    "vol_src = mne.setup_volume_source_space(\n",
    "                subject=cerebra.mni_average.subject_name,\n",
    "                subjects_dir=cerebra.mni_average.subjects_dir,\n",
    "                surface=surface,\n",
    "                mindist=0,\n",
    "                add_interpolator=False,  # Just for speed!\n",
    "            )"
   ]
  },
  {
   "cell_type": "code",
   "execution_count": 202,
   "metadata": {},
   "outputs": [
    {
     "data": {
      "text/plain": [
       "<Transform | head->MRI (surface RAS)>\n",
       "[[ 0.99998409  0.00051499 -0.00561859 -0.00032736]\n",
       " [-0.00093964  0.99711949 -0.07584107 -0.00204062]\n",
       " [ 0.00556335  0.07584514  0.99710411 -0.05805472]\n",
       " [ 0.          0.          0.          1.        ]]"
      ]
     },
     "execution_count": 202,
     "metadata": {},
     "output_type": "execute_result"
    }
   ],
   "source": [
    "cerebra.mni_average.head_mri_t"
   ]
  },
  {
   "cell_type": "code",
   "execution_count": 46,
   "metadata": {},
   "outputs": [
    {
     "data": {
      "text/plain": [
       "array([[  -1. ,    0. ,    0. ,  128.5],\n",
       "       [   0. ,    0. ,    1. , -145.5],\n",
       "       [   0. ,   -1. ,    0. ,  146.5],\n",
       "       [   0. ,    0. ,    0. ,    1. ]])"
      ]
     },
     "execution_count": 46,
     "metadata": {},
     "output_type": "execute_result"
    }
   ],
   "source": [
    "cerebra.mni_average.t1.affine"
   ]
  },
  {
   "cell_type": "code",
   "execution_count": 47,
   "metadata": {},
   "outputs": [
    {
     "data": {
      "text/plain": [
       "array([[ -1. ,  -0. ,  -0. , 128.5],\n",
       "       [ -0. ,  -0. ,  -1. , 146.5],\n",
       "       [  0. ,   1. ,   0. , 145.5],\n",
       "       [  0. ,   0. ,   0. ,   1. ]])"
      ]
     },
     "execution_count": 47,
     "metadata": {},
     "output_type": "execute_result"
    }
   ],
   "source": [
    "np.linalg.inv(cerebra.mni_average.t1.affine)"
   ]
  },
  {
   "cell_type": "code",
   "execution_count": 76,
   "metadata": {},
   "outputs": [
    {
     "data": {
      "text/plain": [
       "(256, 256, 256)"
      ]
     },
     "execution_count": 76,
     "metadata": {},
     "output_type": "execute_result"
    }
   ],
   "source": [
    "np.array(cerebra.mni_average.t1.dataobj).shape"
   ]
  },
  {
   "cell_type": "code",
   "execution_count": 79,
   "metadata": {},
   "outputs": [
    {
     "data": {
      "text/plain": [
       "126"
      ]
     },
     "execution_count": 79,
     "metadata": {},
     "output_type": "execute_result"
    }
   ],
   "source": [
    "np.array(cerebra.mni_average.t1.dataobj).max()"
   ]
  },
  {
   "cell_type": "code",
   "execution_count": 113,
   "metadata": {},
   "outputs": [
    {
     "data": {
      "text/plain": [
       "array([[  -1. ,    0. ,    0. ,  128.5],\n",
       "       [   0. ,    0. ,    1. , -145.5],\n",
       "       [   0. ,   -1. ,    0. ,  146.5],\n",
       "       [   0. ,    0. ,    0. ,    1. ]])"
      ]
     },
     "execution_count": 113,
     "metadata": {},
     "output_type": "execute_result"
    }
   ],
   "source": [
    "cerebra.mni_average.t1.affine"
   ]
  },
  {
   "cell_type": "code",
   "execution_count": 124,
   "metadata": {},
   "outputs": [
    {
     "data": {
      "text/plain": [
       "<DigMontage | 0 extras (headshape), 0 HPIs, 3 fiducials, 111 channels>"
      ]
     },
     "execution_count": 124,
     "metadata": {},
     "output_type": "execute_result"
    }
   ],
   "source": [
    "cerebra.mni_average.info.get_montage()"
   ]
  },
  {
   "cell_type": "code",
   "execution_count": 125,
   "metadata": {},
   "outputs": [
    {
     "data": {
      "text/plain": [
       "<Transform | head->MRI (surface RAS)>\n",
       "[[ 0.99998409  0.00051499 -0.00561859 -0.00032736]\n",
       " [-0.00093964  0.99711949 -0.07584107 -0.00204062]\n",
       " [ 0.00556335  0.07584514  0.99710411 -0.05805472]\n",
       " [ 0.          0.          0.          1.        ]]"
      ]
     },
     "execution_count": 125,
     "metadata": {},
     "output_type": "execute_result"
    }
   ],
   "source": [
    "cerebra.mni_average.head_mri_t"
   ]
  },
  {
   "cell_type": "code",
   "execution_count": 128,
   "metadata": {},
   "outputs": [
    {
     "name": "stdout",
     "output_type": "stream",
     "text": [
      "[[-70.  -45.5  -2.5]\n",
      " [-70.  -45.5   0.5]\n",
      " [-70.  -45.5   3.5]\n",
      " ...\n",
      " [ 71.  -21.5 -11.5]\n",
      " [ 71.  -18.5 -14.5]\n",
      " [ 71.  -18.5 -11.5]]\n",
      "Sphere                : origin at (0.0 0.0 0.0) mm\n",
      "              radius  : 95.0 mm\n",
      "Source location file  : dict()\n",
      "Assuming input in millimeters\n",
      "Assuming input in MRI coordinates\n",
      "\n",
      "Positions (in meters) and orientations\n",
      "43498 sources\n"
     ]
    }
   ],
   "source": [
    "rr = cerebra.inverse_center_ras(cerebra.src_space_points)\n",
    "print(rr)\n",
    "rr = point_cloud_to_voxel(cerebra.src_space_points)\n",
    "rr = move_volume_from_ras_to_lia(rr)\n",
    "rr = np.argwhere(rr != 0)  # Back to point cloud\n",
    "rr = cerebra.mni_average.center_lia(rr)\n",
    "rr = rr/1000\n",
    "\n",
    "normals = np.repeat([[0, 0, 1]], len(rr), axis=0)\n",
    "pos = dict(rr=rr, nn=normals)\n",
    "src_space = mne.setup_volume_source_space(pos=pos)"
   ]
  },
  {
   "cell_type": "code",
   "execution_count": 136,
   "metadata": {},
   "outputs": [
    {
     "name": "stdout",
     "output_type": "stream",
     "text": [
      "rr.shape (256, 256, 256) uint8 1 0\n"
     ]
    }
   ],
   "source": [
    "rr = point_cloud_to_voxel(cerebra.src_space_points)\n",
    "print(f\"rr.shape {rr.shape} {rr.dtype} {rr.max()} {rr.min()}\")\n",
    "rr = move_volume_from_ras_to_lia(rr)"
   ]
  },
  {
   "cell_type": "code",
   "execution_count": 146,
   "metadata": {},
   "outputs": [
    {
     "data": {
      "text/plain": [
       "array([[  -1. ,    0. ,    0. ,  128.5],\n",
       "       [   0. ,    0. ,    1. , -145.5],\n",
       "       [   0. ,   -1. ,    0. ,  146.5],\n",
       "       [   0. ,    0. ,    0. ,    1. ]])"
      ]
     },
     "execution_count": 146,
     "metadata": {},
     "output_type": "execute_result"
    }
   ],
   "source": [
    "mni_average.t1.affine"
   ]
  },
  {
   "cell_type": "code",
   "execution_count": 159,
   "metadata": {},
   "outputs": [
    {
     "data": {
      "text/plain": [
       "array([[  -1. ,    0. ,    0. ,  128.5],\n",
       "       [   0. ,    0. ,    1. , -145.5],\n",
       "       [   0. ,   -1. ,    0. ,  146.5],\n",
       "       [   0. ,    0. ,    0. ,    1. ]])"
      ]
     },
     "execution_count": 159,
     "metadata": {},
     "output_type": "execute_result"
    }
   ],
   "source": [
    "mni_average.t1.affine"
   ]
  },
  {
   "cell_type": "code",
   "execution_count": 180,
   "metadata": {},
   "outputs": [
    {
     "data": {
      "text/plain": [
       "array([[  1. ,   0. ,   0. , 126. ],\n",
       "       [  0. ,   1. ,   0. , 146.5],\n",
       "       [  0. ,   0. ,   1. , 109.5],\n",
       "       [  0. ,   0. ,   0. ,   1. ]])"
      ]
     },
     "execution_count": 180,
     "metadata": {},
     "output_type": "execute_result"
    }
   ],
   "source": [
    "cerebra.affine"
   ]
  },
  {
   "cell_type": "code",
   "execution_count": 187,
   "metadata": {},
   "outputs": [
    {
     "data": {
      "text/plain": [
       "109.5"
      ]
     },
     "execution_count": 187,
     "metadata": {},
     "output_type": "execute_result"
    }
   ],
   "source": [
    "256-146.5"
   ]
  },
  {
   "cell_type": "code",
   "execution_count": 182,
   "metadata": {},
   "outputs": [
    {
     "data": {
      "text/plain": [
       "array([[  -1. ,   -0. ,   -0. ,  128.5],\n",
       "       [  -0. ,   -0. ,   -1. , -146.5],\n",
       "       [   0. ,    1. ,    0. , -145.5],\n",
       "       [   0. ,    0. ,    0. ,   -1. ]])"
      ]
     },
     "execution_count": 182,
     "metadata": {},
     "output_type": "execute_result"
    }
   ],
   "source": [
    "inv_aff = np.linalg.inv(mni_average.t1.affine)\n",
    "inv_aff[:,3] = -inv_aff[:,3]\n",
    "inv_aff[:,3][0] *= -1\n",
    "inv_aff\n"
   ]
  },
  {
   "cell_type": "code",
   "execution_count": 219,
   "metadata": {},
   "outputs": [
    {
     "data": {
      "text/plain": [
       "124"
      ]
     },
     "execution_count": 219,
     "metadata": {},
     "output_type": "execute_result"
    }
   ],
   "source": [
    "256-132"
   ]
  },
  {
   "cell_type": "code",
   "execution_count": 226,
   "metadata": {},
   "outputs": [
    {
     "data": {
      "text/plain": [
       "178"
      ]
     },
     "execution_count": 226,
     "metadata": {},
     "output_type": "execute_result"
    }
   ],
   "source": [
    "256-78"
   ]
  },
  {
   "cell_type": "code",
   "execution_count": 237,
   "metadata": {},
   "outputs": [
    {
     "name": "stdout",
     "output_type": "stream",
     "text": [
      "Sphere                : origin at (0.0 0.0 0.0) mm\n",
      "              radius  : 95.0 mm\n",
      "Source location file  : dict()\n",
      "Assuming input in millimeters\n",
      "Assuming input in MRI coordinates\n",
      "\n",
      "Positions (in meters) and orientations\n",
      "43498 sources\n",
      "Channel types::\teeg: 111\n"
     ]
    },
    {
     "data": {
      "text/plain": [
       "<mne.viz.backends._pyvista.PyVistaFigure at 0x7f2e400bda50>"
      ]
     },
     "execution_count": 237,
     "metadata": {},
     "output_type": "execute_result"
    }
   ],
   "source": [
    "cerebra = CerebrA()\n",
    "mni_average = cerebra.mni_average\n",
    "mne.viz.plot_alignment(bem=mni_average.bem, mri_fiducials=mni_average.fiducials, trans=mni_average.head_mri_t, show_axes=True,dig=True, info = mni_average.info, src=cerebra.src_space)"
   ]
  },
  {
   "cell_type": "code",
   "execution_count": 17,
   "metadata": {},
   "outputs": [],
   "source": [
    "src_space_volume = point_cloud_to_voxel(cerebra.src_space_points)\n",
    "src_space_volume_lia = move_volume_from_ras_to_lia(src_space_volume)"
   ]
  },
  {
   "cell_type": "code",
   "execution_count": 23,
   "metadata": {},
   "outputs": [
    {
     "data": {
      "text/plain": [
       "(array([[ 56, 101, 107],\n",
       "        [ 56, 101, 110],\n",
       "        [ 56, 101, 113],\n",
       "        ...,\n",
       "        [197, 125,  98],\n",
       "        [197, 128,  95],\n",
       "        [197, 128,  98]]),\n",
       " array([[ 58, 136, 116],\n",
       "        [ 58, 136, 119],\n",
       "        [ 58, 139, 113],\n",
       "        ...,\n",
       "        [199, 166, 119],\n",
       "        [199, 166, 122],\n",
       "        [199, 166, 125]]))"
      ]
     },
     "execution_count": 23,
     "metadata": {},
     "output_type": "execute_result"
    }
   ],
   "source": [
    "src_space_points_lia = np.argwhere(src_space_volume_lia != 0)\n",
    "cerebra.src_space_points,src_space_points_lia"
   ]
  },
  {
   "cell_type": "code",
   "execution_count": 38,
   "metadata": {},
   "outputs": [
    {
     "name": "stdout",
     "output_type": "stream",
     "text": [
      "Channel types::\teeg: 111\n"
     ]
    },
    {
     "data": {
      "text/plain": [
       "<mne.viz.backends._pyvista.PyVistaFigure at 0x7f2e7df04430>"
      ]
     },
     "execution_count": 38,
     "metadata": {},
     "output_type": "execute_result"
    }
   ],
   "source": []
  }
 ],
 "metadata": {
  "kernelspec": {
   "display_name": "phd",
   "language": "python",
   "name": "python3"
  },
  "language_info": {
   "codemirror_mode": {
    "name": "ipython",
    "version": 3
   },
   "file_extension": ".py",
   "mimetype": "text/x-python",
   "name": "python",
   "nbconvert_exporter": "python",
   "pygments_lexer": "ipython3",
   "version": "3.10.13"
  }
 },
 "nbformat": 4,
 "nbformat_minor": 2
}
