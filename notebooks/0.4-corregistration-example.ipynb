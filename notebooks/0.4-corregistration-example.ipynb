{
 "cells": [
  {
   "cell_type": "code",
   "execution_count": 2,
   "metadata": {},
   "outputs": [],
   "source": [
    "# Notebook setup\n",
    "%load_ext autoreload\n",
    "%autoreload 2\n",
    "import os\n",
    "import sys\n",
    "nb_dir = os.path.split(os.getcwd())[0]\n",
    "if nb_dir not in sys.path:\n",
    "    sys.path.append(nb_dir)"
   ]
  },
  {
   "cell_type": "code",
   "execution_count": 1,
   "metadata": {},
   "outputs": [],
   "source": [
    "import mne"
   ]
  },
  {
   "cell_type": "code",
   "execution_count": null,
   "metadata": {},
   "outputs": [
    {
     "name": "stdout",
     "output_type": "stream",
     "text": [
      "Using pyvistaqt 3d backend.\n",
      "\n",
      "For automatic theme detection, \"darkdetect\" has to be installed! You can install it with `pip install darkdetect`\n",
      "For automatic theme detection, \"darkdetect\" has to be installed! You can install it with `pip install darkdetect`\n",
      "To use light mode, \"qdarkstyle\" has to be installed! You can install it with:\n",
      "pip install qdarkstyle\n",
      "\n",
      "    Triangle neighbors and vertex normals...\n",
      "Using low resolution head model in /home/carlos/Datasets/subjects/MNIAverage/bem/outer_skin.surf\n",
      "    Triangle neighbors and vertex normals...\n",
      "Estimating fiducials from fsaverage.\n",
      "    Triangle neighbors and vertex normals...\n",
      "Using low resolution head model in /home/carlos/Datasets/subjects/MNIAverage/bem/outer_skin.surf\n",
      "    Triangle neighbors and vertex normals...\n",
      "Estimating fiducials from fsaverage.\n",
      "Estimating fiducials from fsaverage.\n",
      "Placing MRI fiducials - LPA\n",
      "Using outer_skin.surf for head surface.\n",
      "Placing MRI fiducials - LPA\n"
     ]
    },
    {
     "data": {
      "text/plain": [
       "<mne.gui._coreg.CoregistrationUI at 0x7cdbe80c2a10>"
      ]
     },
     "execution_count": 3,
     "metadata": {},
     "output_type": "execute_result"
    },
    {
     "name": "stdout",
     "output_type": "stream",
     "text": [
      "    Triangle neighbors and vertex normals...\n",
      "Using low resolution head model in /home/carlos/Datasets/subjects/icbm152/bem/outer_skin.surf\n",
      "    Triangle neighbors and vertex normals...\n",
      "Estimating fiducials from fsaverage.\n",
      "Estimating fiducials from fsaverage.\n",
      "Using outer_skin.surf for head surface.\n",
      "Placing MRI fiducials - LPA\n"
     ]
    }
   ],
   "source": [
    "mne.gui.coregistration()"
   ]
  },
  {
   "cell_type": "code",
   "execution_count": null,
   "metadata": {},
   "outputs": [],
   "source": [
    "if op.exists(INFO_PATH):\n",
    "    logging.info(\n",
    "        \"BEM surfaces for subject %s already exist, skipping make_watershed_bem\",\n",
    "        NEW_SUBJECT_NAME,\n",
    "    )\n",
    "else:\n",
    "    from cerebra_atlas_python.utils import get_standard_montage\n",
    "\n",
    "    logging.info(\"Creating info file for %s\", NEW_SUBJECT_NAME)\n",
    "    montage = get_standard_montage(\n",
    "        electrode_names, kind=MONTAGE_KIND, head_size=MONTAGE_HEAD_SIZE\n",
    "    )\n",
    "    kept_ch_names = montage.ch_names\n",
    "    info = mne.create_info(kept_ch_names, 5000, ch_types=\"eeg\", verbose=False)\n",
    "    info.set_montage(montage)\n",
    "    info.save(INFO_PATH)"
   ]
  },
  {
   "cell_type": "code",
   "execution_count": null,
   "metadata": {},
   "outputs": [],
   "source": [
    "# Save fiducials to $bem_dir/icbm152-fiducials.fif\n",
    "# Save fiducials to $./head_mri_t.fif\n",
    "if not op.exists(FIDUCIALS_PATH) or not op.exists(HEAD_MRI_T_PATH):\n",
    "    import mne\n",
    "else:\n",
    "\n",
    "    logging.info(\n",
    "        \"Fiducials and head to mri transform already exists %s and %s\",\n",
    "        FIDUCIALS_PATH,\n",
    "        HEAD_MRI_T_PATH,\n",
    "    )"
   ]
  },
  {
   "cell_type": "code",
   "execution_count": null,
   "metadata": {},
   "outputs": [],
   "source": [
    "mne.dig_mri_distances(\n",
    "    mni_average.info, mni_average.head_mri_t, mni_average.subject_name\n",
    ").sum()\n",
    "mne.viz.plot_alignment(\n",
    "    bem=mni_average.bem,\n",
    "    mri_fiducials=mni_average.fiducials,\n",
    "    trans=mni_average.head_mri_t,\n",
    "    show_axes=True,\n",
    "    dig=True,\n",
    "    info=mni_average.info,\n",
    ")"
   ]
  }
 ],
 "metadata": {
  "kernelspec": {
   "display_name": "cerebra",
   "language": "python",
   "name": "python3"
  },
  "language_info": {
   "codemirror_mode": {
    "name": "ipython",
    "version": 3
   },
   "file_extension": ".py",
   "mimetype": "text/x-python",
   "name": "python",
   "nbconvert_exporter": "python",
   "pygments_lexer": "ipython3",
   "version": "3.8.19"
  }
 },
 "nbformat": 4,
 "nbformat_minor": 2
}
