{
 "cells": [
  {
   "cell_type": "code",
   "execution_count": 25,
   "metadata": {},
   "outputs": [
    {
     "name": "stdout",
     "output_type": "stream",
     "text": [
      "The autoreload extension is already loaded. To reload it, use:\n",
      "  %reload_ext autoreload\n"
     ]
    }
   ],
   "source": [
    "# Notebook setup\n",
    "%load_ext autoreload\n",
    "%autoreload 2\n",
    "import os\n",
    "import sys\n",
    "nb_dir = os.path.split(os.getcwd())[0]\n",
    "if nb_dir not in sys.path:\n",
    "    sys.path.append(nb_dir)"
   ]
  },
  {
   "cell_type": "code",
   "execution_count": 26,
   "metadata": {},
   "outputs": [],
   "source": [
    "import mne\n",
    "from cerebra_atlas_python import CerebrA, setup_logging"
   ]
  },
  {
   "cell_type": "code",
   "execution_count": 27,
   "metadata": {},
   "outputs": [],
   "source": [
    "cerebra = CerebrA()\n",
    "setup_logging()"
   ]
  },
  {
   "cell_type": "code",
   "execution_count": 28,
   "metadata": {},
   "outputs": [],
   "source": [
    "# montage_name = \"GSN-HydroCel-129-downsample-109\"\n",
    "# head_size = 0.1027\n",
    "# cerebra.corregistration(montage_name=montage_name, head_size=head_size)"
   ]
  },
  {
   "cell_type": "code",
   "execution_count": 29,
   "metadata": {},
   "outputs": [
    {
     "name": "stdout",
     "output_type": "stream",
     "text": [
      "/home/carlos/.cache/cerebra_atlas_python/cerebra/GSN-HydroCel-129-downsample-109_0.1027_src_space_3mm_bem_0.33_0.0042_0.33_ico_4-fwd.fif\n"
     ]
    },
    {
     "name": "stderr",
     "output_type": "stream",
     "text": [
      " [DEBUG] 2024-06-18 12:57:25.280 _cache - _cache: Saved result to /home/carlos/.cache/cerebra_atlas_python/cerebra/src_space_3mm_lia_mask_ab784a00273db3cb981ab9c4b9c8797781a20c5bff94870f631d00f76f9518bc.npy\n"
     ]
    },
    {
     "name": "stdout",
     "output_type": "stream",
     "text": [
      "Sphere                : origin at (0.0 0.0 0.0) mm\n",
      "              radius  : 95.0 mm\n",
      "Source location file  : dict()\n",
      "Assuming input in millimeters\n",
      "Assuming input in MRI coordinates\n",
      "\n",
      "Positions (in meters) and orientations\n",
      "31553 sources\n"
     ]
    },
    {
     "name": "stderr",
     "output_type": "stream",
     "text": [
      " [DEBUG] 2024-06-18 12:57:25.381 mne_bem - compute_fn: Generating boundary element model... | bem_0.33_0.0042_0.33_ico_4\n"
     ]
    },
    {
     "name": "stdout",
     "output_type": "stream",
     "text": [
      "Creating the BEM geometry...\n",
      "Going from 5th to 4th subdivision of an icosahedron (n_tri: 20480 -> 5120)\n",
      "Going from 5th to 4th subdivision of an icosahedron (n_tri: 20480 -> 5120)\n",
      "Going from 5th to 4th subdivision of an icosahedron (n_tri: 20480 -> 5120)\n",
      "outer skin  CM is  -0.63  -2.93 -12.47 mm\n",
      "outer skull CM is  -0.63  -2.89 -12.72 mm\n",
      "inner skull CM is  -0.67  -3.85  -8.54 mm\n",
      "Checking that surface outer skull is inside surface outer skin  ...\n",
      "Checking that surface inner skull is inside surface outer skull ...\n",
      "Checking distance between outer skin  and outer skull surfaces...\n",
      "Minimum distance between the outer skin  and outer skull surfaces is approximately    2.0 mm\n",
      "Checking distance between outer skull and inner skull surfaces...\n",
      "Minimum distance between the outer skull and inner skull surfaces is approximately    2.4 mm\n",
      "Surfaces passed the basic topology checks.\n",
      "Complete.\n",
      "\n"
     ]
    },
    {
     "name": "stderr",
     "output_type": "stream",
     "text": [
      " [DEBUG] 2024-06-18 12:57:29.224 _cache - _cache: Saved result to /home/carlos/.cache/cerebra_atlas_python/cerebra/bem_0.33_0.0042_0.33_ico_4_c629180063a1aa24d538a56a8d529ab5562dbfbaffea1cb181b8021710cc32d8.pkl\n"
     ]
    },
    {
     "name": "stdout",
     "output_type": "stream",
     "text": [
      "Three-layer model surfaces loaded.\n",
      "Computing the linear collocation solution...\n",
      "    Matrix coefficients...\n",
      "        outer skin  (2562) -> outer skin  (2562) ...\n",
      "        outer skin  (2562) -> outer skull (2562) ...\n",
      "        outer skin  (2562) -> inner skull (2562) ...\n",
      "        outer skull (2562) -> outer skin  (2562) ...\n",
      "        outer skull (2562) -> outer skull (2562) ...\n",
      "        outer skull (2562) -> inner skull (2562) ...\n",
      "        inner skull (2562) -> outer skin  (2562) ...\n",
      "        inner skull (2562) -> outer skull (2562) ...\n",
      "        inner skull (2562) -> inner skull (2562) ...\n",
      "    Inverting the coefficient matrix...\n",
      "IP approach required...\n",
      "    Matrix coefficients (homog)...\n",
      "        inner skull (2562) -> inner skull (2562) ...\n",
      "    Inverting the coefficient matrix (homog)...\n",
      "    Modify the original solution to incorporate IP approach...\n",
      "        Combining...\n",
      "        Scaling...\n",
      "Solution ready.\n",
      "BEM geometry computations complete.\n"
     ]
    },
    {
     "name": "stderr",
     "output_type": "stream",
     "text": [
      " [DEBUG] 2024-06-18 12:58:07.766 _cache - _cache: Saved result to /home/carlos/.cache/cerebra_atlas_python/cerebra/bem_0.33_0.0042_0.33_ico_4_bem_503a23bea1a06eb0c1662eebfbc36f22a50c16cb7b9027cfb066be7e515376df.fif\n",
      " [DEBUG] 2024-06-18 12:58:07.767 mne_forward - compute_fn: Generating forward solution\n"
     ]
    },
    {
     "name": "stdout",
     "output_type": "stream",
     "text": [
      "Sphere                : origin at (0.0 0.0 0.0) mm\n",
      "              radius  : 95.0 mm\n",
      "Source location file  : dict()\n",
      "Assuming input in millimeters\n",
      "Assuming input in MRI coordinates\n",
      "\n",
      "Positions (in meters) and orientations\n",
      "31553 sources\n",
      "==================EEG True\n",
      "Source space          : <SourceSpaces: [<discrete, n_used=31553>] MRI (surface RAS) coords, ~1.9 MB>\n",
      "MRI -> head transform : instance of Transform\n",
      "Measurement data      : instance of Info\n",
      "Conductor model   : instance of ConductorModel\n",
      "Accurate field computations\n",
      "Do computations in head coordinates\n",
      "Free source orientations\n",
      "\n",
      "Read 1 source spaces a total of 31553 active source locations\n",
      "\n",
      "Coordinate transformation: MRI (surface RAS) -> head\n",
      "     0.999984 -0.000940  0.005563       0.65 mm\n",
      "     0.000515  0.997119  0.075845       6.44 mm\n",
      "    -0.005619 -0.075841  0.997104      57.73 mm\n",
      "     0.000000  0.000000  0.000000       1.00\n",
      "\n",
      "Read 109 EEG channels from info\n",
      "Head coordinate coil definitions created.\n",
      "Source spaces are now in head coordinates.\n",
      "\n",
      "Employing the head->MRI coordinate transform with the BEM model.\n",
      "BEM model instance of ConductorModel is now set up\n",
      "\n",
      "Source spaces are in head coordinates.\n",
      "Checking that the sources are inside the surface (will take a few...)\n",
      "Checking surface interior status for 31553 points...\n",
      "    Found 12952/31553 points inside  an interior sphere of radius   62.9 mm\n",
      "    Found     0/31553 points outside an exterior sphere of radius  101.6 mm\n",
      "    Found     0/18601 points outside using surface Qhull\n"
     ]
    },
    {
     "name": "stderr",
     "output_type": "stream",
     "text": [
      "[Parallel(n_jobs=-1)]: Using backend LokyBackend with 24 concurrent workers.\n",
      "[Parallel(n_jobs=-1)]: Done   6 out of  24 | elapsed:    2.0s remaining:    6.1s\n",
      "[Parallel(n_jobs=-1)]: Done  11 out of  24 | elapsed:    2.1s remaining:    2.5s\n",
      "[Parallel(n_jobs=-1)]: Done  16 out of  24 | elapsed:    2.2s remaining:    1.1s\n"
     ]
    },
    {
     "name": "stdout",
     "output_type": "stream",
     "text": [
      "    Found     0/18601 points outside using solid angles\n",
      "    Total 31553/31553 points inside the surface\n",
      "Interior check completed in 2316.6 ms\n",
      "\n",
      "Setting up for EEG...\n"
     ]
    },
    {
     "name": "stderr",
     "output_type": "stream",
     "text": [
      "[Parallel(n_jobs=-1)]: Done  21 out of  24 | elapsed:    2.2s remaining:    0.3s\n",
      "[Parallel(n_jobs=-1)]: Done  24 out of  24 | elapsed:    2.3s finished\n"
     ]
    },
    {
     "name": "stdout",
     "output_type": "stream",
     "text": [
      "Computing EEG at 31553 source locations (free orientations)...\n"
     ]
    },
    {
     "name": "stderr",
     "output_type": "stream",
     "text": [
      "[Parallel(n_jobs=-1)]: Using backend LokyBackend with 24 concurrent workers.\n",
      "[Parallel(n_jobs=-1)]: Done   6 out of  24 | elapsed:    1.9s remaining:    5.8s\n",
      "[Parallel(n_jobs=-1)]: Done  11 out of  24 | elapsed:    2.5s remaining:    2.9s\n",
      "[Parallel(n_jobs=-1)]: Done  16 out of  24 | elapsed:    3.0s remaining:    1.5s\n",
      "[Parallel(n_jobs=-1)]: Done  21 out of  24 | elapsed:    3.5s remaining:    0.5s\n",
      "[Parallel(n_jobs=-1)]: Done  24 out of  24 | elapsed:    3.9s finished\n"
     ]
    },
    {
     "name": "stdout",
     "output_type": "stream",
     "text": [
      "\n",
      "Finished.\n"
     ]
    },
    {
     "name": "stderr",
     "output_type": "stream",
     "text": [
      "/home/carlos/Carlos/cerebra_atlas_python/cerebra_atlas_python/data/_cache.py:95: RuntimeWarning: This filename (/home/carlos/.cache/cerebra_atlas_python/cerebra/GSN-HydroCel-129-downsample-109_0.1027_src_space_3mm_bem_0.33_0.0042_0.33_ico_4-fwd_764fcc4b86096cbf942a635234971c9502e99e7119cbd09745b08702c2aa67ca.fif) does not conform to MNE naming conventions. All forward files should end with -fwd.fif, -fwd.fif.gz, _fwd.fif, _fwd.fif.gz, -fwd.h5 or _fwd.h5\n",
      "  return mne.write_forward_solution(path, result, overwrite=True, verbose=False)\n",
      " [DEBUG] 2024-06-18 12:58:16.546 _cache - _cache: Saved result to /home/carlos/.cache/cerebra_atlas_python/cerebra/GSN-HydroCel-129-downsample-109_0.1027_src_space_3mm_bem_0.33_0.0042_0.33_ico_4-fwd_764fcc4b86096cbf942a635234971c9502e99e7119cbd09745b08702c2aa67ca.fif\n"
     ]
    }
   ],
   "source": [
    "cerebra.montage_name = \"GSN-HydroCel-129-downsample-109\"\n",
    "cerebra.head_size = 0.1027\n",
    "fwd = cerebra.get_forward()"
   ]
  },
  {
   "cell_type": "code",
   "execution_count": 30,
   "metadata": {},
   "outputs": [
    {
     "name": "stdout",
     "output_type": "stream",
     "text": [
      "Sphere                : origin at (0.0 0.0 0.0) mm\n",
      "              radius  : 95.0 mm\n",
      "Source location file  : dict()\n",
      "Assuming input in millimeters\n",
      "Assuming input in MRI coordinates\n",
      "\n",
      "Positions (in meters) and orientations\n",
      "31553 sources\n"
     ]
    },
    {
     "name": "stderr",
     "output_type": "stream",
     "text": [
      " [DEBUG] 2024-06-18 12:58:16.869 __init__ - _load_stylesheet: Reading QSS file in: :qdarkstyle/dark/darkstyle.qss\n",
      " [INFO] 2024-06-18 12:58:16.870 __init__ - _load_stylesheet: QSS file successfully loaded.\n",
      " [DEBUG] 2024-06-18 12:58:16.870 __init__ - _load_stylesheet: Checking patches for being applied.\n",
      " [INFO] 2024-06-18 12:58:16.870 __init__ - _apply_version_patches: Found version patches to be applied.\n",
      " [INFO] 2024-06-18 12:58:16.871 __init__ - _apply_application_patches: Found application patches to be applied.\n"
     ]
    },
    {
     "name": "stdout",
     "output_type": "stream",
     "text": [
      "[p['r'] for p in info['dig'][:3]]=[array([-0.07855853,  0.        ,  0.        ]), array([ 0.00000000e+00,  1.06220549e-01, -4.80059881e-11]), array([0.07855853, 0.        , 0.        ])]\n",
      "car_loc= array([[-7.85585344e-02,  0.00000000e+00,  0.00000000e+00],\n",
      "       [ 0.00000000e+00,  1.06220549e-01, -4.80059881e-11],\n",
      "       [ 7.85585344e-02,  0.00000000e+00,  0.00000000e+00]]) info['dig'][:3]= [<DigPoint |        LPA : (-78.6, 0.0, 0.0) mm      : head frame>, <DigPoint |     Nasion : (0.0, 106.2, -0.0) mm     : head frame>, <DigPoint |        RPA : (78.6, 0.0, 0.0) mm       : head frame>] [p['r'] for p in info['dig'][:3]]=[array([-0.07855853,  0.        ,  0.        ]), array([ 0.00000000e+00,  1.06220549e-01, -4.80059881e-11]), array([0.07855853, 0.        , 0.        ])]\n",
      "Channel types::\teeg: 109\n"
     ]
    },
    {
     "data": {
      "text/plain": [
       "<mne.viz.backends._pyvista.PyVistaFigure at 0x7291e47dbcd0>"
      ]
     },
     "execution_count": 30,
     "metadata": {},
     "output_type": "execute_result"
    }
   ],
   "source": [
    "mne.viz.plot_alignment(\n",
    "    info=cerebra.info,\n",
    "    trans=cerebra.trans,\n",
    "    fwd=fwd,\n",
    "    dig=True,\n",
    "    src=cerebra.src_space,\n",
    "    bem=cerebra.bem,\n",
    "    show_axes=True,\n",
    ")"
   ]
  },
  {
   "cell_type": "code",
   "execution_count": 31,
   "metadata": {},
   "outputs": [],
   "source": [
    "# cerebra.forward"
   ]
  }
 ],
 "metadata": {
  "kernelspec": {
   "display_name": "cerebra",
   "language": "python",
   "name": "python3"
  },
  "language_info": {
   "codemirror_mode": {
    "name": "ipython",
    "version": 3
   },
   "file_extension": ".py",
   "mimetype": "text/x-python",
   "name": "python",
   "nbconvert_exporter": "python",
   "pygments_lexer": "ipython3",
   "version": "3.10.13"
  }
 },
 "nbformat": 4,
 "nbformat_minor": 2
}
