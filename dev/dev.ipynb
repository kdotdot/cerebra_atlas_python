{
 "cells": [
  {
   "cell_type": "code",
   "execution_count": 1,
   "metadata": {},
   "outputs": [],
   "source": [
    "# Notebook setup\n",
    "%load_ext autoreload\n",
    "%autoreload 2\n",
    "import os\n",
    "import sys\n",
    "nb_dir = os.path.split(os.getcwd())[0]\n",
    "if nb_dir not in sys.path:\n",
    "    sys.path.append(nb_dir)"
   ]
  },
  {
   "cell_type": "code",
   "execution_count": 2,
   "metadata": {},
   "outputs": [],
   "source": [
    "import mne\n",
    "from cerebra_atlas_python import CerebrA, setup_logging"
   ]
  },
  {
   "cell_type": "code",
   "execution_count": 3,
   "metadata": {},
   "outputs": [],
   "source": [
    "cerebra = CerebrA()\n",
    "setup_logging()"
   ]
  },
  {
   "cell_type": "code",
   "execution_count": 4,
   "metadata": {},
   "outputs": [],
   "source": [
    "# montage_name = \"GSN-HydroCel-129-downsample-109\"\n",
    "# head_size = 0.1027\n",
    "# cerebra.corregistration(montage_name=montage_name, head_size=head_size)"
   ]
  },
  {
   "cell_type": "code",
   "execution_count": 5,
   "metadata": {},
   "outputs": [
    {
     "name": "stderr",
     "output_type": "stream",
     "text": [
      " [DEBUG] 2024-06-17 17:26:21.591 _cache - _cache: Loading cached result from /home/carlos/.cache/cerebra_atlas_python/cerebra/GSN-HydroCel-129-downsample-109_0.1027_src_space_3mm_bem_0.33_0.0042_0.33_ico_4-fwd_764fcc4b86096cbf942a635234971c9502e99e7119cbd09745b08702c2aa67ca.fif\n"
     ]
    },
    {
     "name": "stdout",
     "output_type": "stream",
     "text": [
      "/home/carlos/.cache/cerebra_atlas_python/cerebra/GSN-HydroCel-129-downsample-109_0.1027_src_space_3mm_bem_0.33_0.0042_0.33_ico_4-fwd.fif\n"
     ]
    },
    {
     "name": "stderr",
     "output_type": "stream",
     "text": [
      "/home/carlos/Carlos/cerebra_atlas_python/cerebra_atlas_python/data/_cache.py:90: RuntimeWarning: This filename (/home/carlos/.cache/cerebra_atlas_python/cerebra/GSN-HydroCel-129-downsample-109_0.1027_src_space_3mm_bem_0.33_0.0042_0.33_ico_4-fwd_764fcc4b86096cbf942a635234971c9502e99e7119cbd09745b08702c2aa67ca.fif) does not conform to MNE naming conventions. All forward files should end with -fwd.fif, -fwd.fif.gz, _fwd.fif, _fwd.fif.gz, -fwd.h5 or _fwd.h5\n",
      "  fwd = mne.read_forward_solution(path, verbose=False)\n"
     ]
    }
   ],
   "source": [
    "cerebra.montage_name = \"GSN-HydroCel-129-downsample-109\"\n",
    "cerebra.head_size = 0.1027\n",
    "fwd = cerebra.get_forward()"
   ]
  },
  {
   "cell_type": "code",
   "execution_count": 8,
   "metadata": {},
   "outputs": [
    {
     "ename": "ValueError",
     "evalue": "shapes (256,256,256) and (3,3) not aligned: 256 (dim 2) != 3 (dim 0)",
     "output_type": "error",
     "traceback": [
      "\u001b[0;31m---------------------------------------------------------------------------\u001b[0m",
      "\u001b[0;31mValueError\u001b[0m                                Traceback (most recent call last)",
      "Cell \u001b[0;32mIn[8], line 6\u001b[0m\n\u001b[1;32m      1\u001b[0m mne\u001b[38;5;241m.\u001b[39mviz\u001b[38;5;241m.\u001b[39mplot_alignment(\n\u001b[1;32m      2\u001b[0m     info\u001b[38;5;241m=\u001b[39mcerebra\u001b[38;5;241m.\u001b[39minfo,\n\u001b[1;32m      3\u001b[0m     trans\u001b[38;5;241m=\u001b[39mcerebra\u001b[38;5;241m.\u001b[39mtrans,\n\u001b[1;32m      4\u001b[0m     fwd\u001b[38;5;241m=\u001b[39mfwd,\n\u001b[1;32m      5\u001b[0m     dig\u001b[38;5;241m=\u001b[39m\u001b[38;5;28;01mTrue\u001b[39;00m,\n\u001b[0;32m----> 6\u001b[0m     src\u001b[38;5;241m=\u001b[39m\u001b[43mcerebra\u001b[49m\u001b[38;5;241;43m.\u001b[39;49m\u001b[43msrc_space\u001b[49m,\n\u001b[1;32m      7\u001b[0m     bem\u001b[38;5;241m=\u001b[39mcerebra\u001b[38;5;241m.\u001b[39mbem,\n\u001b[1;32m      8\u001b[0m     show_axes\u001b[38;5;241m=\u001b[39m\u001b[38;5;28;01mTrue\u001b[39;00m,\n\u001b[1;32m      9\u001b[0m )\n",
      "File \u001b[0;32m~/anaconda3/envs/phd/lib/python3.10/functools.py:981\u001b[0m, in \u001b[0;36mcached_property.__get__\u001b[0;34m(self, instance, owner)\u001b[0m\n\u001b[1;32m    979\u001b[0m val \u001b[38;5;241m=\u001b[39m cache\u001b[38;5;241m.\u001b[39mget(\u001b[38;5;28mself\u001b[39m\u001b[38;5;241m.\u001b[39mattrname, _NOT_FOUND)\n\u001b[1;32m    980\u001b[0m \u001b[38;5;28;01mif\u001b[39;00m val \u001b[38;5;129;01mis\u001b[39;00m _NOT_FOUND:\n\u001b[0;32m--> 981\u001b[0m     val \u001b[38;5;241m=\u001b[39m \u001b[38;5;28;43mself\u001b[39;49m\u001b[38;5;241;43m.\u001b[39;49m\u001b[43mfunc\u001b[49m\u001b[43m(\u001b[49m\u001b[43minstance\u001b[49m\u001b[43m)\u001b[49m\n\u001b[1;32m    982\u001b[0m     \u001b[38;5;28;01mtry\u001b[39;00m:\n\u001b[1;32m    983\u001b[0m         cache[\u001b[38;5;28mself\u001b[39m\u001b[38;5;241m.\u001b[39mattrname] \u001b[38;5;241m=\u001b[39m val\n",
      "File \u001b[0;32m~/Carlos/cerebra_atlas_python/cerebra_atlas_python/cerebra_mne/mne_src_space.py:255\u001b[0m, in \u001b[0;36mSourceSpaceMNE.src_space\u001b[0;34m(self)\u001b[0m\n\u001b[1;32m    252\u001b[0m     src_space \u001b[38;5;241m=\u001b[39m mne\u001b[38;5;241m.\u001b[39msetup_volume_source_space(pos\u001b[38;5;241m=\u001b[39mpos)  \u001b[38;5;66;03m# type: ignore (pos is float or dict)\u001b[39;00m\n\u001b[1;32m    253\u001b[0m     \u001b[38;5;28;01mreturn\u001b[39;00m src_space\n\u001b[0;32m--> 255\u001b[0m \u001b[38;5;28;01mreturn\u001b[39;00m \u001b[43mcache_mne_src\u001b[49m\u001b[43m(\u001b[49m\u001b[43mcompute_fn\u001b[49m\u001b[43m,\u001b[49m\u001b[43m \u001b[49m\u001b[38;5;28;43mself\u001b[39;49m\u001b[38;5;241;43m.\u001b[39;49m\u001b[43m_src_space_path\u001b[49m\u001b[43m,\u001b[49m\u001b[43m \u001b[49m\u001b[38;5;28;43mself\u001b[39;49m\u001b[43m)\u001b[49m\n",
      "File \u001b[0;32m~/Carlos/cerebra_atlas_python/cerebra_atlas_python/data/_cache.py:79\u001b[0m, in \u001b[0;36mcache_mne_src\u001b[0;34m(compute_fn, cached_path, *args, **kwargs)\u001b[0m\n\u001b[1;32m     76\u001b[0m \u001b[38;5;28;01mdef\u001b[39;00m \u001b[38;5;21msave_data_fn\u001b[39m(path, result):\n\u001b[1;32m     77\u001b[0m     \u001b[38;5;28;01mreturn\u001b[39;00m result\u001b[38;5;241m.\u001b[39msave(path, overwrite\u001b[38;5;241m=\u001b[39m\u001b[38;5;28;01mTrue\u001b[39;00m, verbose\u001b[38;5;241m=\u001b[39m\u001b[38;5;28;01mFalse\u001b[39;00m)\n\u001b[0;32m---> 79\u001b[0m \u001b[38;5;28;01mreturn\u001b[39;00m \u001b[43m_cache\u001b[49m\u001b[43m(\u001b[49m\u001b[43mcompute_fn\u001b[49m\u001b[43m,\u001b[49m\u001b[43m \u001b[49m\u001b[43mcached_path\u001b[49m\u001b[43m,\u001b[49m\u001b[43m \u001b[49m\u001b[43mload_data_fn\u001b[49m\u001b[43m,\u001b[49m\u001b[43m \u001b[49m\u001b[43msave_data_fn\u001b[49m\u001b[43m,\u001b[49m\u001b[43m \u001b[49m\u001b[38;5;241;43m*\u001b[39;49m\u001b[43margs\u001b[49m\u001b[43m,\u001b[49m\u001b[43m \u001b[49m\u001b[38;5;241;43m*\u001b[39;49m\u001b[38;5;241;43m*\u001b[39;49m\u001b[43mkwargs\u001b[49m\u001b[43m)\u001b[49m\n",
      "File \u001b[0;32m~/Carlos/cerebra_atlas_python/cerebra_atlas_python/data/_cache.py:145\u001b[0m, in \u001b[0;36m_cache\u001b[0;34m(compute_fn, cached_path, load_data_fn, save_data_fn, *args, **kwargs)\u001b[0m\n\u001b[1;32m    143\u001b[0m     \u001b[38;5;28;01mreturn\u001b[39;00m load_data_fn(cached_path)\n\u001b[1;32m    144\u001b[0m \u001b[38;5;66;03m# Otherwise compute the result\u001b[39;00m\n\u001b[0;32m--> 145\u001b[0m result \u001b[38;5;241m=\u001b[39m \u001b[43mcompute_fn\u001b[49m\u001b[43m(\u001b[49m\u001b[38;5;241;43m*\u001b[39;49m\u001b[43margs\u001b[49m\u001b[43m,\u001b[49m\u001b[43m \u001b[49m\u001b[38;5;241;43m*\u001b[39;49m\u001b[38;5;241;43m*\u001b[39;49m\u001b[43mkwargs\u001b[49m\u001b[43m)\u001b[49m\n\u001b[1;32m    146\u001b[0m \u001b[38;5;66;03m# Save to disk if needed\u001b[39;00m\n\u001b[1;32m    147\u001b[0m os\u001b[38;5;241m.\u001b[39mmakedirs(os\u001b[38;5;241m.\u001b[39mpath\u001b[38;5;241m.\u001b[39mdirname(cached_path), exist_ok\u001b[38;5;241m=\u001b[39m\u001b[38;5;28;01mTrue\u001b[39;00m)\n",
      "File \u001b[0;32m~/Carlos/cerebra_atlas_python/cerebra_atlas_python/cerebra_mne/mne_src_space.py:248\u001b[0m, in \u001b[0;36mSourceSpaceMNE.src_space.<locals>.compute_fn\u001b[0;34m(self)\u001b[0m\n\u001b[1;32m    246\u001b[0m inv_aff[:, \u001b[38;5;241m2\u001b[39m][\u001b[38;5;241m1\u001b[39m] \u001b[38;5;241m*\u001b[39m\u001b[38;5;241m=\u001b[39m \u001b[38;5;241m-\u001b[39m\u001b[38;5;241m1\u001b[39m\n\u001b[1;32m    247\u001b[0m inv_aff[:, \u001b[38;5;241m3\u001b[39m][\u001b[38;5;241m1\u001b[39m] \u001b[38;5;241m=\u001b[39m \u001b[38;5;241m-\u001b[39m\u001b[38;5;241m128\u001b[39m\n\u001b[0;32m--> 248\u001b[0m rr \u001b[38;5;241m=\u001b[39m \u001b[43mmne\u001b[49m\u001b[38;5;241;43m.\u001b[39;49m\u001b[43mtransforms\u001b[49m\u001b[38;5;241;43m.\u001b[39;49m\u001b[43mapply_trans\u001b[49m\u001b[43m(\u001b[49m\u001b[43minv_aff\u001b[49m\u001b[43m,\u001b[49m\u001b[43m \u001b[49m\u001b[43mrr\u001b[49m\u001b[43m)\u001b[49m\n\u001b[1;32m    249\u001b[0m rr \u001b[38;5;241m=\u001b[39m np\u001b[38;5;241m.\u001b[39margwhere(rr \u001b[38;5;241m!=\u001b[39m \u001b[38;5;241m0\u001b[39m)  \u001b[38;5;66;03m# Back to point cloud\u001b[39;00m\n\u001b[1;32m    250\u001b[0m rr \u001b[38;5;241m=\u001b[39m mne\u001b[38;5;241m.\u001b[39mtransforms\u001b[38;5;241m.\u001b[39mapply_trans(\u001b[38;5;28mself\u001b[39m\u001b[38;5;241m.\u001b[39mvox_mri_t, rr)\n",
      "File \u001b[0;32m~/anaconda3/envs/phd/lib/python3.10/site-packages/mne/transforms.py:274\u001b[0m, in \u001b[0;36mapply_trans\u001b[0;34m(trans, pts, move)\u001b[0m\n\u001b[1;32m    271\u001b[0m     \u001b[38;5;28;01mreturn\u001b[39;00m pts\u001b[38;5;241m.\u001b[39mcopy()\n\u001b[1;32m    273\u001b[0m \u001b[38;5;66;03m# apply rotation & scale\u001b[39;00m\n\u001b[0;32m--> 274\u001b[0m out_pts \u001b[38;5;241m=\u001b[39m \u001b[43mnp\u001b[49m\u001b[38;5;241;43m.\u001b[39;49m\u001b[43mdot\u001b[49m\u001b[43m(\u001b[49m\u001b[43mpts\u001b[49m\u001b[43m,\u001b[49m\u001b[43m \u001b[49m\u001b[43mtrans\u001b[49m\u001b[43m[\u001b[49m\u001b[43m:\u001b[49m\u001b[38;5;241;43m3\u001b[39;49m\u001b[43m,\u001b[49m\u001b[43m \u001b[49m\u001b[43m:\u001b[49m\u001b[38;5;241;43m3\u001b[39;49m\u001b[43m]\u001b[49m\u001b[38;5;241;43m.\u001b[39;49m\u001b[43mT\u001b[49m\u001b[43m)\u001b[49m\n\u001b[1;32m    275\u001b[0m \u001b[38;5;66;03m# apply translation\u001b[39;00m\n\u001b[1;32m    276\u001b[0m \u001b[38;5;28;01mif\u001b[39;00m move:\n",
      "\u001b[0;31mValueError\u001b[0m: shapes (256,256,256) and (3,3) not aligned: 256 (dim 2) != 3 (dim 0)"
     ]
    }
   ],
   "source": [
    "mne.viz.plot_alignment(\n",
    "    info=cerebra.info,\n",
    "    trans=cerebra.trans,\n",
    "    fwd=fwd,\n",
    "    dig=True,\n",
    "    src=cerebra.src_space,\n",
    "    bem=cerebra.bem,\n",
    "    show_axes=True,\n",
    ")"
   ]
  },
  {
   "cell_type": "code",
   "execution_count": null,
   "metadata": {},
   "outputs": [],
   "source": [
    "# cerebra.forward"
   ]
  }
 ],
 "metadata": {
  "kernelspec": {
   "display_name": "cerebra",
   "language": "python",
   "name": "python3"
  },
  "language_info": {
   "codemirror_mode": {
    "name": "ipython",
    "version": 3
   },
   "file_extension": ".py",
   "mimetype": "text/x-python",
   "name": "python",
   "nbconvert_exporter": "python",
   "pygments_lexer": "ipython3",
   "version": "3.10.13"
  }
 },
 "nbformat": 4,
 "nbformat_minor": 2
}
