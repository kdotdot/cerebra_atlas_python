{
 "cells": [
  {
   "cell_type": "code",
   "execution_count": 1,
   "metadata": {},
   "outputs": [],
   "source": [
    "%load_ext autoreload\n",
    "%autoreload 2\n",
    "import os\n",
    "import sys\n",
    "nb_dir = os.path.split(os.getcwd())[0]\n",
    "if nb_dir not in sys.path:\n",
    "    sys.path.append(nb_dir)"
   ]
  },
  {
   "cell_type": "code",
   "execution_count": 2,
   "metadata": {},
   "outputs": [],
   "source": [
    "import mne\n",
    "import numpy as np\n",
    "\n",
    "from cerebra_atlas_python.cerebra import CerebrA\n",
    "from cerebra_atlas_python.utils import setup_logging\n",
    "# setup_logging(level=\"DEBUG\")"
   ]
  },
  {
   "cell_type": "code",
   "execution_count": 3,
   "metadata": {},
   "outputs": [],
   "source": [
    "trans = mne.transforms.Transform(\"head\", \"mri\", np.identity(4))"
   ]
  },
  {
   "cell_type": "code",
   "execution_count": 4,
   "metadata": {},
   "outputs": [
    {
     "name": "stdout",
     "output_type": "stream",
     "text": [
      "Sphere                : origin at (0.0 0.0 0.0) mm\n",
      "              radius  : 95.0 mm\n",
      "Source location file  : dict()\n",
      "Assuming input in millimeters\n",
      "Assuming input in MRI coordinates\n",
      "\n",
      "Positions (in meters) and orientations\n",
      "19842 sources\n"
     ]
    },
    {
     "ename": "NameError",
     "evalue": "name 'plot_alignment' is not defined",
     "output_type": "error",
     "traceback": [
      "\u001b[0;31m---------------------------------------------------------------------------\u001b[0m",
      "\u001b[0;31mNameError\u001b[0m                                 Traceback (most recent call last)",
      "\u001b[1;32m/home/carlos/Carlos/cerebra_atlas_python/notebooks/0.05-alignment.ipynb Cell 4\u001b[0m line \u001b[0;36m2\n\u001b[1;32m      <a href='vscode-notebook-cell:/home/carlos/Carlos/cerebra_atlas_python/notebooks/0.05-alignment.ipynb#X10sZmlsZQ%3D%3D?line=0'>1</a>\u001b[0m cerebra \u001b[39m=\u001b[39m CerebrA()\n\u001b[0;32m----> <a href='vscode-notebook-cell:/home/carlos/Carlos/cerebra_atlas_python/notebooks/0.05-alignment.ipynb#X10sZmlsZQ%3D%3D?line=1'>2</a>\u001b[0m plot_alignment(bem\u001b[39m=\u001b[39mcerebra\u001b[39m.\u001b[39mmni_average\u001b[39m.\u001b[39mbem,mri_fiducials\u001b[39m=\u001b[39mcerebra\u001b[39m.\u001b[39mmni_average\u001b[39m.\u001b[39mfiducials, trans\u001b[39m=\u001b[39mtrans, show_axes\u001b[39m=\u001b[39m\u001b[39mTrue\u001b[39;00m,dig\u001b[39m=\u001b[39m\u001b[39mTrue\u001b[39;00m, info \u001b[39m=\u001b[39m info, src\u001b[39m=\u001b[39mcerebra\u001b[39m.\u001b[39mmni_average\u001b[39m.\u001b[39mvol_src)\n",
      "\u001b[0;31mNameError\u001b[0m: name 'plot_alignment' is not defined"
     ]
    }
   ],
   "source": [
    "cerebra = CerebrA()\n",
    "plot_alignment(bem=cerebra.mni_average.bem,mri_fiducials=cerebra.mni_average.fiducials, trans=trans, show_axes=True,dig=True, info = info, src=cerebra.mni_average.vol_src)"
   ]
  },
  {
   "cell_type": "code",
   "execution_count": null,
   "metadata": {},
   "outputs": [
    {
     "name": "stderr",
     "output_type": "stream",
     "text": [
      "DEBUG:root:Value for variable default_data_path not provided in config.ini[CerebrA]. Defaulting to default_data_path=/home/carlos/Carlos/cerebra_atlas_python/cerebra_atlas_python/cerebra_data/cerebra\n",
      "DEBUG:root:Value for variable remove_empty_from_src_space not provided in config.ini[CerebrA]. Defaulting to remove_empty_from_src_space=True\n",
      "DEBUG:root:Value for variable default_data_path not provided in config.ini[MNIAverage]. Defaulting to default_data_path=/home/carlos/Carlos/cerebra_atlas_python/cerebra_atlas_python/cerebra_data/MNIAverage\n",
      "INFO:root:Using data from SUBJECTS_DIR/MNIAverage\n",
      "INFO:root:Loading boundary element model from disk | MNIAverage_bem_0.33_0.0042_0.33_ico_4\n",
      "INFO:root:Reading volume source space from disk\n",
      "DEBUG:root:Generating discrete source space...\n",
      "DEBUG:qdarkstyle:Reading QSS file in: :qdarkstyle/dark/darkstyle.qss\n",
      "INFO:qdarkstyle:QSS file successfully loaded.\n",
      "DEBUG:qdarkstyle:Checking patches for being applied.\n",
      "INFO:qdarkstyle:Found version patches to be applied.\n",
      "INFO:qdarkstyle:Found application patches to be applied.\n",
      "/tmp/ipykernel_37369/2425860407.py:2: RuntimeWarning: Digitization points not found. Cannot plot digitization.\n",
      "  plot_alignment(bem=cerebra.mni_average.bem,mri_fiducials=cerebra.mni_average.fiducials, trans=trans, show_axes=True,dig=True, info = info, src=cerebra.src_space)\n"
     ]
    },
    {
     "data": {
      "text/plain": [
       "<mne.viz.backends._pyvista.PyVistaFigure at 0x7f7e3b98d510>"
      ]
     },
     "execution_count": 89,
     "metadata": {},
     "output_type": "execute_result"
    }
   ],
   "source": [
    "cerebra = CerebrA()\n",
    "plot_alignment(bem=cerebra.mni_average.bem,mri_fiducials=cerebra.mni_average.fiducials, trans=trans, show_axes=True,dig=True, info = info, src=cerebra.src_space)"
   ]
  },
  {
   "cell_type": "code",
   "execution_count": null,
   "metadata": {},
   "outputs": [],
   "source": []
  },
  {
   "cell_type": "code",
   "execution_count": 5,
   "metadata": {},
   "outputs": [
    {
     "data": {
      "text/plain": [
       "<SourceSpaces: [<discrete, n_used=19842>] MRI (surface RAS) coords, ~1.2 MB>"
      ]
     },
     "execution_count": 5,
     "metadata": {},
     "output_type": "execute_result"
    }
   ],
   "source": [
    "cerebra.src_space"
   ]
  },
  {
   "cell_type": "code",
   "execution_count": 10,
   "metadata": {},
   "outputs": [
    {
     "name": "stdout",
     "output_type": "stream",
     "text": [
      "    Triangle neighbors and vertex normals...\n",
      "Using low resolution head model in /home/carlos/Datasets/subjects/MNIAverage/bem/outer_skin.surf\n",
      "    Triangle neighbors and vertex normals...\n",
      "Estimating fiducials from fsaverage.\n",
      "    Triangle neighbors and vertex normals...\n",
      "Using low resolution head model in /home/carlos/Datasets/subjects/MNIAverage/bem/outer_skin.surf\n",
      "    Triangle neighbors and vertex normals...\n",
      "Estimating fiducials from fsaverage.\n",
      "Estimating fiducials from fsaverage.\n",
      "Placing MRI fiducials - LPA\n",
      "Using outer_skin.surf for head surface.\n",
      "Placing MRI fiducials - LPA\n"
     ]
    },
    {
     "data": {
      "text/plain": [
       "<mne.gui._coreg.CoregistrationUI at 0x7f7afea77880>"
      ]
     },
     "execution_count": 10,
     "metadata": {},
     "output_type": "execute_result"
    },
    {
     "name": "stdout",
     "output_type": "stream",
     "text": [
      "Placing MRI fiducials - LPA\n",
      "Placing MRI fiducials - LPA\n",
      "Using outer_skin.surf for head surface.\n",
      "Using outer_skin.surf for head surface.\n",
      "Using outer_skin.surf for head surface.\n",
      "Using outer_skin.surf for head surface.\n",
      "Using outer_skin.surf for head surface.\n",
      "Using outer_skin.surf for head surface.\n",
      "Using outer_skin.surf for head surface.\n",
      "Using outer_skin.surf for head surface.\n",
      "Using outer_skin.surf for head surface.\n",
      "Using outer_skin.surf for head surface.\n",
      "Using outer_skin.surf for head surface.\n",
      "Using outer_skin.surf for head surface.\n",
      "Placing MRI fiducials - NASION\n",
      "Using outer_skin.surf for head surface.\n",
      "Using outer_skin.surf for head surface.\n",
      "Placing MRI fiducials - RPA\n",
      "Using outer_skin.surf for head surface.\n",
      "Placing MRI fiducials - RPA\n",
      "Placing MRI fiducials - RPA\n",
      "Placing MRI fiducials - RPA\n",
      "Placing MRI fiducials - RPA\n",
      "Placing MRI fiducials - RPA\n",
      "Placing MRI fiducials - NASION\n"
     ]
    }
   ],
   "source": [
    "mne.gui.coregistration()"
   ]
  },
  {
   "cell_type": "code",
   "execution_count": 144,
   "metadata": {},
   "outputs": [
    {
     "data": {
      "text/plain": [
       "5"
      ]
     },
     "execution_count": 144,
     "metadata": {},
     "output_type": "execute_result"
    }
   ],
   "source": [
    "cerebra.mni_average.vol_src[0][\"coord_frame\"]"
   ]
  },
  {
   "cell_type": "code",
   "execution_count": 133,
   "metadata": {},
   "outputs": [
    {
     "data": {
      "text/plain": [
       "{'coord_frame': 5 (FIFFV_COORD_MRI),\n",
       " 'type': 'discrete',\n",
       " 'nuse': 19842,\n",
       " 'np': 19842,\n",
       " 'inuse': array([1, 1, 1, ..., 1, 1, 1]),\n",
       " 'vertno': array([    0,     1,     2, ..., 19839, 19840, 19841]),\n",
       " 'rr': array([[-0.0045005, -0.0574825, -0.0715185],\n",
       "        [ 0.0004995, -0.0574825, -0.0715185],\n",
       "        [ 0.0054995, -0.0574825, -0.0715185],\n",
       "        ...,\n",
       "        [-0.0045005, -0.0024825,  0.0884815],\n",
       "        [ 0.0004995, -0.0024825,  0.0884815],\n",
       "        [ 0.0054995, -0.0024825,  0.0884815]]),\n",
       " 'nn': array([[0., 0., 1.],\n",
       "        [0., 0., 1.],\n",
       "        [0., 0., 1.],\n",
       "        ...,\n",
       "        [0., 0., 1.],\n",
       "        [0., 0., 1.],\n",
       "        [0., 0., 1.]]),\n",
       " 'id': -1 (FIFFV_MNE_SURF_UNKNOWN),\n",
       " 'nearest': None,\n",
       " 'dist': None,\n",
       " 'use_tris': None,\n",
       " 'patch_inds': None,\n",
       " 'dist_limit': None,\n",
       " 'pinfo': None,\n",
       " 'ntri': 0,\n",
       " 'nearest_dist': None,\n",
       " 'nuse_tri': 0,\n",
       " 'tris': None,\n",
       " 'subject_his_id': None}"
      ]
     },
     "execution_count": 133,
     "metadata": {},
     "output_type": "execute_result"
    }
   ],
   "source": [
    "cerebra.src_space[0]"
   ]
  },
  {
   "cell_type": "code",
   "execution_count": 150,
   "metadata": {},
   "outputs": [
    {
     "name": "stderr",
     "output_type": "stream",
     "text": [
      "DEBUG:root:Value for variable default_data_path not provided in config.ini[CerebrA]. Defaulting to default_data_path=/home/carlos/Carlos/cerebra_atlas_python/cerebra_atlas_python/cerebra_data/cerebra\n",
      "DEBUG:root:Value for variable remove_empty_from_src_space not provided in config.ini[CerebrA]. Defaulting to remove_empty_from_src_space=True\n",
      "DEBUG:root:Value for variable default_data_path not provided in config.ini[MNIAverage]. Defaulting to default_data_path=/home/carlos/Carlos/cerebra_atlas_python/cerebra_atlas_python/cerebra_data/MNIAverage\n",
      "INFO:root:Using data from SUBJECTS_DIR/MNIAverage\n",
      "INFO:root:Loading boundary element model from disk | MNIAverage_bem_0.33_0.0042_0.33_ico_4\n"
     ]
    },
    {
     "name": "stderr",
     "output_type": "stream",
     "text": [
      "INFO:root:Reading volume source space from disk\n",
      "DEBUG:root:Generating discrete source space...\n",
      "DEBUG:qdarkstyle:Reading QSS file in: :qdarkstyle/dark/darkstyle.qss\n",
      "INFO:qdarkstyle:QSS file successfully loaded.\n",
      "DEBUG:qdarkstyle:Checking patches for being applied.\n",
      "INFO:qdarkstyle:Found version patches to be applied.\n",
      "INFO:qdarkstyle:Found application patches to be applied.\n"
     ]
    },
    {
     "data": {
      "text/plain": [
       "<mne.viz.backends._pyvista.PyVistaFigure at 0x7f7e519c41f0>"
      ]
     },
     "execution_count": 150,
     "metadata": {},
     "output_type": "execute_result"
    }
   ],
   "source": [
    "cerebra = CerebrA()\n",
    "\n",
    "sampling_freq = 500\n",
    "\n",
    "montage = get_standard_montage()\n",
    "kept_ch_names = montage.ch_names\n",
    "info = mne.create_info(kept_ch_names, 500, ch_types='eeg', verbose=False)\n",
    "info.set_montage(montage)\n",
    "\n",
    "coreg=mne.coreg.Coregistration(\n",
    "        info,\n",
    "        \"MNIAverage\",\n",
    "        fiducials=cerebra.mni_average.fiducials,\n",
    "    )\n",
    "\n",
    "coreg.fit_icp(n_iterations=10)\n",
    "\n",
    "# cerebra.src_space = mne.transforms.apply_trans(coreg.trans, cerebra.src_space)\n",
    "\n",
    "forward = mne.make_forward_solution(\n",
    "                info,\n",
    "                trans=None,\n",
    "                src=cerebra.src_space,\n",
    "                bem=cerebra.mni_average.bem,\n",
    "                meg=False,\n",
    "                eeg=True,\n",
    "                n_jobs=-1,\n",
    "            )\n",
    "\n",
    "\n",
    "    # self.coreg.trans = trans\n",
    "# \n",
    "mne.viz.plot_alignment(bem=cerebra.mni_average.bem,mri_fiducials=cerebra.mni_average.fiducials, trans=coreg.trans, show_axes=True,dig=True, info = info, src=cerebra.src_space)"
   ]
  }
 ],
 "metadata": {
  "kernelspec": {
   "display_name": "phd",
   "language": "python",
   "name": "python3"
  },
  "language_info": {
   "codemirror_mode": {
    "name": "ipython",
    "version": 3
   },
   "file_extension": ".py",
   "mimetype": "text/x-python",
   "name": "python",
   "nbconvert_exporter": "python",
   "pygments_lexer": "ipython3",
   "version": "3.10.13"
  }
 },
 "nbformat": 4,
 "nbformat_minor": 2
}
