{
 "cells": [
  {
   "cell_type": "code",
   "execution_count": 11,
   "metadata": {},
   "outputs": [
    {
     "name": "stderr",
     "output_type": "stream",
     "text": [
      " [DEBUG] 2023-09-11 18:01:05.260 pyplot - switch_backend: Loaded backend Qt5Agg version unknown.\n"
     ]
    },
    {
     "name": "stdout",
     "output_type": "stream",
     "text": [
      "The autoreload extension is already loaded. To reload it, use:\n",
      "  %reload_ext autoreload\n"
     ]
    }
   ],
   "source": [
    "%load_ext autoreload\n",
    "%autoreload 2\n",
    "%matplotlib qt\n",
    "import os\n",
    "import sys\n",
    "import mne\n",
    "nb_dir = os.path.split(os.getcwd())[0]\n",
    "if nb_dir not in sys.path:\n",
    "    sys.path.append(nb_dir)\n",
    "    "
   ]
  },
  {
   "cell_type": "code",
   "execution_count": 3,
   "metadata": {},
   "outputs": [],
   "source": [
    "import numpy as np\n",
    "import matplotlib.pyplot as plt\n",
    "from cerebra_atlas_python.cerebra import CerebrA, setup_logging"
   ]
  },
  {
   "cell_type": "code",
   "execution_count": 4,
   "metadata": {},
   "outputs": [
    {
     "data": {
      "text/plain": [
       "<mpl_toolkits.mplot3d.art3d.Path3DCollection at 0x7f6be8b7ffd0>"
      ]
     },
     "execution_count": 4,
     "metadata": {},
     "output_type": "execute_result"
    }
   ],
   "source": [
    "xs, ys, zs = np.indices((32, 16, 32))\n",
    "xs, ys, zs = xs*8, ys*8, zs*8\n",
    "ax = plt.figure().add_subplot(projection='3d')\n",
    "\n",
    "# ax.scatter(xs,ys,zs)"
   ]
  },
  {
   "cell_type": "code",
   "execution_count": 101,
   "metadata": {},
   "outputs": [],
   "source": [
    "setup_logging()\n",
    "cerebra = CerebrA()"
   ]
  },
  {
   "cell_type": "code",
   "execution_count": 21,
   "metadata": {},
   "outputs": [
    {
     "data": {
      "text/plain": [
       "((256, 256, 256), 0.0, 103.0)"
      ]
     },
     "execution_count": 21,
     "metadata": {},
     "output_type": "execute_result"
    }
   ],
   "source": [
    "cerebra.volume_data.shape, cerebra.volume_data.min(), cerebra.volume_data.max()"
   ]
  },
  {
   "cell_type": "code",
   "execution_count": 22,
   "metadata": {},
   "outputs": [],
   "source": [
    "import matplotlib.pyplot as plt\n",
    "\n",
    "def get_cmap(n, name='hsv'):\n",
    "    '''Returns a function that maps each index in 0, 1, ..., n-1 to a distinct \n",
    "    RGB color; the keyword argument name must be a standard mpl colormap name.'''\n",
    "    return plt.cm.get_cmap(name, n)"
   ]
  },
  {
   "cell_type": "code",
   "execution_count": 26,
   "metadata": {},
   "outputs": [
    {
     "data": {
      "text/plain": [
       "(256, 256, 256)"
      ]
     },
     "execution_count": 26,
     "metadata": {},
     "output_type": "execute_result"
    }
   ],
   "source": [
    "vol_data.shape"
   ]
  },
  {
   "cell_type": "code",
   "execution_count": 87,
   "metadata": {},
   "outputs": [
    {
     "data": {
      "text/plain": [
       "array([[[0., 0., 0., ..., 0., 0., 0.],\n",
       "        [0., 0., 0., ..., 0., 0., 0.],\n",
       "        [0., 0., 0., ..., 0., 0., 0.],\n",
       "        ...,\n",
       "        [0., 0., 0., ..., 0., 0., 0.],\n",
       "        [0., 0., 0., ..., 0., 0., 0.],\n",
       "        [0., 0., 0., ..., 0., 0., 0.]],\n",
       "\n",
       "       [[0., 0., 0., ..., 0., 0., 0.],\n",
       "        [0., 0., 0., ..., 0., 0., 0.],\n",
       "        [0., 0., 0., ..., 0., 0., 0.],\n",
       "        ...,\n",
       "        [0., 0., 0., ..., 0., 0., 0.],\n",
       "        [0., 0., 0., ..., 0., 0., 0.],\n",
       "        [0., 0., 0., ..., 0., 0., 0.]],\n",
       "\n",
       "       [[0., 0., 0., ..., 0., 0., 0.],\n",
       "        [0., 0., 0., ..., 0., 0., 0.],\n",
       "        [0., 0., 0., ..., 0., 0., 0.],\n",
       "        ...,\n",
       "        [0., 0., 0., ..., 0., 0., 0.],\n",
       "        [0., 0., 0., ..., 0., 0., 0.],\n",
       "        [0., 0., 0., ..., 0., 0., 0.]],\n",
       "\n",
       "       ...,\n",
       "\n",
       "       [[0., 0., 0., ..., 0., 0., 0.],\n",
       "        [0., 0., 0., ..., 0., 0., 0.],\n",
       "        [0., 0., 0., ..., 0., 0., 0.],\n",
       "        ...,\n",
       "        [0., 0., 0., ..., 0., 0., 0.],\n",
       "        [0., 0., 0., ..., 0., 0., 0.],\n",
       "        [0., 0., 0., ..., 0., 0., 0.]],\n",
       "\n",
       "       [[0., 0., 0., ..., 0., 0., 0.],\n",
       "        [0., 0., 0., ..., 0., 0., 0.],\n",
       "        [0., 0., 0., ..., 0., 0., 0.],\n",
       "        ...,\n",
       "        [0., 0., 0., ..., 0., 0., 0.],\n",
       "        [0., 0., 0., ..., 0., 0., 0.],\n",
       "        [0., 0., 0., ..., 0., 0., 0.]],\n",
       "\n",
       "       [[0., 0., 0., ..., 0., 0., 0.],\n",
       "        [0., 0., 0., ..., 0., 0., 0.],\n",
       "        [0., 0., 0., ..., 0., 0., 0.],\n",
       "        ...,\n",
       "        [0., 0., 0., ..., 0., 0., 0.],\n",
       "        [0., 0., 0., ..., 0., 0., 0.],\n",
       "        [0., 0., 0., ..., 0., 0., 0.]]], dtype=float32)"
      ]
     },
     "execution_count": 87,
     "metadata": {},
     "output_type": "execute_result"
    }
   ],
   "source": [
    "cerebra.volume_data"
   ]
  },
  {
   "cell_type": "code",
   "execution_count": 92,
   "metadata": {},
   "outputs": [
    {
     "data": {
      "text/plain": [
       "Text(0, 0.5, 'Y (A-P)')"
      ]
     },
     "execution_count": 92,
     "metadata": {},
     "output_type": "execute_result"
    }
   ],
   "source": [
    "import matplotlib.pyplot as plt\n",
    "import random\n",
    "import matplotlib.colors\n",
    "from einops import rearrange\n",
    "\n",
    "ax = plt.figure().add_subplot()\n",
    "\n",
    "ys = []\n",
    "zs = []\n",
    "cs = []\n",
    "\n",
    "norm=plt.Normalize(0,102)\n",
    "cmap = get_cmap(102)\n",
    "\n",
    "vol_data = cerebra.volume_data\n",
    "\n",
    "vol_data = np.rot90(vol_data,-1, axes=(1,2))\n",
    "# np.fliplr = \n",
    "\n",
    "\n",
    "for y in range(0,256,1):\n",
    "    for z in range(0,256,1):\n",
    "        x=120\n",
    "        if vol_data[x,y,z] != 0 and vol_data[x,y,z] != 103 :\n",
    "            ys.append(y)\n",
    "            zs.append(z)\n",
    "            cs.append(vol_data[x,y,z])\n",
    "\n",
    "ax.scatter(zs,ys,c=cs,cmap=cmap)\n",
    "ax.set_xlabel(\"Z (S-I)\")\n",
    "ax.set_ylabel(\"Y (A-P)\")\n",
    "\n"
   ]
  },
  {
   "cell_type": "code",
   "execution_count": 103,
   "metadata": {},
   "outputs": [
    {
     "data": {
      "text/plain": [
       "(0.0, 256.0)"
      ]
     },
     "execution_count": 103,
     "metadata": {},
     "output_type": "execute_result"
    }
   ],
   "source": [
    "import matplotlib.pyplot as plt\n",
    "import random\n",
    "import matplotlib.colors\n",
    "from einops import rearrange\n",
    "ax = plt.figure().add_subplot(projection='3d')\n",
    "\n",
    "xs = []\n",
    "ys = []\n",
    "zs = []\n",
    "cs = []\n",
    "\n",
    "norm=plt.Normalize(0,102)\n",
    "cmap = get_cmap(102)\n",
    "\n",
    "vol_data = cerebra.volume_data\n",
    "# vol_data = scipy.ndimage.rotate(cerebra.volume_data,90,(0,1))\n",
    "# vol data is in LIA ([R-L][S-I][A-P])\n",
    "# move to LAI ([R-L][A-P][S-I])\n",
    "# vol_data_I = vol_data[:,:,:]\n",
    "\n",
    "# vol_data = rearrange(vol_data, 'a b c -> a c b')\n",
    "\n",
    "# vol_data = np.rot90(vol_data)\n",
    "\n",
    "# vol_data = np.fliplr(vol_data)\n",
    "\n",
    "# print(vol_data)\n",
    "\n",
    "# vol_data = np.flip(vol_data, axis=2)\n",
    "\n",
    "# vol_data = np.rot90(vol_data,-1, axes=(1,2))\n",
    "\n",
    "# vol_data = np.rot90(vol_data, 2, axes=(0,1))\n",
    "\n",
    "\n",
    "for x in range(0,256,4):\n",
    "    for y in range(0,256,4):\n",
    "        for z in range(0,256,4):\n",
    "            if vol_data[x,y,z] != 0  : #and vol_data[x,y,z] != 103\n",
    "                xs.append(x)\n",
    "                ys.append(y)\n",
    "                zs.append(z)\n",
    "                cs.append(vol_data[x,y,z])\n",
    "\n",
    "ax.scatter(xs,ys,zs,c=cs,cmap=cmap)\n",
    "ax.set_xlabel(\"X (L-R)\")\n",
    "ax.set_ylabel(\"Y (A-P)\")\n",
    "ax.set_zlabel(\"Z (S-I)\")\n",
    "\n",
    "ax.set_xlim([0,256])\n",
    "ax.set_ylim([0,256])\n",
    "ax.set_zlim([0,256])\n"
   ]
  },
  {
   "cell_type": "code",
   "execution_count": 17,
   "metadata": {},
   "outputs": [
    {
     "data": {
      "text/plain": [
       "Text(0.5, 0, 'Z')"
      ]
     },
     "execution_count": 17,
     "metadata": {},
     "output_type": "execute_result"
    }
   ],
   "source": [
    "import matplotlib.pyplot as plt\n",
    "import random\n",
    "import matplotlib.colors\n",
    "ax = plt.figure().add_subplot(projection='3d')\n",
    "\n",
    "xs = []\n",
    "ys = []\n",
    "zs = []\n",
    "cs = []\n",
    "\n",
    "norm=plt.Normalize(0,102)\n",
    "cmap = get_cmap(102)\n",
    "\n",
    "vol_data = np.rot90(vol_data,-1, axes=(1,2))\n",
    "\n",
    "for x in range(80,180,4):\n",
    "    for y in range(80,200,4):\n",
    "        for z in range(50,200,4):\n",
    "            if cerebra.volume_data[x,y,z] == 0 and random.uniform(0,1)>0.7:\n",
    "                xs.append(x)\n",
    "                ys.append(y)\n",
    "                zs.append(z)\n",
    "                cs.append(cerebra.volume_data[x,y,z])\n",
    "\n",
    "ax.scatter(xs,ys,zs,c=cs,cmap=cmap)\n",
    "ax.set_xlabel(\"X\")\n",
    "ax.set_ylabel(\"Y\")\n",
    "ax.set_zlabel(\"Z\")"
   ]
  }
 ],
 "metadata": {
  "kernelspec": {
   "display_name": "torchEnv",
   "language": "python",
   "name": "torchenv"
  },
  "language_info": {
   "codemirror_mode": {
    "name": "ipython",
    "version": 3
   },
   "file_extension": ".py",
   "mimetype": "text/x-python",
   "name": "python",
   "nbconvert_exporter": "python",
   "pygments_lexer": "ipython3",
   "version": "3.9.13"
  }
 },
 "nbformat": 4,
 "nbformat_minor": 4
}
