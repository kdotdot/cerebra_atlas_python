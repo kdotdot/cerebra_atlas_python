{
 "cells": [
  {
   "cell_type": "code",
   "execution_count": null,
   "metadata": {},
   "outputs": [],
   "source": [
    "%load_ext autoreload\n",
    "%autoreload 2\n",
    "%matplotlib qt\n",
    "import os\n",
    "import sys\n",
    "nb_dir = os.path.split(os.getcwd())[0]\n",
    "if nb_dir not in sys.path:\n",
    "    sys.path.append(nb_dir)\n",
    "    "
   ]
  },
  {
   "cell_type": "code",
   "execution_count": null,
   "metadata": {},
   "outputs": [],
   "source": [
    "import numpy as np\n",
    "import matplotlib.pyplot as plt\n",
    "from cerebra_atlas_python.cerebra import CerebrA, setup_logging"
   ]
  },
  {
   "cell_type": "code",
   "execution_count": 3,
   "metadata": {},
   "outputs": [
    {
     "data": {
      "text/plain": [
       "<mpl_toolkits.mplot3d.art3d.Path3DCollection at 0x7f8606029250>"
      ]
     },
     "execution_count": 3,
     "metadata": {},
     "output_type": "execute_result"
    }
   ],
   "source": [
    "xs, ys, zs = np.indices((32, 16, 32))\n",
    "xs, ys, zs = xs*8, ys*8, zs*8\n",
    "ax = plt.figure().add_subplot(projection='3d')\n",
    "\n",
    "ax.scatter(xs,ys,zs)"
   ]
  },
  {
   "cell_type": "code",
   "execution_count": 11,
   "metadata": {},
   "outputs": [],
   "source": [
    "setup_logging()\n",
    "cerebra = CerebrA()"
   ]
  },
  {
   "cell_type": "code",
   "execution_count": 6,
   "metadata": {},
   "outputs": [
    {
     "data": {
      "text/plain": [
       "((256, 256, 256), 0.0, 103.0)"
      ]
     },
     "execution_count": 6,
     "metadata": {},
     "output_type": "execute_result"
    }
   ],
   "source": [
    "cerebra.volume_data.shape, cerebra.volume_data.min(), cerebra.volume_data.max()"
   ]
  },
  {
   "cell_type": "code",
   "execution_count": 7,
   "metadata": {},
   "outputs": [],
   "source": [
    "import matplotlib.pyplot as plt\n",
    "\n",
    "def get_cmap(n, name='hsv'):\n",
    "    '''Returns a function that maps each index in 0, 1, ..., n-1 to a distinct \n",
    "    RGB color; the keyword argument name must be a standard mpl colormap name.'''\n",
    "    return plt.cm.get_cmap(name, n)"
   ]
  },
  {
   "cell_type": "code",
   "execution_count": null,
   "metadata": {},
   "outputs": [],
   "source": [
    "import matplotlib.pyplot as plt\n",
    "import random\n",
    "import matplotlib.colors\n",
    "ax = plt.figure().add_subplot(projection='3d')\n",
    "\n",
    "xs = []\n",
    "ys = []\n",
    "zs = []\n",
    "cs = []\n",
    "\n",
    "norm=plt.Normalize(0,102)\n",
    "cmap = get_cmap(102)\n",
    "\n",
    "for x in range(0,256,1):\n",
    "    for y in range(0,256,1):\n",
    "        for z in range(0,256,1):\n",
    "            if cerebra.volume_data[x,y,z] != 0 :\n",
    "                xs.append(x)\n",
    "                ys.append(y)\n",
    "                zs.append(z)\n",
    "                cs.append(cerebra.volume_data[x,y,z])\n",
    "\n",
    "ax.scatter(xs,ys,zs,c=cs,cmap=cmap)\n",
    "ax.set_xlabel(\"X\")\n",
    "ax.set_ylabel(\"Y\")\n",
    "ax.set_zlabel(\"Z\")\n",
    "\n"
   ]
  },
  {
   "cell_type": "code",
   "execution_count": 17,
   "metadata": {},
   "outputs": [
    {
     "data": {
      "text/plain": [
       "Text(0.5, 0, 'Z')"
      ]
     },
     "execution_count": 17,
     "metadata": {},
     "output_type": "execute_result"
    }
   ],
   "source": [
    "import matplotlib.pyplot as plt\n",
    "import random\n",
    "import matplotlib.colors\n",
    "ax = plt.figure().add_subplot(projection='3d')\n",
    "\n",
    "xs = []\n",
    "ys = []\n",
    "zs = []\n",
    "cs = []\n",
    "\n",
    "norm=plt.Normalize(0,102)\n",
    "cmap = get_cmap(102)\n",
    "\n",
    "for x in range(80,180,4):\n",
    "    for y in range(80,200,4):\n",
    "        for z in range(50,200,4):\n",
    "            if cerebra.volume_data[x,y,z] == 0 and random.uniform(0,1)>0.7:\n",
    "                xs.append(x)\n",
    "                ys.append(y)\n",
    "                zs.append(z)\n",
    "                cs.append(cerebra.volume_data[x,y,z])\n",
    "\n",
    "ax.scatter(xs,ys,zs,c=cs,cmap=cmap)\n",
    "ax.set_xlabel(\"X\")\n",
    "ax.set_ylabel(\"Y\")\n",
    "ax.set_zlabel(\"Z\")"
   ]
  }
 ],
 "metadata": {
  "kernelspec": {
   "display_name": "torchEnv",
   "language": "python",
   "name": "torchenv"
  },
  "language_info": {
   "codemirror_mode": {
    "name": "ipython",
    "version": 3
   },
   "file_extension": ".py",
   "mimetype": "text/x-python",
   "name": "python",
   "nbconvert_exporter": "python",
   "pygments_lexer": "ipython3",
   "version": "3.9.13"
  }
 },
 "nbformat": 4,
 "nbformat_minor": 2
}
